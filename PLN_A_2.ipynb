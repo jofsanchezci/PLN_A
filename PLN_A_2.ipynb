{
  "nbformat": 4,
  "nbformat_minor": 0,
  "metadata": {
    "colab": {
      "provenance": []
    },
    "kernelspec": {
      "name": "python3",
      "display_name": "Python 3"
    },
    "language_info": {
      "name": "python"
    }
  },
  "cells": [
    {
      "cell_type": "markdown",
      "source": [
        "**Sentiment Analysis using VADER**\n",
        "\n",
        "\n",
        "[Enlace](https://www.geeksforgeeks.org/python-sentiment-analysis-using-vader/)"
      ],
      "metadata": {
        "id": "rl1Yd7klIcFu"
      }
    },
    {
      "cell_type": "markdown",
      "source": [
        "El análisis de sentimiento es el proceso de determinar \"computacionalmente\" si un escrito es positivo, negativo o neutro. También se conoce como minería de opiniones, que permite deducir la opinión o actitud de un hablante.\n",
        "\n",
        "**Por qué el análisis de sentimientos?**\n",
        "\n",
        "\n",
        "\n",
        "\n",
        "*   Para los negocios: en el campo del marketing, las empresas lo utilizan para desarrollar sus estrategias, comprender los sentimientos de los clientes hacia los productos o la marca, cómo responde la gente a sus campañas o lanzamientos de productos y por qué los consumidores no compran algunos productos.\n",
        "*   Política: en el ámbito político, se utiliza para hacer un seguimiento de la opinión política, detectar la coherencia y la incoherencia entre las declaraciones y las acciones a nivel gubernamental. También puede utilizarse para predecir los resultados electorales.\n",
        "* Acciones públicas: el análisis del sentimiento también se utiliza para seguir y analizar fenómenos sociales, detectar situaciones potencialmente peligrosas y determinar el estado de ánimo general de la blogosfera.\n",
        "\n",
        "\n",
        "\n",
        "\n"
      ],
      "metadata": {
        "id": "kabGN-fGI0PE"
      }
    },
    {
      "cell_type": "code",
      "execution_count": 1,
      "metadata": {
        "colab": {
          "base_uri": "https://localhost:8080/"
        },
        "id": "5-Q71BSXIU2a",
        "outputId": "b64ce459-8f41-467a-aa77-17a532bd968a"
      },
      "outputs": [
        {
          "output_type": "stream",
          "name": "stdout",
          "text": [
            "Collecting vaderSentiment\n",
            "  Downloading vaderSentiment-3.3.2-py2.py3-none-any.whl (125 kB)\n",
            "\u001b[?25l     \u001b[90m━━━━━━━━━━━━━━━━━━━━━━━━━━━━━━━━━━━━━━━━\u001b[0m \u001b[32m0.0/126.0 kB\u001b[0m \u001b[31m?\u001b[0m eta \u001b[36m-:--:--\u001b[0m\r\u001b[2K     \u001b[90m━━━━━━━━━━━━━━━━━━━━━━━━━━━━━━━━━━━━━━━\u001b[0m \u001b[32m126.0/126.0 kB\u001b[0m \u001b[31m5.6 MB/s\u001b[0m eta \u001b[36m0:00:00\u001b[0m\n",
            "\u001b[?25hRequirement already satisfied: requests in /usr/local/lib/python3.10/dist-packages (from vaderSentiment) (2.27.1)\n",
            "Requirement already satisfied: urllib3<1.27,>=1.21.1 in /usr/local/lib/python3.10/dist-packages (from requests->vaderSentiment) (1.26.16)\n",
            "Requirement already satisfied: certifi>=2017.4.17 in /usr/local/lib/python3.10/dist-packages (from requests->vaderSentiment) (2023.5.7)\n",
            "Requirement already satisfied: charset-normalizer~=2.0.0 in /usr/local/lib/python3.10/dist-packages (from requests->vaderSentiment) (2.0.12)\n",
            "Requirement already satisfied: idna<4,>=2.5 in /usr/local/lib/python3.10/dist-packages (from requests->vaderSentiment) (3.4)\n",
            "Installing collected packages: vaderSentiment\n",
            "Successfully installed vaderSentiment-3.3.2\n"
          ]
        }
      ],
      "source": [
        "!pip install vaderSentiment"
      ]
    },
    {
      "cell_type": "markdown",
      "source": [
        "\n",
        "**Análisis de sentimientos VADER**\n",
        "\n",
        "VADER (*Valence Aware Dictionary and sEntiment Reasoner*) es una herramienta de análisis de sentimientos basada en léxicos y reglas que se adapta específicamente a los sentimientos expresados en las redes sociales.\n",
        "\n",
        "VADER utiliza una combinación de Un léxico de sentimientos es una lista de características léxicas (por ejemplo, palabras) que suelen etiquetarse según su orientación semántica como positivas o negativas. VADER no sólo nos informa de la puntuación de positividad y negatividad, sino también de lo positivo o negativo que es un sentimiento.\n",
        "\n"
      ],
      "metadata": {
        "id": "nMB-4IiNJsO4"
      }
    },
    {
      "cell_type": "code",
      "source": [
        "from vaderSentiment.vaderSentiment import SentimentIntensityAnalyzer\n",
        "\n",
        "\n",
        "def sentiment_scores(sentence):\n",
        "\n",
        "\t# Crea un objeto SentimentIntensityAnalyzer.\n",
        "\tsid_obj = SentimentIntensityAnalyzer()\n",
        "\n",
        "\t# método polarity_scores de SentimentIntensityAnalyzer\n",
        "\t# El objeto da un diccionario de sentimiento.\n",
        "\t# que contiene puntuaciones pos, neg, neu y compuestas.\n",
        "\tsentiment_dict = sid_obj.polarity_scores(sentence)\n",
        "\n",
        "\tprint(\"El diccionario general de sentimientos es : \", sentiment_dict)\n",
        "\tprint(\"sentencia fue calificada como: \", sentiment_dict['neg']*100, \"% Negativo\")\n",
        "\tprint(\"sentencia fue calificada como: \", sentiment_dict['neu']*100, \"% Neutral\")\n",
        "\tprint(\"sentencia fue calificada como: \", sentiment_dict['pos']*100, \"% Positivo\")\n",
        "\n",
        "\tprint(\"La oración es de forma\", end = \" \")\n",
        "\n",
        "\t# decidir el sentimiento como positivo, negativo y neutro\n",
        "\tif sentiment_dict['compound'] >= 0.05 :\n",
        "\t\tprint(\"Positivo\")\n",
        "\n",
        "\telif sentiment_dict['compound'] <= - 0.05 :\n",
        "\t\tprint(\"Negativo\")\n",
        "\n",
        "\telse :\n",
        "\t\tprint(\"Neutral\")\n"
      ],
      "metadata": {
        "id": "NSQpKEwcKNsT"
      },
      "execution_count": 2,
      "outputs": []
    },
    {
      "cell_type": "code",
      "source": [
        "def sentiment_scores_2(sentence):\n",
        "  sid_obj = SentimentIntensityAnalyzer()\n",
        "  sentiment_dict = sid_obj.polarity_scores(sentence)\n",
        "  #print(\"La oración es de forma\", end = \" \")\n",
        "  if sentiment_dict['compound'] >= 0.05 :\n",
        "    return \"Positivo\"\n",
        "  elif sentiment_dict['compound'] <= - 0.05 :\n",
        "    return \"Negativo\"\n",
        "  else :\n",
        "    return \"Neutral\"\n",
        "\n"
      ],
      "metadata": {
        "id": "WNJ_s_xw7k9o"
      },
      "execution_count": 3,
      "outputs": []
    },
    {
      "cell_type": "code",
      "source": [
        "#Esta función trae el compund de las oraciones\n",
        "def sentiment_scores_3(sentence):\n",
        "  sid_obj = SentimentIntensityAnalyzer()\n",
        "  sentiment_dict = sid_obj.polarity_scores(sentence)\n",
        "  return sentiment_dict['compound']\n"
      ],
      "metadata": {
        "id": "o3gCckuL8zA8"
      },
      "execution_count": 4,
      "outputs": []
    },
    {
      "cell_type": "code",
      "source": [
        "print(\"\\n1nd sentencia :\")\n",
        "sentence = \"Geeks For Geeks is the best portal for \\\n",
        "\t\t\t\tthe computer science engineering students.\"\n",
        "\n",
        "sentiment_scores_2(sentence)"
      ],
      "metadata": {
        "colab": {
          "base_uri": "https://localhost:8080/",
          "height": 71
        },
        "id": "MmSKcTe88KMs",
        "outputId": "8140efa9-0bfe-4e2d-abfe-106cdf2663a9"
      },
      "execution_count": 5,
      "outputs": [
        {
          "output_type": "stream",
          "name": "stdout",
          "text": [
            "\n",
            "1nd sentencia :\n"
          ]
        },
        {
          "output_type": "execute_result",
          "data": {
            "text/plain": [
              "'Positivo'"
            ],
            "application/vnd.google.colaboratory.intrinsic+json": {
              "type": "string"
            }
          },
          "metadata": {},
          "execution_count": 5
        }
      ]
    },
    {
      "cell_type": "code",
      "source": [
        "print(\"\\n1nd sentencia :\")\n",
        "sentence = \"Geeks For Geeks is the best portal for \\\n",
        "\t\t\t\tthe computer science engineering students.\"\n",
        "sentiment_scores_3(sentence)"
      ],
      "metadata": {
        "colab": {
          "base_uri": "https://localhost:8080/"
        },
        "id": "4-BQzcMJ87Xj",
        "outputId": "5175be86-2c85-4465-d64e-d5864b855430"
      },
      "execution_count": 6,
      "outputs": [
        {
          "output_type": "stream",
          "name": "stdout",
          "text": [
            "\n",
            "1nd sentencia :\n"
          ]
        },
        {
          "output_type": "execute_result",
          "data": {
            "text/plain": [
              "0.5267"
            ]
          },
          "metadata": {},
          "execution_count": 6
        }
      ]
    },
    {
      "cell_type": "code",
      "source": [
        "print(\"\\n1nd sentencia :\")\n",
        "sentence = \"Geeks For Geeks is the best portal for \\\n",
        "\t\t\t\tthe computer science engineering students.\"\n",
        "\n",
        "#llamamos la función\n",
        "sentiment_scores(sentence)\n"
      ],
      "metadata": {
        "colab": {
          "base_uri": "https://localhost:8080/"
        },
        "id": "eI1DvwhCK9ih",
        "outputId": "99ddc59d-c431-4317-a29c-b2fb30e3f0b2"
      },
      "execution_count": 7,
      "outputs": [
        {
          "output_type": "stream",
          "name": "stdout",
          "text": [
            "\n",
            "1nd sentencia :\n",
            "El diccionario general de sentimientos es :  {'neg': 0.165, 'neu': 0.588, 'pos': 0.247, 'compound': 0.5267}\n",
            "sentencia fue calificada como:  16.5 % Negativo\n",
            "sentencia fue calificada como:  58.8 % Neutral\n",
            "sentencia fue calificada como:  24.7 % Positivo\n",
            "La oración es de forma Positivo\n"
          ]
        }
      ]
    },
    {
      "cell_type": "code",
      "source": [
        "sentence = \"Geeks For Geeks is the best portal for \\\n",
        "\t\t\t\tthe computer science engineering students.\"\n",
        "sentiment_scores_2(sentence)\n"
      ],
      "metadata": {
        "colab": {
          "base_uri": "https://localhost:8080/",
          "height": 36
        },
        "id": "gLeB3K5tDjzk",
        "outputId": "fea92e34-ad8c-4970-b9d4-a92ad93fef5a"
      },
      "execution_count": 8,
      "outputs": [
        {
          "output_type": "execute_result",
          "data": {
            "text/plain": [
              "'Positivo'"
            ],
            "application/vnd.google.colaboratory.intrinsic+json": {
              "type": "string"
            }
          },
          "metadata": {},
          "execution_count": 8
        }
      ]
    },
    {
      "cell_type": "code",
      "source": [
        "print(\"\\n2nd sentencia :\")\n",
        "sentence = \"study is going on as usual\"\n",
        "sentiment_scores(sentence)\n",
        "\n"
      ],
      "metadata": {
        "colab": {
          "base_uri": "https://localhost:8080/"
        },
        "id": "HwktOMnqzcwS",
        "outputId": "93fa3868-876b-4e6f-f8ef-07958b298997"
      },
      "execution_count": 9,
      "outputs": [
        {
          "output_type": "stream",
          "name": "stdout",
          "text": [
            "\n",
            "2nd sentencia :\n",
            "El diccionario general de sentimientos es :  {'neg': 0.0, 'neu': 1.0, 'pos': 0.0, 'compound': 0.0}\n",
            "sentencia fue calificada como:  0.0 % Negativo\n",
            "sentencia fue calificada como:  100.0 % Neutral\n",
            "sentencia fue calificada como:  0.0 % Positivo\n",
            "La oración es de forma Neutral\n"
          ]
        }
      ]
    },
    {
      "cell_type": "code",
      "source": [
        "print(\"\\n3rd sentencia :\")\n",
        "sentence = \"I am very sad today.\"\n",
        "sentiment_scores(sentence)\n"
      ],
      "metadata": {
        "colab": {
          "base_uri": "https://localhost:8080/"
        },
        "id": "P0VjMFj7zeTf",
        "outputId": "62357632-6b98-44ef-ee7a-f37fd1c10836"
      },
      "execution_count": 10,
      "outputs": [
        {
          "output_type": "stream",
          "name": "stdout",
          "text": [
            "\n",
            "3rd sentencia :\n",
            "El diccionario general de sentimientos es :  {'neg': 0.459, 'neu': 0.541, 'pos': 0.0, 'compound': -0.5256}\n",
            "sentencia fue calificada como:  45.9 % Negativo\n",
            "sentencia fue calificada como:  54.1 % Neutral\n",
            "sentencia fue calificada como:  0.0 % Positivo\n",
            "La oración es de forma Negativo\n"
          ]
        }
      ]
    },
    {
      "cell_type": "code",
      "source": [
        "#Usando en español\n",
        "print(\"\\n4rd sentencia :\")\n",
        "sentence='el estudio sigue como siempre'\n",
        "sentiment_scores(sentence)"
      ],
      "metadata": {
        "colab": {
          "base_uri": "https://localhost:8080/"
        },
        "id": "260OVejkzfev",
        "outputId": "c7738834-9675-479f-8b40-30d9a4c3284a"
      },
      "execution_count": 11,
      "outputs": [
        {
          "output_type": "stream",
          "name": "stdout",
          "text": [
            "\n",
            "4rd sentencia :\n",
            "El diccionario general de sentimientos es :  {'neg': 0.0, 'neu': 1.0, 'pos': 0.0, 'compound': 0.0}\n",
            "sentencia fue calificada como:  0.0 % Negativo\n",
            "sentencia fue calificada como:  100.0 % Neutral\n",
            "sentencia fue calificada como:  0.0 % Positivo\n",
            "La oración es de forma Neutral\n"
          ]
        }
      ]
    },
    {
      "cell_type": "code",
      "source": [
        "print(\"\\n5rd sentencia :\")\n",
        "sentence = \"Hoy estoy muy triste.\"\n",
        "sentiment_scores(sentence)"
      ],
      "metadata": {
        "colab": {
          "base_uri": "https://localhost:8080/"
        },
        "id": "5WGn4Ycy1U6I",
        "outputId": "2cb5f05e-51e6-46a8-9bbb-a1a2cf801b5d"
      },
      "execution_count": 12,
      "outputs": [
        {
          "output_type": "stream",
          "name": "stdout",
          "text": [
            "\n",
            "5rd sentencia :\n",
            "El diccionario general de sentimientos es :  {'neg': 0.0, 'neu': 1.0, 'pos': 0.0, 'compound': 0.0}\n",
            "sentencia fue calificada como:  0.0 % Negativo\n",
            "sentencia fue calificada como:  100.0 % Neutral\n",
            "sentencia fue calificada como:  0.0 % Positivo\n",
            "La oración es de forma Neutral\n"
          ]
        }
      ]
    },
    {
      "cell_type": "code",
      "source": [
        "print(\"\\n6rd sentencia :\")\n",
        "sentence = \"Geeks For Geeks es el mejor portal para \\\n",
        "\t\t\t\tlos estudiantes de ingeniería informática\"\n",
        "sentiment_scores(sentence)\n"
      ],
      "metadata": {
        "colab": {
          "base_uri": "https://localhost:8080/"
        },
        "id": "n-7D_vAQ1iZq",
        "outputId": "9543e3b6-4508-4ee8-bced-28648cfe4173"
      },
      "execution_count": 13,
      "outputs": [
        {
          "output_type": "stream",
          "name": "stdout",
          "text": [
            "\n",
            "6rd sentencia :\n",
            "El diccionario general de sentimientos es :  {'neg': 0.203, 'neu': 0.797, 'pos': 0.0, 'compound': -0.2023}\n",
            "sentencia fue calificada como:  20.3 % Negativo\n",
            "sentencia fue calificada como:  79.7 % Neutral\n",
            "sentencia fue calificada como:  0.0 % Positivo\n",
            "La oración es de forma Negativo\n"
          ]
        }
      ]
    },
    {
      "cell_type": "code",
      "source": [
        "#Ejercicio\n",
        "#Hacer la comparación del funcionamineto de VADER usando Ingles vs Español"
      ],
      "metadata": {
        "id": "LuL6sSYc-8NK"
      },
      "execution_count": null,
      "outputs": []
    },
    {
      "cell_type": "code",
      "source": [
        "#Se va a realizar en análisis de los poemas en ingles y español\n",
        "#Leer los archivos\n",
        "archivo_en = open(\"Poema_en\",\"r\")\n",
        "texto_en=archivo_en.readlines()\n"
      ],
      "metadata": {
        "id": "xrjQhKf42Tiq"
      },
      "execution_count": 14,
      "outputs": []
    },
    {
      "cell_type": "code",
      "source": [
        "archivo_es = open(\"Poema_es\",\"r\")\n",
        "texto_es=archivo_es.readlines()\n",
        "archivo_es = open(\"Poema_es\",\"r\")"
      ],
      "metadata": {
        "id": "ixI1o3g4Be3y"
      },
      "execution_count": 15,
      "outputs": []
    },
    {
      "cell_type": "code",
      "source": [
        "print(len(texto_es))"
      ],
      "metadata": {
        "colab": {
          "base_uri": "https://localhost:8080/"
        },
        "id": "zPRrwrcoBhDo",
        "outputId": "c26da221-b74d-415f-8e86-f0330f62b197"
      },
      "execution_count": 16,
      "outputs": [
        {
          "output_type": "stream",
          "name": "stdout",
          "text": [
            "35\n"
          ]
        }
      ]
    },
    {
      "cell_type": "code",
      "source": [
        "#Se revisa la lista de las lineas del texto\n",
        "print(len(texto_en))\n",
        "print(len(texto_es))\n"
      ],
      "metadata": {
        "colab": {
          "base_uri": "https://localhost:8080/"
        },
        "id": "LzMIvTXR5siP",
        "outputId": "23071bf7-dbf4-4813-adfd-1be2889a219d"
      },
      "execution_count": 17,
      "outputs": [
        {
          "output_type": "stream",
          "name": "stdout",
          "text": [
            "35\n",
            "35\n"
          ]
        }
      ]
    },
    {
      "cell_type": "code",
      "source": [
        "texto_es[1]"
      ],
      "metadata": {
        "colab": {
          "base_uri": "https://localhost:8080/",
          "height": 36
        },
        "id": "qw-wq3koBYik",
        "outputId": "571eeeac-959c-4ae0-8250-569d951b0cd3"
      },
      "execution_count": 18,
      "outputs": [
        {
          "output_type": "execute_result",
          "data": {
            "text/plain": [
              "'    pierden la suya y te echan la culpa,   \\n'"
            ],
            "application/vnd.google.colaboratory.intrinsic+json": {
              "type": "string"
            }
          },
          "metadata": {},
          "execution_count": 18
        }
      ]
    },
    {
      "cell_type": "code",
      "source": [
        "#se utiliza la función para evaluar el score de sentimientos\n",
        "print(texto_en[1])\n",
        "print('El puntaje de la oración es: ',sentiment_scores_3(texto_en[1]))"
      ],
      "metadata": {
        "colab": {
          "base_uri": "https://localhost:8080/"
        },
        "id": "EWlLtXT161ix",
        "outputId": "5502e78f-9553-4868-ab94-e8fa7ab306ce"
      },
      "execution_count": 19,
      "outputs": [
        {
          "output_type": "stream",
          "name": "stdout",
          "text": [
            "    Are losing theirs and blaming it on you,   \n",
            "\n",
            "El puntaje de la oración es:  -0.7003\n"
          ]
        }
      ]
    },
    {
      "cell_type": "code",
      "source": [
        "#Se aplica la función de forma iterativa y los resultados se guardan en una lista\n",
        "#Valores cuantitativos\n",
        "score_en=[]\n",
        "for i in range(len(texto_en)):\n",
        "  score_en.append(sentiment_scores_3(texto_en[i]))\n",
        "\n"
      ],
      "metadata": {
        "id": "AhqummDG7KQz"
      },
      "execution_count": 20,
      "outputs": []
    },
    {
      "cell_type": "code",
      "source": [
        "score_es=[]\n",
        "for i in range(len(texto_es)):\n",
        "  score_es.append(sentiment_scores_3(texto_es[i]))\n",
        "\n"
      ],
      "metadata": {
        "id": "7tu5XN7k_Muc"
      },
      "execution_count": 21,
      "outputs": []
    },
    {
      "cell_type": "code",
      "source": [
        "print(score_es)\n",
        "print(len(score_es))"
      ],
      "metadata": {
        "colab": {
          "base_uri": "https://localhost:8080/"
        },
        "id": "GRAH8pT5A5hv",
        "outputId": "335e6adb-9823-4d03-a11a-8e5484ba2a4b"
      },
      "execution_count": 22,
      "outputs": [
        {
          "output_type": "stream",
          "name": "stdout",
          "text": [
            "[0.0, 0.0, 0.0, 0.0, -0.296, -0.296, -0.296, -0.296, 0.0, -0.296, -0.296, 0.0, 0.0, 0.0, 0.0, 0.0, 0.0, 0.0, 0.0, 0.0, 0.0, 0.0, 0.0, 0.0, -0.296, 0.0, 0.0, 0.0, -0.5574, 0.0, 0.0, 0.0, 0.0, 0.0, 0.0]\n",
            "35\n"
          ]
        }
      ]
    },
    {
      "cell_type": "code",
      "source": [
        "import matplotlib.pylab as plt\n",
        "ora_=range(len(texto_en))\n",
        "plt.scatter(ora_,score_en, c='r',marker= '*', label='Ingles')\n",
        "plt.scatter(ora_,score_es, c='b',marker= 'X', label='Español')\n",
        "plt.xlabel('Oraciones')\n",
        "plt.ylabel('Puntajes')\n",
        "plt.title('Comparación de puntajes Ingles vs Español')\n",
        "plt.legend()\n",
        "plt.grid()\n",
        "plt.show()\n"
      ],
      "metadata": {
        "colab": {
          "base_uri": "https://localhost:8080/",
          "height": 472
        },
        "id": "VqeRvipX4LL5",
        "outputId": "493237b6-4e53-4914-d624-0d26d62cdee8"
      },
      "execution_count": 23,
      "outputs": [
        {
          "output_type": "display_data",
          "data": {
            "text/plain": [
              "<Figure size 640x480 with 1 Axes>"
            ],
            "image/png": "[encoded data removed]"
          },
          "metadata": {}
        }
      ]
    },
    {
      "cell_type": "code",
      "source": [
        "#Se va crear una tabla para la comparación en Positivo, Negativo o Neutro\n",
        "#Se crean listas de String\n",
        "#Valores cualitativos\n",
        "score_en_l=[]\n",
        "for i in range(len(texto_en)):\n",
        "  score_en_l.append(sentiment_scores_2(texto_en[i]))\n",
        "print(score_en_l)"
      ],
      "metadata": {
        "colab": {
          "base_uri": "https://localhost:8080/"
        },
        "id": "0micq8GaD8pW",
        "outputId": "1986a28d-69a7-4bc2-801e-c2acdfaf015e"
      },
      "execution_count": 24,
      "outputs": [
        {
          "output_type": "stream",
          "name": "stdout",
          "text": [
            "['Neutral', 'Negativo', 'Positivo', 'Negativo', 'Positivo', 'Negativo', 'Negativo', 'Positivo', 'Neutral', 'Negativo', 'Neutral', 'Negativo', 'Positivo', 'Positivo', 'Negativo', 'Negativo', 'Neutral', 'Neutral', 'Positivo', 'Negativo', 'Negativo', 'Negativo', 'Positivo', 'Neutral', 'Neutral', 'Neutral', 'Neutral', 'Positivo', 'Negativo', 'Negativo', 'Neutral', 'Neutral', 'Positivo', 'Neutral', 'Neutral']\n"
          ]
        }
      ]
    },
    {
      "cell_type": "code",
      "source": [
        "score_es_l=[]\n",
        "for i in range(len(texto_es)):\n",
        "  score_es_l.append(sentiment_scores_2(texto_es[i]))\n",
        "print(score_es_l)"
      ],
      "metadata": {
        "colab": {
          "base_uri": "https://localhost:8080/"
        },
        "id": "VwBHo3ELEGOy",
        "outputId": "3cc4245e-2876-44e5-d26a-b3c5c8bb507e"
      },
      "execution_count": 25,
      "outputs": [
        {
          "output_type": "stream",
          "name": "stdout",
          "text": [
            "['Neutral', 'Neutral', 'Neutral', 'Neutral', 'Negativo', 'Negativo', 'Negativo', 'Negativo', 'Neutral', 'Negativo', 'Negativo', 'Neutral', 'Neutral', 'Neutral', 'Neutral', 'Neutral', 'Neutral', 'Neutral', 'Neutral', 'Neutral', 'Neutral', 'Neutral', 'Neutral', 'Neutral', 'Negativo', 'Neutral', 'Neutral', 'Neutral', 'Negativo', 'Neutral', 'Neutral', 'Neutral', 'Neutral', 'Neutral', 'Neutral']\n"
          ]
        }
      ]
    },
    {
      "cell_type": "code",
      "source": [
        "import pandas as pd\n",
        "import numpy as np\n",
        "\n",
        "score_en_l_N=np.array(score_en_l)\n",
        "score_es_l_N=np.array(score_es_l)\n",
        "\n",
        "df=pd.DataFrame()\n",
        "df['Ingles']=score_en_l_N\n",
        "df['Español']=score_es_l_N\n",
        "df"
      ],
      "metadata": {
        "colab": {
          "base_uri": "https://localhost:8080/",
          "height": 1000
        },
        "id": "nI_65M_-Eemy",
        "outputId": "49774549-0346-420b-c446-4c668708913b"
      },
      "execution_count": 26,
      "outputs": [
        {
          "output_type": "execute_result",
          "data": {
            "text/plain": [
              "      Ingles   Español\n",
              "0    Neutral   Neutral\n",
              "1   Negativo   Neutral\n",
              "2   Positivo   Neutral\n",
              "3   Negativo   Neutral\n",
              "4   Positivo  Negativo\n",
              "5   Negativo  Negativo\n",
              "6   Negativo  Negativo\n",
              "7   Positivo  Negativo\n",
              "8    Neutral   Neutral\n",
              "9   Negativo  Negativo\n",
              "10   Neutral  Negativo\n",
              "11  Negativo   Neutral\n",
              "12  Positivo   Neutral\n",
              "13  Positivo   Neutral\n",
              "14  Negativo   Neutral\n",
              "15  Negativo   Neutral\n",
              "16   Neutral   Neutral\n",
              "17   Neutral   Neutral\n",
              "18  Positivo   Neutral\n",
              "19  Negativo   Neutral\n",
              "20  Negativo   Neutral\n",
              "21  Negativo   Neutral\n",
              "22  Positivo   Neutral\n",
              "23   Neutral   Neutral\n",
              "24   Neutral  Negativo\n",
              "25   Neutral   Neutral\n",
              "26   Neutral   Neutral\n",
              "27  Positivo   Neutral\n",
              "28  Negativo  Negativo\n",
              "29  Negativo   Neutral\n",
              "30   Neutral   Neutral\n",
              "31   Neutral   Neutral\n",
              "32  Positivo   Neutral\n",
              "33   Neutral   Neutral\n",
              "34   Neutral   Neutral"
            ],
            "text/html": [
              "\n",
              "  <div id=\"df-e5afc80c-f4f6-4a38-8afb-f1b30e299c42\">\n",
              "    <div class=\"colab-df-container\">\n",
              "      <div>\n",
              "<style scoped>\n",
              "    .dataframe tbody tr th:only-of-type {\n",
              "        vertical-align: middle;\n",
              "    }\n",
              "\n",
              "    .dataframe tbody tr th {\n",
              "        vertical-align: top;\n",
              "    }\n",
              "\n",
              "    .dataframe thead th {\n",
              "        text-align: right;\n",
              "    }\n",
              "</style>\n",
              "<table border=\"1\" class=\"dataframe\">\n",
              "  <thead>\n",
              "    <tr style=\"text-align: right;\">\n",
              "      <th></th>\n",
              "      <th>Ingles</th>\n",
              "      <th>Español</th>\n",
              "    </tr>\n",
              "  </thead>\n",
              "  <tbody>\n",
              "    <tr>\n",
              "      <th>0</th>\n",
              "      <td>Neutral</td>\n",
              "      <td>Neutral</td>\n",
              "    </tr>\n",
              "    <tr>\n",
              "      <th>1</th>\n",
              "      <td>Negativo</td>\n",
              "      <td>Neutral</td>\n",
              "    </tr>\n",
              "    <tr>\n",
              "      <th>2</th>\n",
              "      <td>Positivo</td>\n",
              "      <td>Neutral</td>\n",
              "    </tr>\n",
              "    <tr>\n",
              "      <th>3</th>\n",
              "      <td>Negativo</td>\n",
              "      <td>Neutral</td>\n",
              "    </tr>\n",
              "    <tr>\n",
              "      <th>4</th>\n",
              "      <td>Positivo</td>\n",
              "      <td>Negativo</td>\n",
              "    </tr>\n",
              "    <tr>\n",
              "      <th>5</th>\n",
              "      <td>Negativo</td>\n",
              "      <td>Negativo</td>\n",
              "    </tr>\n",
              "    <tr>\n",
              "      <th>6</th>\n",
              "      <td>Negativo</td>\n",
              "      <td>Negativo</td>\n",
              "    </tr>\n",
              "    <tr>\n",
              "      <th>7</th>\n",
              "      <td>Positivo</td>\n",
              "      <td>Negativo</td>\n",
              "    </tr>\n",
              "    <tr>\n",
              "      <th>8</th>\n",
              "      <td>Neutral</td>\n",
              "      <td>Neutral</td>\n",
              "    </tr>\n",
              "    <tr>\n",
              "      <th>9</th>\n",
              "      <td>Negativo</td>\n",
              "      <td>Negativo</td>\n",
              "    </tr>\n",
              "    <tr>\n",
              "      <th>10</th>\n",
              "      <td>Neutral</td>\n",
              "      <td>Negativo</td>\n",
              "    </tr>\n",
              "    <tr>\n",
              "      <th>11</th>\n",
              "      <td>Negativo</td>\n",
              "      <td>Neutral</td>\n",
              "    </tr>\n",
              "    <tr>\n",
              "      <th>12</th>\n",
              "      <td>Positivo</td>\n",
              "      <td>Neutral</td>\n",
              "    </tr>\n",
              "    <tr>\n",
              "      <th>13</th>\n",
              "      <td>Positivo</td>\n",
              "      <td>Neutral</td>\n",
              "    </tr>\n",
              "    <tr>\n",
              "      <th>14</th>\n",
              "      <td>Negativo</td>\n",
              "      <td>Neutral</td>\n",
              "    </tr>\n",
              "    <tr>\n",
              "      <th>15</th>\n",
              "      <td>Negativo</td>\n",
              "      <td>Neutral</td>\n",
              "    </tr>\n",
              "    <tr>\n",
              "      <th>16</th>\n",
              "      <td>Neutral</td>\n",
              "      <td>Neutral</td>\n",
              "    </tr>\n",
              "    <tr>\n",
              "      <th>17</th>\n",
              "      <td>Neutral</td>\n",
              "      <td>Neutral</td>\n",
              "    </tr>\n",
              "    <tr>\n",
              "      <th>18</th>\n",
              "      <td>Positivo</td>\n",
              "      <td>Neutral</td>\n",
              "    </tr>\n",
              "    <tr>\n",
              "      <th>19</th>\n",
              "      <td>Negativo</td>\n",
              "      <td>Neutral</td>\n",
              "    </tr>\n",
              "    <tr>\n",
              "      <th>20</th>\n",
              "      <td>Negativo</td>\n",
              "      <td>Neutral</td>\n",
              "    </tr>\n",
              "    <tr>\n",
              "      <th>21</th>\n",
              "      <td>Negativo</td>\n",
              "      <td>Neutral</td>\n",
              "    </tr>\n",
              "    <tr>\n",
              "      <th>22</th>\n",
              "      <td>Positivo</td>\n",
              "      <td>Neutral</td>\n",
              "    </tr>\n",
              "    <tr>\n",
              "      <th>23</th>\n",
              "      <td>Neutral</td>\n",
              "      <td>Neutral</td>\n",
              "    </tr>\n",
              "    <tr>\n",
              "      <th>24</th>\n",
              "      <td>Neutral</td>\n",
              "      <td>Negativo</td>\n",
              "    </tr>\n",
              "    <tr>\n",
              "      <th>25</th>\n",
              "      <td>Neutral</td>\n",
              "      <td>Neutral</td>\n",
              "    </tr>\n",
              "    <tr>\n",
              "      <th>26</th>\n",
              "      <td>Neutral</td>\n",
              "      <td>Neutral</td>\n",
              "    </tr>\n",
              "    <tr>\n",
              "      <th>27</th>\n",
              "      <td>Positivo</td>\n",
              "      <td>Neutral</td>\n",
              "    </tr>\n",
              "    <tr>\n",
              "      <th>28</th>\n",
              "      <td>Negativo</td>\n",
              "      <td>Negativo</td>\n",
              "    </tr>\n",
              "    <tr>\n",
              "      <th>29</th>\n",
              "      <td>Negativo</td>\n",
              "      <td>Neutral</td>\n",
              "    </tr>\n",
              "    <tr>\n",
              "      <th>30</th>\n",
              "      <td>Neutral</td>\n",
              "      <td>Neutral</td>\n",
              "    </tr>\n",
              "    <tr>\n",
              "      <th>31</th>\n",
              "      <td>Neutral</td>\n",
              "      <td>Neutral</td>\n",
              "    </tr>\n",
              "    <tr>\n",
              "      <th>32</th>\n",
              "      <td>Positivo</td>\n",
              "      <td>Neutral</td>\n",
              "    </tr>\n",
              "    <tr>\n",
              "      <th>33</th>\n",
              "      <td>Neutral</td>\n",
              "      <td>Neutral</td>\n",
              "    </tr>\n",
              "    <tr>\n",
              "      <th>34</th>\n",
              "      <td>Neutral</td>\n",
              "      <td>Neutral</td>\n",
              "    </tr>\n",
              "  </tbody>\n",
              "</table>\n",
              "</div>\n",
              "      <button class=\"colab-df-convert\" onclick=\"convertToInteractive('df-e5afc80c-f4f6-4a38-8afb-f1b30e299c42')\"\n",
              "              title=\"Convert this dataframe to an interactive table.\"\n",
              "              style=\"display:none;\">\n",
              "        \n",
              "  <svg xmlns=\"http://www.w3.org/2000/svg\" height=\"24px\"viewBox=\"0 0 24 24\"\n",
              "       width=\"24px\">\n",
              "    <path d=\"M0 0h24v24H0V0z\" fill=\"none\"/>\n",
              "    <path d=\"M18.56 5.44l.94 2.06.94-2.06 2.06-.94-2.06-.94-.94-2.06-.94 2.06-2.06.94zm-11 1L8.5 8.5l.94-2.06 2.06-.94-2.06-.94L8.5 2.5l-.94 2.06-2.06.94zm10 10l.94 2.06.94-2.06 2.06-.94-2.06-.94-.94-2.06-.94 2.06-2.06.94z\"/><path d=\"M17.41 7.96l-1.37-1.37c-.4-.4-.92-.59-1.43-.59-.52 0-1.04.2-1.43.59L10.3 9.45l-7.72 7.72c-.78.78-.78 2.05 0 2.83L4 21.41c.39.39.9.59 1.41.59.51 0 1.02-.2 1.41-.59l7.78-7.78 2.81-2.81c.8-.78.8-2.07 0-2.86zM5.41 20L4 18.59l7.72-7.72 1.47 1.35L5.41 20z\"/>\n",
              "  </svg>\n",
              "      </button>\n",
              "      \n",
              "  <style>\n",
              "    .colab-df-container {\n",
              "      display:flex;\n",
              "      flex-wrap:wrap;\n",
              "      gap: 12px;\n",
              "    }\n",
              "\n",
              "    .colab-df-convert {\n",
              "      background-color: #E8F0FE;\n",
              "      border: none;\n",
              "      border-radius: 50%;\n",
              "      cursor: pointer;\n",
              "      display: none;\n",
              "      fill: #1967D2;\n",
              "      height: 32px;\n",
              "      padding: 0 0 0 0;\n",
              "      width: 32px;\n",
              "    }\n",
              "\n",
              "    .colab-df-convert:hover {\n",
              "      background-color: #E2EBFA;\n",
              "      box-shadow: 0px 1px 2px rgba(60, 64, 67, 0.3), 0px 1px 3px 1px rgba(60, 64, 67, 0.15);\n",
              "      fill: #174EA6;\n",
              "    }\n",
              "\n",
              "    [theme=dark] .colab-df-convert {\n",
              "      background-color: #3B4455;\n",
              "      fill: #D2E3FC;\n",
              "    }\n",
              "\n",
              "    [theme=dark] .colab-df-convert:hover {\n",
              "      background-color: #434B5C;\n",
              "      box-shadow: 0px 1px 3px 1px rgba(0, 0, 0, 0.15);\n",
              "      filter: drop-shadow(0px 1px 2px rgba(0, 0, 0, 0.3));\n",
              "      fill: #FFFFFF;\n",
              "    }\n",
              "  </style>\n",
              "\n",
              "      <script>\n",
              "        const buttonEl =\n",
              "          document.querySelector('#df-e5afc80c-f4f6-4a38-8afb-f1b30e299c42 button.colab-df-convert');\n",
              "        buttonEl.style.display =\n",
              "          google.colab.kernel.accessAllowed ? 'block' : 'none';\n",
              "\n",
              "        async function convertToInteractive(key) {\n",
              "          const element = document.querySelector('#df-e5afc80c-f4f6-4a38-8afb-f1b30e299c42');\n",
              "          const dataTable =\n",
              "            await google.colab.kernel.invokeFunction('convertToInteractive',\n",
              "                                                     [key], {});\n",
              "          if (!dataTable) return;\n",
              "\n",
              "          const docLinkHtml = 'Like what you see? Visit the ' +\n",
              "            '<a target=\"_blank\" href=https://colab.research.google.com/notebooks/data_table.ipynb>data table notebook</a>'\n",
              "            + ' to learn more about interactive tables.';\n",
              "          element.innerHTML = '';\n",
              "          dataTable['output_type'] = 'display_data';\n",
              "          await google.colab.output.renderOutput(dataTable, element);\n",
              "          const docLink = document.createElement('div');\n",
              "          docLink.innerHTML = docLinkHtml;\n",
              "          element.appendChild(docLink);\n",
              "        }\n",
              "      </script>\n",
              "    </div>\n",
              "  </div>\n",
              "  "
            ]
          },
          "metadata": {},
          "execution_count": 26
        }
      ]
    },
    {
      "cell_type": "code",
      "source": [
        "#Sacar un porcentaje de los aciertos de VADER en español\n",
        "#score_en_l_N\n",
        "#score_es_l_N\n",
        "count=0\n",
        "for i in range(len(score_en_l_N)):\n",
        "  if score_en_l_N[i]==score_es_l_N[i]:\n",
        "    count+=1\n",
        "print('El porcentaje de acierto: ', count/len(score_en_l_N))\n"
      ],
      "metadata": {
        "colab": {
          "base_uri": "https://localhost:8080/"
        },
        "id": "iRXFoH9K7lfv",
        "outputId": "a4b4b45c-2472-465b-e660-c3cfb18a67b3"
      },
      "execution_count": 28,
      "outputs": [
        {
          "output_type": "stream",
          "name": "stdout",
          "text": [
            "El porcentaje de acierto:  0.42857142857142855\n"
          ]
        }
      ]
    },
    {
      "cell_type": "markdown",
      "source": [
        "**Ejemplo Usando TextBlob**\n"
      ],
      "metadata": {
        "id": "O_MVzl0aPt3k"
      }
    },
    {
      "cell_type": "code",
      "source": [
        "!pip install textblob"
      ],
      "metadata": {
        "colab": {
          "base_uri": "https://localhost:8080/"
        },
        "id": "_pRQ_kwHPtrF",
        "outputId": "c636ccda-c914-4557-8ab7-e970acfadc8a"
      },
      "execution_count": 29,
      "outputs": [
        {
          "output_type": "stream",
          "name": "stdout",
          "text": [
            "Requirement already satisfied: textblob in /usr/local/lib/python3.10/dist-packages (0.17.1)\n",
            "Requirement already satisfied: nltk>=3.1 in /usr/local/lib/python3.10/dist-packages (from textblob) (3.8.1)\n",
            "Requirement already satisfied: click in /usr/local/lib/python3.10/dist-packages (from nltk>=3.1->textblob) (8.1.3)\n",
            "Requirement already satisfied: joblib in /usr/local/lib/python3.10/dist-packages (from nltk>=3.1->textblob) (1.2.0)\n",
            "Requirement already satisfied: regex>=2021.8.3 in /usr/local/lib/python3.10/dist-packages (from nltk>=3.1->textblob) (2022.10.31)\n",
            "Requirement already satisfied: tqdm in /usr/local/lib/python3.10/dist-packages (from nltk>=3.1->textblob) (4.65.0)\n"
          ]
        }
      ]
    },
    {
      "cell_type": "code",
      "source": [
        "from textblob import TextBlob\n",
        "texto = \"Me siento muy feliz hoy, es un día maravilloso.\"\n",
        "blob = TextBlob(texto)\n",
        "\n",
        "sentimiento = blob.sentiment\n",
        "polaridad = sentimiento.polarity  # Valor entre -1 y 1 que indica la polaridad del sentimiento\n",
        "subjetividad = sentimiento.subjectivity  # Valor entre 0 y 1 que indica la subjetividad del sentimiento\n",
        "\n",
        "if polaridad > 0:\n",
        "    print(\"El texto tiene un sentimiento positivo.\")\n",
        "elif polaridad < 0:\n",
        "    print(\"El texto tiene un sentimiento negativo.\")\n",
        "else:\n",
        "    print(\"El texto es neutral.\")\n",
        "\n",
        "print(\"Polaridad:\", polaridad)\n",
        "print(\"Subjetividad:\", subjetividad)\n"
      ],
      "metadata": {
        "colab": {
          "base_uri": "https://localhost:8080/"
        },
        "id": "LNEux6P4P6aw",
        "outputId": "c03fcd3c-761b-4533-b302-648e23d8b00d"
      },
      "execution_count": 30,
      "outputs": [
        {
          "output_type": "stream",
          "name": "stdout",
          "text": [
            "El texto es neutral.\n",
            "Polaridad: 0.0\n",
            "Subjetividad: 0.0\n"
          ]
        }
      ]
    },
    {
      "cell_type": "code",
      "source": [
        "texto_en='I hate animals.'\n",
        "blob_en = TextBlob(texto_en)\n",
        "sentimiento_en = blob.sentiment\n",
        "polaridad_en = sentimiento.polarity\n",
        "subjetividad_en = sentimiento.subjectivity\n",
        "\n",
        "if polaridad_en > 0:\n",
        "    print(\"El texto tiene un sentimiento positivo.\")\n",
        "elif polaridad_en < 0:\n",
        "    print(\"El texto tiene un sentimiento negativo.\")\n",
        "else:\n",
        "    print(\"El texto es neutral.\")\n",
        "\n",
        "print(\"Polaridad:\", polaridad_en)\n",
        "print(\"Subjetividad:\", subjetividad_en)\n"
      ],
      "metadata": {
        "colab": {
          "base_uri": "https://localhost:8080/"
        },
        "id": "yhGvlqWmQNy2",
        "outputId": "799cd189-1f4c-4ed9-b2c0-ba5b084c3e86"
      },
      "execution_count": 31,
      "outputs": [
        {
          "output_type": "stream",
          "name": "stdout",
          "text": [
            "El texto es neutral.\n",
            "Polaridad: 0.0\n",
            "Subjetividad: 0.0\n"
          ]
        }
      ]
    },
    {
      "cell_type": "code",
      "source": [],
      "metadata": {
        "id": "gQrpd6H3_1ji"
      },
      "execution_count": null,
      "outputs": []
    },
    {
      "cell_type": "code",
      "source": [
        "#Repetir el ejercicio de los dos poemas\n",
        "#leer los archivos y colocar en cada frase la función de polaridad de sentimientos\n",
        "\n",
        "archivo_in = open(\"poema_in.txt\",\"r\")\n",
        "texto_in=archivo_in.readlines()\n",
        "print(len(texto_in))\n",
        "\n",
        "archivo_Es = open(\"poema_es.txt\",\"r\")\n",
        "texto_Es=archivo_Es.readlines()\n",
        "print(len(texto_Es))"
      ],
      "metadata": {
        "colab": {
          "base_uri": "https://localhost:8080/"
        },
        "id": "J6ObBfLa-vSM",
        "outputId": "03f035c1-5131-4701-bd05-2b030201140e"
      },
      "execution_count": 35,
      "outputs": [
        {
          "output_type": "stream",
          "name": "stdout",
          "text": [
            "35\n",
            "35\n"
          ]
        }
      ]
    },
    {
      "cell_type": "code",
      "source": [
        "#Se crea una función para el analisis de cada sentencia del poema\n",
        "def score_textblob(sentence):\n",
        "  blob = TextBlob(sentence)\n",
        "  s= blob.sentiment\n",
        "  return s.polarity\n"
      ],
      "metadata": {
        "id": "w7nywuNjAWvZ"
      },
      "execution_count": 36,
      "outputs": []
    },
    {
      "cell_type": "code",
      "source": [
        "#Usamos la función anterior\n",
        "score_textblob(texto_in[6])"
      ],
      "metadata": {
        "colab": {
          "base_uri": "https://localhost:8080/"
        },
        "id": "nJg886V1A2_c",
        "outputId": "a6eeef4b-2ba4-4309-9ae5-9e8eea3cd73e"
      },
      "execution_count": 43,
      "outputs": [
        {
          "output_type": "execute_result",
          "data": {
            "text/plain": [
              "-0.9"
            ]
          },
          "metadata": {},
          "execution_count": 43
        }
      ]
    },
    {
      "cell_type": "code",
      "source": [
        "#Se crean las listas con los score del sentimiento\n",
        "lscore_in=[]\n",
        "lscore_es=[]\n",
        "for i in range(len(texto_in)):\n",
        "  lscore_in.append(score_textblob(texto_in[i]))\n",
        "  lscore_es.append(score_textblob(texto_Es[i]))\n"
      ],
      "metadata": {
        "id": "9LM3Lrd0BTHq"
      },
      "execution_count": 44,
      "outputs": []
    },
    {
      "cell_type": "code",
      "source": [
        "#Se crea la grafica de comparación\n",
        "import matplotlib.pylab as plt\n",
        "ora_=range(len(texto_in))\n",
        "plt.scatter(ora_,score_en, c='r',marker= '*', label='VADER')\n",
        "plt.scatter(ora_,lscore_es, c='b',marker= 'X', label='TextBlob')\n",
        "plt.xlabel('Oraciones')\n",
        "plt.ylabel('Puntajes')\n",
        "plt.title('Comparación de puntajes VADER vs Textblob')\n",
        "plt.legend()\n",
        "plt.grid()\n",
        "plt.show()\n",
        "\n",
        "\n"
      ],
      "metadata": {
        "colab": {
          "base_uri": "https://localhost:8080/",
          "height": 472
        },
        "id": "_NePITjmB7WI",
        "outputId": "fe7fd741-e83e-4b55-9a22-f1b2b3ee518c"
      },
      "execution_count": 47,
      "outputs": [
        {
          "output_type": "display_data",
          "data": {
            "text/plain": [
              "<Figure size 640x480 with 1 Axes>"
            ],
            "image/png": "[encoded data removed]"
          },
          "metadata": {}
        }
      ]
    },
    {
      "cell_type": "code",
      "source": [
        "#Se va hacer una comparación entre los score para el ingles\n",
        "ora_=range(len(texto_in))\n",
        "plt.scatter(ora_,lscore_in, c='r',marker= '*', label='VADER')\n",
        "plt.scatter(ora_,lscore_in, c='b',marker= 'X', label='TextBlob')\n",
        "plt.xlabel('Oraciones')\n",
        "plt.ylabel('Puntajes')\n",
        "plt.title('Comparación de puntajes Ingles vs Español Textblob')\n",
        "plt.legend()\n",
        "plt.grid()\n",
        "plt.show()\n"
      ],
      "metadata": {
        "id": "uZ9bJus0CP8F"
      },
      "execution_count": null,
      "outputs": []
    },
    {
      "cell_type": "code",
      "source": [
        "\n",
        "import nltk\n",
        "nltk.download('vader_lexicon')\n"
      ],
      "metadata": {
        "colab": {
          "base_uri": "https://localhost:8080/"
        },
        "id": "z-PDtu5SQ9WX",
        "outputId": "c1ac8a67-9235-4428-ae85-4ecb70b9b97f"
      },
      "execution_count": 48,
      "outputs": [
        {
          "output_type": "stream",
          "name": "stderr",
          "text": [
            "[nltk_data] Downloading package vader_lexicon to /root/nltk_data...\n"
          ]
        },
        {
          "output_type": "execute_result",
          "data": {
            "text/plain": [
              "True"
            ]
          },
          "metadata": {},
          "execution_count": 48
        }
      ]
    },
    {
      "cell_type": "code",
      "source": [
        "#Usando el nltk.sentiment\n",
        "from nltk.sentiment import SentimentIntensityAnalyzer\n",
        "\n",
        "texto = \"I hate animals.\"\n",
        "sia = SentimentIntensityAnalyzer()\n",
        "\n",
        "sentimientos = sia.polarity_scores(texto)\n",
        "polaridad = sentimientos['compound']\n",
        "\n",
        "if polaridad > 0:\n",
        "    print(\"El texto tiene un sentimiento positivo.\")\n",
        "elif polaridad < 0:\n",
        "    print(\"El texto tiene un sentimiento negativo.\")\n",
        "else:\n",
        "    print(\"El texto es neutral.\")\n",
        "\n",
        "print(\"Polaridad:\", polaridad)\n"
      ],
      "metadata": {
        "colab": {
          "base_uri": "https://localhost:8080/"
        },
        "id": "GKC0SG4aQ5v8",
        "outputId": "930cb3df-5042-4a1d-fbb6-d2514f1e8cc1"
      },
      "execution_count": 50,
      "outputs": [
        {
          "output_type": "stream",
          "name": "stdout",
          "text": [
            "El texto tiene un sentimiento negativo.\n",
            "Polaridad: -0.5719\n"
          ]
        }
      ]
    },
    {
      "cell_type": "markdown",
      "source": [
        "**Expresiones regulares**\n",
        "\n",
        "Las expresiones regulares son una poderosa herramienta para el procesamiento de lenguaje natural en Python. Permiten buscar y manipular patrones de texto de manera eficiente"
      ],
      "metadata": {
        "id": "p4J3DblcV7vg"
      }
    },
    {
      "cell_type": "markdown",
      "source": [
        "**Coincidencia de patrones:**   \n",
        "\n",
        "Utilizar expresiones regulares para buscar y coincidir patrones específicos en un texto. Por ejemplo, para encontrar todas las direcciones de correo electrónico en un texto:"
      ],
      "metadata": {
        "id": "NKxcUejPWJ3Y"
      }
    },
    {
      "cell_type": "code",
      "source": [
        "import re\n",
        "\n",
        "texto = \"Mi correo electrónico es ejemplo@example.com y puedes contactarme en ese correo.\"\n",
        "matches = re.findall(r'\\b[A-Za-z0-9._%+-]+@[A-Za-z0-9.-]+\\.[A-Za-z]{2,}\\b', texto)\n",
        "print(matches)\n"
      ],
      "metadata": {
        "colab": {
          "base_uri": "https://localhost:8080/"
        },
        "id": "hD_nmzEsWFdp",
        "outputId": "e7708b60-7cc8-4837-cd18-1fcaf95eebdb"
      },
      "execution_count": 51,
      "outputs": [
        {
          "output_type": "stream",
          "name": "stdout",
          "text": [
            "['ejemplo@example.com']\n"
          ]
        }
      ]
    },
    {
      "cell_type": "code",
      "source": [
        "#Función para extraer correos electronicos\n",
        "def ecorreo(texto):\n",
        "  return re.findall(r'\\b[A-Za-z0-9._%+-]+@[A-Za-z0-9.-]+\\.[A-Za-z]{2,}\\b',t)"
      ],
      "metadata": {
        "id": "iJzFq_7xFnJf"
      },
      "execution_count": 52,
      "outputs": []
    },
    {
      "cell_type": "code",
      "source": [
        "texto = \"Mi correo electrónico es ejemplo@example.com y puedes contactarme en ese correo.\"\n",
        "print(ecorreo(texto))"
      ],
      "metadata": {
        "colab": {
          "base_uri": "https://localhost:8080/"
        },
        "id": "JdvfEXFoGAzz",
        "outputId": "d4dfa988-b010-4622-e9e1-0181ec1edb16"
      },
      "execution_count": 53,
      "outputs": [
        {
          "output_type": "stream",
          "name": "stdout",
          "text": [
            "['ejemplo@example.com']\n"
          ]
        }
      ]
    },
    {
      "cell_type": "code",
      "source": [
        "#se hace un cambio de palabra dada la condición re.sub\n",
        "import re\n",
        "texto = \"El gato se subió al tejado.\"\n",
        "texto_modificado = re.sub(r'gato', 'perro', texto)\n",
        "print(texto_modificado)\n"
      ],
      "metadata": {
        "colab": {
          "base_uri": "https://localhost:8080/"
        },
        "id": "FSHvvjd-X-7E",
        "outputId": "ba1a1755-baf9-42f0-959a-0bb4fb486f9c"
      },
      "execution_count": 55,
      "outputs": [
        {
          "output_type": "stream",
          "name": "stdout",
          "text": [
            "El perro se subió al tejado.\n"
          ]
        }
      ]
    },
    {
      "cell_type": "markdown",
      "source": [
        "**Sustitución de patrones**\n",
        "\n",
        "Utilizar expresiones regulares para reemplazar patrones específicos en un texto. Por ejemplo, para ocultar todos los números de teléfono en un texto con la palabra \"TELÉFONO\""
      ],
      "metadata": {
        "id": "klRXO6rwWcIG"
      }
    },
    {
      "cell_type": "code",
      "source": [
        "import re\n",
        "\n",
        "texto = \"Mi número de teléfono es 123-456-7890. Llámame en ese teléfono.\"\n",
        "texto_oculto = re.sub(r'\\d{3}-\\d{3}-\\d{4}', 'TELÉFONO', texto)\n",
        "print(texto_oculto)\n"
      ],
      "metadata": {
        "colab": {
          "base_uri": "https://localhost:8080/"
        },
        "id": "-ouZgj3jWXQ8",
        "outputId": "19cad57f-dc50-4bf2-f0e9-af92cda3d0c4"
      },
      "execution_count": 57,
      "outputs": [
        {
          "output_type": "stream",
          "name": "stdout",
          "text": [
            "Mi número de teléfono es TELÉFONO. Llámame en ese teléfono.\n"
          ]
        }
      ]
    },
    {
      "cell_type": "code",
      "source": [
        "texto=\"Mi número de teléfono es 3112223333. Llámame en ese teléfono.\"\n",
        "texto_oculto = re.sub(r'\\d[0-9]', 'TELÉFONO', texto)\n",
        "print(texto_oculto)"
      ],
      "metadata": {
        "colab": {
          "base_uri": "https://localhost:8080/"
        },
        "id": "2Oa1raoEG09q",
        "outputId": "1c8352fe-c2d4-4c05-c7d3-a865724158c7"
      },
      "execution_count": 64,
      "outputs": [
        {
          "output_type": "stream",
          "name": "stdout",
          "text": [
            "Mi número de teléfono es TELÉFONOTELÉFONOTELÉFONOTELÉFONOTELÉFONO. Llámame en ese teléfono.\n"
          ]
        }
      ]
    },
    {
      "cell_type": "code",
      "source": [
        "import re\n",
        "\n",
        "texto = \"Mis números de teléfono son: 123-456-7890 y 987-654-3210.\"\n",
        "numeros_telefono = re.findall(r'\\d{3}-\\d{3}-\\d{4}', texto)\n",
        "print(numeros_telefono)\n"
      ],
      "metadata": {
        "colab": {
          "base_uri": "https://localhost:8080/"
        },
        "id": "yFlbZWDlYJrm",
        "outputId": "eb0d986e-cdc2-4d65-a606-4674a27b775e"
      },
      "execution_count": 65,
      "outputs": [
        {
          "output_type": "stream",
          "name": "stdout",
          "text": [
            "['123-456-7890', '987-654-3210']\n"
          ]
        }
      ]
    },
    {
      "cell_type": "markdown",
      "source": [
        "**División de texto:**\n",
        "\n",
        "Utilizar expresiones regulares para dividir un texto en función de un patrón específico. Por ejemplo, para dividir un texto en oraciones:"
      ],
      "metadata": {
        "id": "qp4prYrHWuuN"
      }
    },
    {
      "cell_type": "code",
      "source": [
        "import re\n",
        "\n",
        "texto = \"Hola. ¿Cómo estás? Espero que bien.\"\n",
        "oraciones = re.split(r'[.?!]', texto)\n",
        "print(oraciones)\n"
      ],
      "metadata": {
        "colab": {
          "base_uri": "https://localhost:8080/"
        },
        "id": "lbFAdiHfWt-p",
        "outputId": "edc41d6f-026c-4cd3-f6fb-5f27ef58ea44"
      },
      "execution_count": 66,
      "outputs": [
        {
          "output_type": "stream",
          "name": "stdout",
          "text": [
            "['Hola', ' ¿Cómo estás', ' Espero que bien', '']\n"
          ]
        }
      ]
    },
    {
      "cell_type": "code",
      "source": [
        "print(texto.split())"
      ],
      "metadata": {
        "colab": {
          "base_uri": "https://localhost:8080/"
        },
        "id": "vtihUuuAILDu",
        "outputId": "9f873e69-5e26-419a-9a01-a9b1d3433abb"
      },
      "execution_count": 67,
      "outputs": [
        {
          "output_type": "stream",
          "name": "stdout",
          "text": [
            "['Hola.', '¿Cómo', 'estás?', 'Espero', 'que', 'bien.']\n"
          ]
        }
      ]
    },
    {
      "cell_type": "markdown",
      "source": [
        "**Validación de formatos:**\n",
        "\n",
        "Utilizar expresiones regulares para validar si una cadena de texto cumple con un formato específico. Por ejemplo, para verificar si una cadena es un código postal válido en Estados Unidos:"
      ],
      "metadata": {
        "id": "-FDRe83-YSpS"
      }
    },
    {
      "cell_type": "code",
      "source": [
        "import re\n",
        "\n",
        "codigo_postal = \"90210\"\n",
        "es_valido = re.match(r'^\\d{5}$', codigo_postal)\n",
        "if es_valido:\n",
        "    print(\"El código postal es válido.\")\n",
        "else:\n",
        "    print(\"El código postal no es válido.\")\n",
        "\n"
      ],
      "metadata": {
        "colab": {
          "base_uri": "https://localhost:8080/"
        },
        "id": "LkEPxM9SYcYt",
        "outputId": "06af1a78-2006-4ffa-ef51-61fa5ddbeb77"
      },
      "execution_count": 68,
      "outputs": [
        {
          "output_type": "stream",
          "name": "stdout",
          "text": [
            "El código postal es válido.\n"
          ]
        }
      ]
    },
    {
      "cell_type": "code",
      "source": [
        "codigo_postal = \"9021\"\n",
        "es_valido = re.match(r'^\\d{5}$', codigo_postal)\n",
        "if es_valido:\n",
        "    print(\"El código postal es válido.\")\n",
        "else:\n",
        "    print(\"El código postal no es válido.\")"
      ],
      "metadata": {
        "colab": {
          "base_uri": "https://localhost:8080/"
        },
        "id": "vDHt3AV0Ijcg",
        "outputId": "97f08cce-29ae-4ec9-cc21-1c64415b1d59"
      },
      "execution_count": 69,
      "outputs": [
        {
          "output_type": "stream",
          "name": "stdout",
          "text": [
            "El código postal no es válido.\n"
          ]
        }
      ]
    },
    {
      "cell_type": "code",
      "source": [
        "!pip install spacy"
      ],
      "metadata": {
        "colab": {
          "base_uri": "https://localhost:8080/"
        },
        "id": "swVGWoA-WvTv",
        "outputId": "e90cc63d-fcbd-48a8-ff3f-a8546ae110db"
      },
      "execution_count": 70,
      "outputs": [
        {
          "output_type": "stream",
          "name": "stdout",
          "text": [
            "Requirement already satisfied: spacy in /usr/local/lib/python3.10/dist-packages (3.5.3)\n",
            "Requirement already satisfied: spacy-legacy<3.1.0,>=3.0.11 in /usr/local/lib/python3.10/dist-packages (from spacy) (3.0.12)\n",
            "Requirement already satisfied: spacy-loggers<2.0.0,>=1.0.0 in /usr/local/lib/python3.10/dist-packages (from spacy) (1.0.4)\n",
            "Requirement already satisfied: murmurhash<1.1.0,>=0.28.0 in /usr/local/lib/python3.10/dist-packages (from spacy) (1.0.9)\n",
            "Requirement already satisfied: cymem<2.1.0,>=2.0.2 in /usr/local/lib/python3.10/dist-packages (from spacy) (2.0.7)\n",
            "Requirement already satisfied: preshed<3.1.0,>=3.0.2 in /usr/local/lib/python3.10/dist-packages (from spacy) (3.0.8)\n",
            "Requirement already satisfied: thinc<8.2.0,>=8.1.8 in /usr/local/lib/python3.10/dist-packages (from spacy) (8.1.10)\n",
            "Requirement already satisfied: wasabi<1.2.0,>=0.9.1 in /usr/local/lib/python3.10/dist-packages (from spacy) (1.1.2)\n",
            "Requirement already satisfied: srsly<3.0.0,>=2.4.3 in /usr/local/lib/python3.10/dist-packages (from spacy) (2.4.6)\n",
            "Requirement already satisfied: catalogue<2.1.0,>=2.0.6 in /usr/local/lib/python3.10/dist-packages (from spacy) (2.0.8)\n",
            "Requirement already satisfied: typer<0.8.0,>=0.3.0 in /usr/local/lib/python3.10/dist-packages (from spacy) (0.7.0)\n",
            "Requirement already satisfied: pathy>=0.10.0 in /usr/local/lib/python3.10/dist-packages (from spacy) (0.10.2)\n",
            "Requirement already satisfied: smart-open<7.0.0,>=5.2.1 in /usr/local/lib/python3.10/dist-packages (from spacy) (6.3.0)\n",
            "Requirement already satisfied: tqdm<5.0.0,>=4.38.0 in /usr/local/lib/python3.10/dist-packages (from spacy) (4.65.0)\n",
            "Requirement already satisfied: numpy>=1.15.0 in /usr/local/lib/python3.10/dist-packages (from spacy) (1.22.4)\n",
            "Requirement already satisfied: requests<3.0.0,>=2.13.0 in /usr/local/lib/python3.10/dist-packages (from spacy) (2.27.1)\n",
            "Requirement already satisfied: pydantic!=1.8,!=1.8.1,<1.11.0,>=1.7.4 in /usr/local/lib/python3.10/dist-packages (from spacy) (1.10.9)\n",
            "Requirement already satisfied: jinja2 in /usr/local/lib/python3.10/dist-packages (from spacy) (3.1.2)\n",
            "Requirement already satisfied: setuptools in /usr/local/lib/python3.10/dist-packages (from spacy) (67.7.2)\n",
            "Requirement already satisfied: packaging>=20.0 in /usr/local/lib/python3.10/dist-packages (from spacy) (23.1)\n",
            "Requirement already satisfied: langcodes<4.0.0,>=3.2.0 in /usr/local/lib/python3.10/dist-packages (from spacy) (3.3.0)\n",
            "Requirement already satisfied: typing-extensions>=4.2.0 in /usr/local/lib/python3.10/dist-packages (from pydantic!=1.8,!=1.8.1,<1.11.0,>=1.7.4->spacy) (4.6.3)\n",
            "Requirement already satisfied: urllib3<1.27,>=1.21.1 in /usr/local/lib/python3.10/dist-packages (from requests<3.0.0,>=2.13.0->spacy) (1.26.16)\n",
            "Requirement already satisfied: certifi>=2017.4.17 in /usr/local/lib/python3.10/dist-packages (from requests<3.0.0,>=2.13.0->spacy) (2023.5.7)\n",
            "Requirement already satisfied: charset-normalizer~=2.0.0 in /usr/local/lib/python3.10/dist-packages (from requests<3.0.0,>=2.13.0->spacy) (2.0.12)\n",
            "Requirement already satisfied: idna<4,>=2.5 in /usr/local/lib/python3.10/dist-packages (from requests<3.0.0,>=2.13.0->spacy) (3.4)\n",
            "Requirement already satisfied: blis<0.8.0,>=0.7.8 in /usr/local/lib/python3.10/dist-packages (from thinc<8.2.0,>=8.1.8->spacy) (0.7.9)\n",
            "Requirement already satisfied: confection<1.0.0,>=0.0.1 in /usr/local/lib/python3.10/dist-packages (from thinc<8.2.0,>=8.1.8->spacy) (0.0.4)\n",
            "Requirement already satisfied: click<9.0.0,>=7.1.1 in /usr/local/lib/python3.10/dist-packages (from typer<0.8.0,>=0.3.0->spacy) (8.1.3)\n",
            "Requirement already satisfied: MarkupSafe>=2.0 in /usr/local/lib/python3.10/dist-packages (from jinja2->spacy) (2.1.3)\n"
          ]
        }
      ]
    },
    {
      "cell_type": "code",
      "source": [
        "#Otra libreria para hacer procesamiento de lenguaje natural\n",
        "import spacy\n",
        "from spacy import displacy\n",
        "from collections import Counter\n",
        "import pandas as pd\n"
      ],
      "metadata": {
        "id": "mOI7lFCvW1Wc"
      },
      "execution_count": 71,
      "outputs": []
    },
    {
      "cell_type": "code",
      "source": [
        "!python -m spacy download es_core_news_md"
      ],
      "metadata": {
        "id": "6Z2ORTdDXD4H"
      },
      "execution_count": null,
      "outputs": []
    },
    {
      "cell_type": "code",
      "source": [
        "#Se carga el core de español para hacer el procemiento\n",
        "nlp = spacy.load('es_core_news_md')"
      ],
      "metadata": {
        "id": "SBfXw39UXLI-"
      },
      "execution_count": 73,
      "outputs": []
    },
    {
      "cell_type": "code",
      "source": [
        "print(nlp)"
      ],
      "metadata": {
        "colab": {
          "base_uri": "https://localhost:8080/"
        },
        "id": "DgLqM6JWKHCm",
        "outputId": "7ebdcddf-0483-44bc-cd99-7d05aad50cfe"
      },
      "execution_count": 74,
      "outputs": [
        {
          "output_type": "stream",
          "name": "stdout",
          "text": [
            "<spacy.lang.es.Spanish object at 0x7efc9959e920>\n"
          ]
        }
      ]
    },
    {
      "cell_type": "code",
      "source": [
        "#archivo = open(\"el_quijote.txt\")\n",
        "#texto=archivo.read()"
      ],
      "metadata": {
        "id": "qVpIXBr4YsrQ"
      },
      "execution_count": null,
      "outputs": []
    },
    {
      "cell_type": "code",
      "source": [
        "filepath = 'texto_PLN.txt'\n",
        "text = open(filepath, encoding='utf-8').read()\n",
        "document = nlp(text)"
      ],
      "metadata": {
        "id": "wc5pf8TIXSb6"
      },
      "execution_count": 75,
      "outputs": []
    },
    {
      "cell_type": "code",
      "source": [
        "print(document)"
      ],
      "metadata": {
        "colab": {
          "base_uri": "https://localhost:8080/"
        },
        "id": "lZmsjwYPKOjj",
        "outputId": "e35eb916-3d96-4da1-aabf-bbac837213a4"
      },
      "execution_count": 76,
      "outputs": [
        {
          "output_type": "stream",
          "name": "stdout",
          "text": [
            "El procesamiento de lenguaje natural,1​2​ abreviado PLN3​4​ —en inglés, natural language processing, NLP— es un campo de las ciencias de la computación, de la inteligencia artificial y de la lingüística que estudia las interacciones entre las computadoras y el lenguaje humano. Se ocupa de la formulación e investigación de mecanismos eficaces computacionalmente para la comunicación entre personas y máquinas por medio del lenguaje natural, es decir, de las lenguas del mundo. No trata de la comunicación por medio de lenguas naturales de una forma abstracta, sino de diseñar mecanismos para comunicarse que sean eficaces computacionalmente —que se puedan realizar por medio de programas que ejecuten o simulen la comunicación—. Los modelos aplicados se enfocan no solo a la comprensión del lenguaje de por sí, sino a aspectos generales cognitivos humanos y a la organización de la memoria. El lenguaje natural sirve solo de medio para estudiar estos fenómenos. Hasta la década de 1980, la mayoría de los sistemas de PLN se basaban en un complejo conjunto de reglas diseñadas a mano. A partir de finales de 1980, sin embargo, hubo una revolución en PLN con la introducción de algoritmos de aprendizaje automático para el procesamiento del lenguaje.5​6​\n",
            "\n",
            "Historia\n",
            "La historia del PLN empieza desde 1950, aunque se han encontrado trabajos anteriores. En 1950, Alan Turing publicó Computing machinery and intelligence, donde proponía lo que hoy se llama el test de turing como criterio de inteligencia. En 1954, el experimento de Georgetown involucró traducción automática de más de sesenta oraciones del ruso al inglés. Los autores sostuvieron que en tres o cinco años la traducción automática sería un problema resuelto. El avance real en traducción automática fue más lento, y en 1966 el reporte ALPAC demostró que la investigación había tenido un bajo desempeño. Más tarde, hasta finales de 1980, se llevaron a cabo investigaciones a menor escala en traducción automática, y se desarrollaron los primeros sistemas de traducción automática estadística. Esto se debió tanto al aumento constante del poder de cómputo resultante de la ley de Moore como a la disminución gradual del predominio de las teorías lingüísticas de Noam Chomsky (por ejemplo, la gramática transformacional), cuyos fundamentos teóricos desalentaron el tipo de lingüística de corpus, que se basa en el enfoque de aprendizaje de máquinas para el procesamiento del lenguaje. Se usaron entonces los primeros algoritmos de aprendizaje automático, como los árboles de decisión, sistemas producidos de sentencias si-entonces similares a las reglas escritas a mano. Se puede consultar un resumen de la historia de 50 años de publicaciones acerca del procesamiento automático después del proyecto NLP4NLP en una publicación doble en Frontiers in Research Metrics and Analytics.7​8​\n",
            "\n",
            "Dificultades en el procesamiento de lenguaje natural\n",
            "Ambigüedad\n",
            "Las lenguas naturales son inherentemente ambiguas en diferentes niveles:\n",
            "\n",
            "En el nivel léxico, una misma palabra puede tener varios significados, y la selección del apropiado se debe deducir a partir del contexto oracional o conocimiento básico. Muchas investigaciones en el campo del procesamiento de lenguajes naturales han estudiado métodos de resolver las ambigüedades léxicas mediante diccionarios, gramáticas, bases de conocimiento y correlaciones estadísticas.\n",
            "A nivel referencial, la resolución de anáforas y catáforas implica determinar la entidad lingüística previa o posterior a que hacen referencia.\n",
            "En el nivel estructural, se requiere de la semántica para desambiguar la dependencia de los sintagmas preposicionales que conducen a la construcción de distintos árboles sintácticos. Por ejemplo, en la frase Rompió el dibujo de un ataque de nervios.\n",
            "En el nivel pragmático, una oración, a menudo, no significa lo que realmente se está diciendo. Elementos tales como la ironía tienen un papel importante en la interpretación del mensaje.\n",
            "Para resolver estos tipos de ambigüedades y otros, el problema central en el PLN es la traducción de entradas en lenguas naturales a una representación interna sin ambigüedad, como árboles de análisis.\n",
            "\n",
            "Detección de separación entre las palabras\n",
            "En la lengua hablada no se suelen hacer pausas entre palabra y palabra. El lugar en el que se deben separar las palabras a menudo depende de cuál es la posibilidad de que mantenga un sentido lógico tanto gramatical como contextual. En la lengua escrita, lenguas como el chino mandarín tampoco tienen separaciones entre las palabras.\n",
            "\n",
            "Recepción imperfecta de datos\n",
            "Acentos extranjeros, regionalismos o dificultades en la producción del habla, errores de mecanografiado o expresiones no gramaticales, errores en la lectura de textos mediante OCR\n",
            "\n",
            "Componentes\n",
            "Análisis morfológico. El análisis de las palabras para extraer raíces, rasgos flexivos, unidades léxicas compuestas y otros fenómenos.\n",
            "Análisis sintáctico. El análisis de la estructura sintáctica de la frase mediante una gramática de la lengua en cuestión.\n",
            "Análisis semántico. La extracción del significado de la frase, y la resolución de ambigüedades léxicas y estructurales.\n",
            "Análisis pragmático. El análisis del texto más allá de los límites de la frase, por ejemplo, para determinar los antecedentes referenciales de los pronombres.\n",
            "Planificación de la frase. Estructurar cada frase del texto con el fin de expresar el significado adecuado.\n",
            "Generación de la frase. La generación de la cadena lineal de palabras a partir de la estructura general de la frase, con sus correspondientes flexiones, concordancias y restantes fenómenos sintácticos y morfológicos.\n"
          ]
        }
      ]
    },
    {
      "cell_type": "code",
      "source": [
        "#Se cren los token para el analisis\n",
        "for token in document:\n",
        "    print(token.lemma_, token.pos_, token.dep_)"
      ],
      "metadata": {
        "id": "BKhcSSWvZPVm"
      },
      "execution_count": null,
      "outputs": []
    },
    {
      "cell_type": "code",
      "source": [
        "#Crea una lista con los adjetivos del texto\n",
        "#Adjetivo: Clase de palabra que acompaña al sustantivo para expresar una cualidad\n",
        "#de la cosa designada por él o para determinar o limitar la extensión del mismo.\n",
        "adjs = []\n",
        "for token in document:\n",
        "    if token.pos_ == 'ADJ':\n",
        "        adjs.append(token.lemma_)\n"
      ],
      "metadata": {
        "id": "18g8iRsgZo4-"
      },
      "execution_count": 78,
      "outputs": []
    },
    {
      "cell_type": "code",
      "source": [
        "#Se muestran los adjetivos\n",
        "print(adjs)"
      ],
      "metadata": {
        "colab": {
          "base_uri": "https://localhost:8080/"
        },
        "id": "d8YEjr1-ZrIb",
        "outputId": "c9a45f27-c39b-48c1-89d8-d69e29362842"
      },
      "execution_count": 79,
      "outputs": [
        {
          "output_type": "stream",
          "name": "stdout",
          "text": [
            "['abreviado', 'natural', 'artificial', 'humano', 'eficaz', 'natural', 'natural', 'abstracto', 'eficaz', 'aplicado', 'general', 'cognitivo', 'humano', 'natural', 'conjunto', 'diseñado', 'automático', 'anterior', 'automático', 'automático', 'resuelto', 'real', 'automático', 'lento', 'bajo', 'menor', 'automático', 'primero', 'automático', 'estadístico', 'constante', 'resultante', 'gradual', 'lingüístico', 'teórico', 'primero', 'automático', 'producido', 'si-entonz', 'similar', 'escrito', 'automático', 'nlp4nlp', 'doble', 'natural', 'natural', 'ambiguo', 'léxico', 'apropiado', 'oracional', 'básico', 'natural', 'léxica', 'estadístico', 'referencial', 'catáfora', 'lingüístico', 'previo', 'posterior', 'estructural', 'semántico', 'preposicional', 'sintáctico', 'pragmático', 'importante', 'central', 'natural', 'interno', 'hablado', 'lógico', 'gramatical', 'contextual', 'escrito', 'mandarín', 'imperfecto', 'extranjero', 'mecanografiado', 'gramatical', 'morfológico', 'flexivo', 'léxica', 'compuesto', 'sintáctico', 'sintáctico', 'semántico', 'léxica', 'estructural', 'pragmático', 'referencial', 'adecuado', 'lineal', 'general', 'correspondiente', 'restante', 'sintáctico', 'morfológico']\n"
          ]
        }
      ]
    },
    {
      "cell_type": "code",
      "source": [
        "#Se cuentan los adjetivos\n",
        "adjs_tally = Counter(adjs)\n",
        "adjs_tally"
      ],
      "metadata": {
        "id": "r7ArPIvPaXSe"
      },
      "execution_count": null,
      "outputs": []
    },
    {
      "cell_type": "code",
      "source": [
        "#Adjetivos más comunes\n",
        "adjs_tally.most_common()\n"
      ],
      "metadata": {
        "colab": {
          "base_uri": "https://localhost:8080/"
        },
        "id": "cTsaTDCYac7c",
        "outputId": "77df5565-2edd-4e48-b982-3225db7c3660"
      },
      "execution_count": 82,
      "outputs": [
        {
          "output_type": "execute_result",
          "data": {
            "text/plain": [
              "[('natural', 8),\n",
              " ('automático', 8),\n",
              " ('sintáctico', 4),\n",
              " ('léxica', 3),\n",
              " ('humano', 2),\n",
              " ('eficaz', 2),\n",
              " ('general', 2),\n",
              " ('primero', 2),\n",
              " ('estadístico', 2),\n",
              " ('lingüístico', 2),\n",
              " ('escrito', 2),\n",
              " ('referencial', 2),\n",
              " ('estructural', 2),\n",
              " ('semántico', 2),\n",
              " ('pragmático', 2),\n",
              " ('gramatical', 2),\n",
              " ('morfológico', 2),\n",
              " ('abreviado', 1),\n",
              " ('artificial', 1),\n",
              " ('abstracto', 1),\n",
              " ('aplicado', 1),\n",
              " ('cognitivo', 1),\n",
              " ('conjunto', 1),\n",
              " ('diseñado', 1),\n",
              " ('anterior', 1),\n",
              " ('resuelto', 1),\n",
              " ('real', 1),\n",
              " ('lento', 1),\n",
              " ('bajo', 1),\n",
              " ('menor', 1),\n",
              " ('constante', 1),\n",
              " ('resultante', 1),\n",
              " ('gradual', 1),\n",
              " ('teórico', 1),\n",
              " ('producido', 1),\n",
              " ('si-entonz', 1),\n",
              " ('similar', 1),\n",
              " ('nlp4nlp', 1),\n",
              " ('doble', 1),\n",
              " ('ambiguo', 1),\n",
              " ('léxico', 1),\n",
              " ('apropiado', 1),\n",
              " ('oracional', 1),\n",
              " ('básico', 1),\n",
              " ('catáfora', 1),\n",
              " ('previo', 1),\n",
              " ('posterior', 1),\n",
              " ('preposicional', 1),\n",
              " ('importante', 1),\n",
              " ('central', 1),\n",
              " ('interno', 1),\n",
              " ('hablado', 1),\n",
              " ('lógico', 1),\n",
              " ('contextual', 1),\n",
              " ('mandarín', 1),\n",
              " ('imperfecto', 1),\n",
              " ('extranjero', 1),\n",
              " ('mecanografiado', 1),\n",
              " ('flexivo', 1),\n",
              " ('compuesto', 1),\n",
              " ('adecuado', 1),\n",
              " ('lineal', 1),\n",
              " ('correspondiente', 1),\n",
              " ('restante', 1)]"
            ]
          },
          "metadata": {},
          "execution_count": 82
        }
      ]
    },
    {
      "cell_type": "code",
      "source": [
        "df = pd.DataFrame(adjs_tally.most_common(), columns=['adj', 'count'])\n",
        "df[:100]"
      ],
      "metadata": {
        "colab": {
          "base_uri": "https://localhost:8080/",
          "height": 423
        },
        "id": "kzDyPewmaiL3",
        "outputId": "d1ea580a-9bec-4f08-9167-44cae3621415"
      },
      "execution_count": 83,
      "outputs": [
        {
          "output_type": "execute_result",
          "data": {
            "text/plain": [
              "                adj  count\n",
              "0           natural      8\n",
              "1        automático      8\n",
              "2        sintáctico      4\n",
              "3            léxica      3\n",
              "4            humano      2\n",
              "..              ...    ...\n",
              "59        compuesto      1\n",
              "60         adecuado      1\n",
              "61           lineal      1\n",
              "62  correspondiente      1\n",
              "63         restante      1\n",
              "\n",
              "[64 rows x 2 columns]"
            ],
            "text/html": [
              "\n",
              "  <div id=\"df-6d700780-9f92-477f-aa5d-db9ad9be3ec9\">\n",
              "    <div class=\"colab-df-container\">\n",
              "      <div>\n",
              "<style scoped>\n",
              "    .dataframe tbody tr th:only-of-type {\n",
              "        vertical-align: middle;\n",
              "    }\n",
              "\n",
              "    .dataframe tbody tr th {\n",
              "        vertical-align: top;\n",
              "    }\n",
              "\n",
              "    .dataframe thead th {\n",
              "        text-align: right;\n",
              "    }\n",
              "</style>\n",
              "<table border=\"1\" class=\"dataframe\">\n",
              "  <thead>\n",
              "    <tr style=\"text-align: right;\">\n",
              "      <th></th>\n",
              "      <th>adj</th>\n",
              "      <th>count</th>\n",
              "    </tr>\n",
              "  </thead>\n",
              "  <tbody>\n",
              "    <tr>\n",
              "      <th>0</th>\n",
              "      <td>natural</td>\n",
              "      <td>8</td>\n",
              "    </tr>\n",
              "    <tr>\n",
              "      <th>1</th>\n",
              "      <td>automático</td>\n",
              "      <td>8</td>\n",
              "    </tr>\n",
              "    <tr>\n",
              "      <th>2</th>\n",
              "      <td>sintáctico</td>\n",
              "      <td>4</td>\n",
              "    </tr>\n",
              "    <tr>\n",
              "      <th>3</th>\n",
              "      <td>léxica</td>\n",
              "      <td>3</td>\n",
              "    </tr>\n",
              "    <tr>\n",
              "      <th>4</th>\n",
              "      <td>humano</td>\n",
              "      <td>2</td>\n",
              "    </tr>\n",
              "    <tr>\n",
              "      <th>...</th>\n",
              "      <td>...</td>\n",
              "      <td>...</td>\n",
              "    </tr>\n",
              "    <tr>\n",
              "      <th>59</th>\n",
              "      <td>compuesto</td>\n",
              "      <td>1</td>\n",
              "    </tr>\n",
              "    <tr>\n",
              "      <th>60</th>\n",
              "      <td>adecuado</td>\n",
              "      <td>1</td>\n",
              "    </tr>\n",
              "    <tr>\n",
              "      <th>61</th>\n",
              "      <td>lineal</td>\n",
              "      <td>1</td>\n",
              "    </tr>\n",
              "    <tr>\n",
              "      <th>62</th>\n",
              "      <td>correspondiente</td>\n",
              "      <td>1</td>\n",
              "    </tr>\n",
              "    <tr>\n",
              "      <th>63</th>\n",
              "      <td>restante</td>\n",
              "      <td>1</td>\n",
              "    </tr>\n",
              "  </tbody>\n",
              "</table>\n",
              "<p>64 rows × 2 columns</p>\n",
              "</div>\n",
              "      <button class=\"colab-df-convert\" onclick=\"convertToInteractive('df-6d700780-9f92-477f-aa5d-db9ad9be3ec9')\"\n",
              "              title=\"Convert this dataframe to an interactive table.\"\n",
              "              style=\"display:none;\">\n",
              "        \n",
              "  <svg xmlns=\"http://www.w3.org/2000/svg\" height=\"24px\"viewBox=\"0 0 24 24\"\n",
              "       width=\"24px\">\n",
              "    <path d=\"M0 0h24v24H0V0z\" fill=\"none\"/>\n",
              "    <path d=\"M18.56 5.44l.94 2.06.94-2.06 2.06-.94-2.06-.94-.94-2.06-.94 2.06-2.06.94zm-11 1L8.5 8.5l.94-2.06 2.06-.94-2.06-.94L8.5 2.5l-.94 2.06-2.06.94zm10 10l.94 2.06.94-2.06 2.06-.94-2.06-.94-.94-2.06-.94 2.06-2.06.94z\"/><path d=\"M17.41 7.96l-1.37-1.37c-.4-.4-.92-.59-1.43-.59-.52 0-1.04.2-1.43.59L10.3 9.45l-7.72 7.72c-.78.78-.78 2.05 0 2.83L4 21.41c.39.39.9.59 1.41.59.51 0 1.02-.2 1.41-.59l7.78-7.78 2.81-2.81c.8-.78.8-2.07 0-2.86zM5.41 20L4 18.59l7.72-7.72 1.47 1.35L5.41 20z\"/>\n",
              "  </svg>\n",
              "      </button>\n",
              "      \n",
              "  <style>\n",
              "    .colab-df-container {\n",
              "      display:flex;\n",
              "      flex-wrap:wrap;\n",
              "      gap: 12px;\n",
              "    }\n",
              "\n",
              "    .colab-df-convert {\n",
              "      background-color: #E8F0FE;\n",
              "      border: none;\n",
              "      border-radius: 50%;\n",
              "      cursor: pointer;\n",
              "      display: none;\n",
              "      fill: #1967D2;\n",
              "      height: 32px;\n",
              "      padding: 0 0 0 0;\n",
              "      width: 32px;\n",
              "    }\n",
              "\n",
              "    .colab-df-convert:hover {\n",
              "      background-color: #E2EBFA;\n",
              "      box-shadow: 0px 1px 2px rgba(60, 64, 67, 0.3), 0px 1px 3px 1px rgba(60, 64, 67, 0.15);\n",
              "      fill: #174EA6;\n",
              "    }\n",
              "\n",
              "    [theme=dark] .colab-df-convert {\n",
              "      background-color: #3B4455;\n",
              "      fill: #D2E3FC;\n",
              "    }\n",
              "\n",
              "    [theme=dark] .colab-df-convert:hover {\n",
              "      background-color: #434B5C;\n",
              "      box-shadow: 0px 1px 3px 1px rgba(0, 0, 0, 0.15);\n",
              "      filter: drop-shadow(0px 1px 2px rgba(0, 0, 0, 0.3));\n",
              "      fill: #FFFFFF;\n",
              "    }\n",
              "  </style>\n",
              "\n",
              "      <script>\n",
              "        const buttonEl =\n",
              "          document.querySelector('#df-6d700780-9f92-477f-aa5d-db9ad9be3ec9 button.colab-df-convert');\n",
              "        buttonEl.style.display =\n",
              "          google.colab.kernel.accessAllowed ? 'block' : 'none';\n",
              "\n",
              "        async function convertToInteractive(key) {\n",
              "          const element = document.querySelector('#df-6d700780-9f92-477f-aa5d-db9ad9be3ec9');\n",
              "          const dataTable =\n",
              "            await google.colab.kernel.invokeFunction('convertToInteractive',\n",
              "                                                     [key], {});\n",
              "          if (!dataTable) return;\n",
              "\n",
              "          const docLinkHtml = 'Like what you see? Visit the ' +\n",
              "            '<a target=\"_blank\" href=https://colab.research.google.com/notebooks/data_table.ipynb>data table notebook</a>'\n",
              "            + ' to learn more about interactive tables.';\n",
              "          element.innerHTML = '';\n",
              "          dataTable['output_type'] = 'display_data';\n",
              "          await google.colab.output.renderOutput(dataTable, element);\n",
              "          const docLink = document.createElement('div');\n",
              "          docLink.innerHTML = docLinkHtml;\n",
              "          element.appendChild(docLink);\n",
              "        }\n",
              "      </script>\n",
              "    </div>\n",
              "  </div>\n",
              "  "
            ]
          },
          "metadata": {},
          "execution_count": 83
        }
      ]
    },
    {
      "cell_type": "code",
      "source": [
        "#Se crea una lista de sustantivos\n",
        "nouns = []\n",
        "for token in document:\n",
        "    if token.pos_ == 'NOUN':\n",
        "        nouns.append(token.lemma_)\n",
        "\n",
        "nouns_tally = Counter(nouns)\n",
        "\n",
        "df = pd.DataFrame(nouns_tally.most_common(), columns=['noun', 'count'])\n",
        "df[:100]"
      ],
      "metadata": {
        "colab": {
          "base_uri": "https://localhost:8080/",
          "height": 423
        },
        "id": "MlleTXvSamlJ",
        "outputId": "ebbb6f29-7768-4df4-d68c-b844434dcb57"
      },
      "execution_count": 84,
      "outputs": [
        {
          "output_type": "execute_result",
          "data": {
            "text/plain": [
              "         noun  count\n",
              "0    lenguaje      8\n",
              "1      lengua      8\n",
              "2     palabra      8\n",
              "3       frase      8\n",
              "4    análisis      7\n",
              "..        ...    ...\n",
              "95    resumen      1\n",
              "96   proyecto      1\n",
              "97  selección      1\n",
              "98   contexto      1\n",
              "99     método      1\n",
              "\n",
              "[100 rows x 2 columns]"
            ],
            "text/html": [
              "\n",
              "  <div id=\"df-0e04cb57-3d11-45a9-9dd1-69e6701cb538\">\n",
              "    <div class=\"colab-df-container\">\n",
              "      <div>\n",
              "<style scoped>\n",
              "    .dataframe tbody tr th:only-of-type {\n",
              "        vertical-align: middle;\n",
              "    }\n",
              "\n",
              "    .dataframe tbody tr th {\n",
              "        vertical-align: top;\n",
              "    }\n",
              "\n",
              "    .dataframe thead th {\n",
              "        text-align: right;\n",
              "    }\n",
              "</style>\n",
              "<table border=\"1\" class=\"dataframe\">\n",
              "  <thead>\n",
              "    <tr style=\"text-align: right;\">\n",
              "      <th></th>\n",
              "      <th>noun</th>\n",
              "      <th>count</th>\n",
              "    </tr>\n",
              "  </thead>\n",
              "  <tbody>\n",
              "    <tr>\n",
              "      <th>0</th>\n",
              "      <td>lenguaje</td>\n",
              "      <td>8</td>\n",
              "    </tr>\n",
              "    <tr>\n",
              "      <th>1</th>\n",
              "      <td>lengua</td>\n",
              "      <td>8</td>\n",
              "    </tr>\n",
              "    <tr>\n",
              "      <th>2</th>\n",
              "      <td>palabra</td>\n",
              "      <td>8</td>\n",
              "    </tr>\n",
              "    <tr>\n",
              "      <th>3</th>\n",
              "      <td>frase</td>\n",
              "      <td>8</td>\n",
              "    </tr>\n",
              "    <tr>\n",
              "      <th>4</th>\n",
              "      <td>análisis</td>\n",
              "      <td>7</td>\n",
              "    </tr>\n",
              "    <tr>\n",
              "      <th>...</th>\n",
              "      <td>...</td>\n",
              "      <td>...</td>\n",
              "    </tr>\n",
              "    <tr>\n",
              "      <th>95</th>\n",
              "      <td>resumen</td>\n",
              "      <td>1</td>\n",
              "    </tr>\n",
              "    <tr>\n",
              "      <th>96</th>\n",
              "      <td>proyecto</td>\n",
              "      <td>1</td>\n",
              "    </tr>\n",
              "    <tr>\n",
              "      <th>97</th>\n",
              "      <td>selección</td>\n",
              "      <td>1</td>\n",
              "    </tr>\n",
              "    <tr>\n",
              "      <th>98</th>\n",
              "      <td>contexto</td>\n",
              "      <td>1</td>\n",
              "    </tr>\n",
              "    <tr>\n",
              "      <th>99</th>\n",
              "      <td>método</td>\n",
              "      <td>1</td>\n",
              "    </tr>\n",
              "  </tbody>\n",
              "</table>\n",
              "<p>100 rows × 2 columns</p>\n",
              "</div>\n",
              "      <button class=\"colab-df-convert\" onclick=\"convertToInteractive('df-0e04cb57-3d11-45a9-9dd1-69e6701cb538')\"\n",
              "              title=\"Convert this dataframe to an interactive table.\"\n",
              "              style=\"display:none;\">\n",
              "        \n",
              "  <svg xmlns=\"http://www.w3.org/2000/svg\" height=\"24px\"viewBox=\"0 0 24 24\"\n",
              "       width=\"24px\">\n",
              "    <path d=\"M0 0h24v24H0V0z\" fill=\"none\"/>\n",
              "    <path d=\"M18.56 5.44l.94 2.06.94-2.06 2.06-.94-2.06-.94-.94-2.06-.94 2.06-2.06.94zm-11 1L8.5 8.5l.94-2.06 2.06-.94-2.06-.94L8.5 2.5l-.94 2.06-2.06.94zm10 10l.94 2.06.94-2.06 2.06-.94-2.06-.94-.94-2.06-.94 2.06-2.06.94z\"/><path d=\"M17.41 7.96l-1.37-1.37c-.4-.4-.92-.59-1.43-.59-.52 0-1.04.2-1.43.59L10.3 9.45l-7.72 7.72c-.78.78-.78 2.05 0 2.83L4 21.41c.39.39.9.59 1.41.59.51 0 1.02-.2 1.41-.59l7.78-7.78 2.81-2.81c.8-.78.8-2.07 0-2.86zM5.41 20L4 18.59l7.72-7.72 1.47 1.35L5.41 20z\"/>\n",
              "  </svg>\n",
              "      </button>\n",
              "      \n",
              "  <style>\n",
              "    .colab-df-container {\n",
              "      display:flex;\n",
              "      flex-wrap:wrap;\n",
              "      gap: 12px;\n",
              "    }\n",
              "\n",
              "    .colab-df-convert {\n",
              "      background-color: #E8F0FE;\n",
              "      border: none;\n",
              "      border-radius: 50%;\n",
              "      cursor: pointer;\n",
              "      display: none;\n",
              "      fill: #1967D2;\n",
              "      height: 32px;\n",
              "      padding: 0 0 0 0;\n",
              "      width: 32px;\n",
              "    }\n",
              "\n",
              "    .colab-df-convert:hover {\n",
              "      background-color: #E2EBFA;\n",
              "      box-shadow: 0px 1px 2px rgba(60, 64, 67, 0.3), 0px 1px 3px 1px rgba(60, 64, 67, 0.15);\n",
              "      fill: #174EA6;\n",
              "    }\n",
              "\n",
              "    [theme=dark] .colab-df-convert {\n",
              "      background-color: #3B4455;\n",
              "      fill: #D2E3FC;\n",
              "    }\n",
              "\n",
              "    [theme=dark] .colab-df-convert:hover {\n",
              "      background-color: #434B5C;\n",
              "      box-shadow: 0px 1px 3px 1px rgba(0, 0, 0, 0.15);\n",
              "      filter: drop-shadow(0px 1px 2px rgba(0, 0, 0, 0.3));\n",
              "      fill: #FFFFFF;\n",
              "    }\n",
              "  </style>\n",
              "\n",
              "      <script>\n",
              "        const buttonEl =\n",
              "          document.querySelector('#df-0e04cb57-3d11-45a9-9dd1-69e6701cb538 button.colab-df-convert');\n",
              "        buttonEl.style.display =\n",
              "          google.colab.kernel.accessAllowed ? 'block' : 'none';\n",
              "\n",
              "        async function convertToInteractive(key) {\n",
              "          const element = document.querySelector('#df-0e04cb57-3d11-45a9-9dd1-69e6701cb538');\n",
              "          const dataTable =\n",
              "            await google.colab.kernel.invokeFunction('convertToInteractive',\n",
              "                                                     [key], {});\n",
              "          if (!dataTable) return;\n",
              "\n",
              "          const docLinkHtml = 'Like what you see? Visit the ' +\n",
              "            '<a target=\"_blank\" href=https://colab.research.google.com/notebooks/data_table.ipynb>data table notebook</a>'\n",
              "            + ' to learn more about interactive tables.';\n",
              "          element.innerHTML = '';\n",
              "          dataTable['output_type'] = 'display_data';\n",
              "          await google.colab.output.renderOutput(dataTable, element);\n",
              "          const docLink = document.createElement('div');\n",
              "          docLink.innerHTML = docLinkHtml;\n",
              "          element.appendChild(docLink);\n",
              "        }\n",
              "      </script>\n",
              "    </div>\n",
              "  </div>\n",
              "  "
            ]
          },
          "metadata": {},
          "execution_count": 84
        }
      ]
    },
    {
      "cell_type": "code",
      "source": [
        "#Se crea una lista de verbos del texto\n",
        "verbs = [token.lemma_ for token in document if token.pos_ == 'VERB']\n",
        "\n",
        "verbs_tally = Counter(verbs)\n",
        "\n",
        "df = pd.DataFrame(verbs_tally.most_common(), columns=['verb', 'count'])\n",
        "df[:100]"
      ],
      "metadata": {
        "colab": {
          "base_uri": "https://localhost:8080/",
          "height": 1000
        },
        "id": "hZzD1G_8avCj",
        "outputId": "438e5d21-4c7d-4e57-c2a6-fed1c9e7b042"
      },
      "execution_count": 85,
      "outputs": [
        {
          "output_type": "execute_result",
          "data": {
            "text/plain": [
              "            verb  count\n",
              "0          tener      4\n",
              "1       estudiar      3\n",
              "2          basar      2\n",
              "3       resolver      2\n",
              "4     determinar      2\n",
              "5          hacer      2\n",
              "6        pln3​4​      1\n",
              "7         ocupar      1\n",
              "8         tratar      1\n",
              "9        diseñar      1\n",
              "10  comunicar él      1\n",
              "11      realizar      1\n",
              "12      ejecutir      1\n",
              "13       simulen      1\n",
              "14       enfocar      1\n",
              "15        servir      1\n",
              "16       empezar      1\n",
              "17     encontrar      1\n",
              "18      publicar      1\n",
              "19      proponer      1\n",
              "20        llamar      1\n",
              "21     involucró      1\n",
              "22      sostener      1\n",
              "23     demostrar      1\n",
              "24        llevar      1\n",
              "25   desarrollar      1\n",
              "26         deber      1\n",
              "27    desalentar      1\n",
              "28          usar      1\n",
              "29     consultar      1\n",
              "30       deducir      1\n",
              "31      implicar      1\n",
              "32      requerir      1\n",
              "33   desambiguar      1\n",
              "34      conducir      1\n",
              "35        romper      1\n",
              "36    significar      1\n",
              "37         decir      1\n",
              "38         soler      1\n",
              "39       separar      1\n",
              "40      depender      1\n",
              "41      mantener      1\n",
              "42       extraer      1\n",
              "43   estructurar      1\n",
              "44      expresar      1"
            ],
            "text/html": [
              "\n",
              "  <div id=\"df-b588d91f-8b92-4c04-9d26-236a2d836cbe\">\n",
              "    <div class=\"colab-df-container\">\n",
              "      <div>\n",
              "<style scoped>\n",
              "    .dataframe tbody tr th:only-of-type {\n",
              "        vertical-align: middle;\n",
              "    }\n",
              "\n",
              "    .dataframe tbody tr th {\n",
              "        vertical-align: top;\n",
              "    }\n",
              "\n",
              "    .dataframe thead th {\n",
              "        text-align: right;\n",
              "    }\n",
              "</style>\n",
              "<table border=\"1\" class=\"dataframe\">\n",
              "  <thead>\n",
              "    <tr style=\"text-align: right;\">\n",
              "      <th></th>\n",
              "      <th>verb</th>\n",
              "      <th>count</th>\n",
              "    </tr>\n",
              "  </thead>\n",
              "  <tbody>\n",
              "    <tr>\n",
              "      <th>0</th>\n",
              "      <td>tener</td>\n",
              "      <td>4</td>\n",
              "    </tr>\n",
              "    <tr>\n",
              "      <th>1</th>\n",
              "      <td>estudiar</td>\n",
              "      <td>3</td>\n",
              "    </tr>\n",
              "    <tr>\n",
              "      <th>2</th>\n",
              "      <td>basar</td>\n",
              "      <td>2</td>\n",
              "    </tr>\n",
              "    <tr>\n",
              "      <th>3</th>\n",
              "      <td>resolver</td>\n",
              "      <td>2</td>\n",
              "    </tr>\n",
              "    <tr>\n",
              "      <th>4</th>\n",
              "      <td>determinar</td>\n",
              "      <td>2</td>\n",
              "    </tr>\n",
              "    <tr>\n",
              "      <th>5</th>\n",
              "      <td>hacer</td>\n",
              "      <td>2</td>\n",
              "    </tr>\n",
              "    <tr>\n",
              "      <th>6</th>\n",
              "      <td>pln3​4​</td>\n",
              "      <td>1</td>\n",
              "    </tr>\n",
              "    <tr>\n",
              "      <th>7</th>\n",
              "      <td>ocupar</td>\n",
              "      <td>1</td>\n",
              "    </tr>\n",
              "    <tr>\n",
              "      <th>8</th>\n",
              "      <td>tratar</td>\n",
              "      <td>1</td>\n",
              "    </tr>\n",
              "    <tr>\n",
              "      <th>9</th>\n",
              "      <td>diseñar</td>\n",
              "      <td>1</td>\n",
              "    </tr>\n",
              "    <tr>\n",
              "      <th>10</th>\n",
              "      <td>comunicar él</td>\n",
              "      <td>1</td>\n",
              "    </tr>\n",
              "    <tr>\n",
              "      <th>11</th>\n",
              "      <td>realizar</td>\n",
              "      <td>1</td>\n",
              "    </tr>\n",
              "    <tr>\n",
              "      <th>12</th>\n",
              "      <td>ejecutir</td>\n",
              "      <td>1</td>\n",
              "    </tr>\n",
              "    <tr>\n",
              "      <th>13</th>\n",
              "      <td>simulen</td>\n",
              "      <td>1</td>\n",
              "    </tr>\n",
              "    <tr>\n",
              "      <th>14</th>\n",
              "      <td>enfocar</td>\n",
              "      <td>1</td>\n",
              "    </tr>\n",
              "    <tr>\n",
              "      <th>15</th>\n",
              "      <td>servir</td>\n",
              "      <td>1</td>\n",
              "    </tr>\n",
              "    <tr>\n",
              "      <th>16</th>\n",
              "      <td>empezar</td>\n",
              "      <td>1</td>\n",
              "    </tr>\n",
              "    <tr>\n",
              "      <th>17</th>\n",
              "      <td>encontrar</td>\n",
              "      <td>1</td>\n",
              "    </tr>\n",
              "    <tr>\n",
              "      <th>18</th>\n",
              "      <td>publicar</td>\n",
              "      <td>1</td>\n",
              "    </tr>\n",
              "    <tr>\n",
              "      <th>19</th>\n",
              "      <td>proponer</td>\n",
              "      <td>1</td>\n",
              "    </tr>\n",
              "    <tr>\n",
              "      <th>20</th>\n",
              "      <td>llamar</td>\n",
              "      <td>1</td>\n",
              "    </tr>\n",
              "    <tr>\n",
              "      <th>21</th>\n",
              "      <td>involucró</td>\n",
              "      <td>1</td>\n",
              "    </tr>\n",
              "    <tr>\n",
              "      <th>22</th>\n",
              "      <td>sostener</td>\n",
              "      <td>1</td>\n",
              "    </tr>\n",
              "    <tr>\n",
              "      <th>23</th>\n",
              "      <td>demostrar</td>\n",
              "      <td>1</td>\n",
              "    </tr>\n",
              "    <tr>\n",
              "      <th>24</th>\n",
              "      <td>llevar</td>\n",
              "      <td>1</td>\n",
              "    </tr>\n",
              "    <tr>\n",
              "      <th>25</th>\n",
              "      <td>desarrollar</td>\n",
              "      <td>1</td>\n",
              "    </tr>\n",
              "    <tr>\n",
              "      <th>26</th>\n",
              "      <td>deber</td>\n",
              "      <td>1</td>\n",
              "    </tr>\n",
              "    <tr>\n",
              "      <th>27</th>\n",
              "      <td>desalentar</td>\n",
              "      <td>1</td>\n",
              "    </tr>\n",
              "    <tr>\n",
              "      <th>28</th>\n",
              "      <td>usar</td>\n",
              "      <td>1</td>\n",
              "    </tr>\n",
              "    <tr>\n",
              "      <th>29</th>\n",
              "      <td>consultar</td>\n",
              "      <td>1</td>\n",
              "    </tr>\n",
              "    <tr>\n",
              "      <th>30</th>\n",
              "      <td>deducir</td>\n",
              "      <td>1</td>\n",
              "    </tr>\n",
              "    <tr>\n",
              "      <th>31</th>\n",
              "      <td>implicar</td>\n",
              "      <td>1</td>\n",
              "    </tr>\n",
              "    <tr>\n",
              "      <th>32</th>\n",
              "      <td>requerir</td>\n",
              "      <td>1</td>\n",
              "    </tr>\n",
              "    <tr>\n",
              "      <th>33</th>\n",
              "      <td>desambiguar</td>\n",
              "      <td>1</td>\n",
              "    </tr>\n",
              "    <tr>\n",
              "      <th>34</th>\n",
              "      <td>conducir</td>\n",
              "      <td>1</td>\n",
              "    </tr>\n",
              "    <tr>\n",
              "      <th>35</th>\n",
              "      <td>romper</td>\n",
              "      <td>1</td>\n",
              "    </tr>\n",
              "    <tr>\n",
              "      <th>36</th>\n",
              "      <td>significar</td>\n",
              "      <td>1</td>\n",
              "    </tr>\n",
              "    <tr>\n",
              "      <th>37</th>\n",
              "      <td>decir</td>\n",
              "      <td>1</td>\n",
              "    </tr>\n",
              "    <tr>\n",
              "      <th>38</th>\n",
              "      <td>soler</td>\n",
              "      <td>1</td>\n",
              "    </tr>\n",
              "    <tr>\n",
              "      <th>39</th>\n",
              "      <td>separar</td>\n",
              "      <td>1</td>\n",
              "    </tr>\n",
              "    <tr>\n",
              "      <th>40</th>\n",
              "      <td>depender</td>\n",
              "      <td>1</td>\n",
              "    </tr>\n",
              "    <tr>\n",
              "      <th>41</th>\n",
              "      <td>mantener</td>\n",
              "      <td>1</td>\n",
              "    </tr>\n",
              "    <tr>\n",
              "      <th>42</th>\n",
              "      <td>extraer</td>\n",
              "      <td>1</td>\n",
              "    </tr>\n",
              "    <tr>\n",
              "      <th>43</th>\n",
              "      <td>estructurar</td>\n",
              "      <td>1</td>\n",
              "    </tr>\n",
              "    <tr>\n",
              "      <th>44</th>\n",
              "      <td>expresar</td>\n",
              "      <td>1</td>\n",
              "    </tr>\n",
              "  </tbody>\n",
              "</table>\n",
              "</div>\n",
              "      <button class=\"colab-df-convert\" onclick=\"convertToInteractive('df-b588d91f-8b92-4c04-9d26-236a2d836cbe')\"\n",
              "              title=\"Convert this dataframe to an interactive table.\"\n",
              "              style=\"display:none;\">\n",
              "        \n",
              "  <svg xmlns=\"http://www.w3.org/2000/svg\" height=\"24px\"viewBox=\"0 0 24 24\"\n",
              "       width=\"24px\">\n",
              "    <path d=\"M0 0h24v24H0V0z\" fill=\"none\"/>\n",
              "    <path d=\"M18.56 5.44l.94 2.06.94-2.06 2.06-.94-2.06-.94-.94-2.06-.94 2.06-2.06.94zm-11 1L8.5 8.5l.94-2.06 2.06-.94-2.06-.94L8.5 2.5l-.94 2.06-2.06.94zm10 10l.94 2.06.94-2.06 2.06-.94-2.06-.94-.94-2.06-.94 2.06-2.06.94z\"/><path d=\"M17.41 7.96l-1.37-1.37c-.4-.4-.92-.59-1.43-.59-.52 0-1.04.2-1.43.59L10.3 9.45l-7.72 7.72c-.78.78-.78 2.05 0 2.83L4 21.41c.39.39.9.59 1.41.59.51 0 1.02-.2 1.41-.59l7.78-7.78 2.81-2.81c.8-.78.8-2.07 0-2.86zM5.41 20L4 18.59l7.72-7.72 1.47 1.35L5.41 20z\"/>\n",
              "  </svg>\n",
              "      </button>\n",
              "      \n",
              "  <style>\n",
              "    .colab-df-container {\n",
              "      display:flex;\n",
              "      flex-wrap:wrap;\n",
              "      gap: 12px;\n",
              "    }\n",
              "\n",
              "    .colab-df-convert {\n",
              "      background-color: #E8F0FE;\n",
              "      border: none;\n",
              "      border-radius: 50%;\n",
              "      cursor: pointer;\n",
              "      display: none;\n",
              "      fill: #1967D2;\n",
              "      height: 32px;\n",
              "      padding: 0 0 0 0;\n",
              "      width: 32px;\n",
              "    }\n",
              "\n",
              "    .colab-df-convert:hover {\n",
              "      background-color: #E2EBFA;\n",
              "      box-shadow: 0px 1px 2px rgba(60, 64, 67, 0.3), 0px 1px 3px 1px rgba(60, 64, 67, 0.15);\n",
              "      fill: #174EA6;\n",
              "    }\n",
              "\n",
              "    [theme=dark] .colab-df-convert {\n",
              "      background-color: #3B4455;\n",
              "      fill: #D2E3FC;\n",
              "    }\n",
              "\n",
              "    [theme=dark] .colab-df-convert:hover {\n",
              "      background-color: #434B5C;\n",
              "      box-shadow: 0px 1px 3px 1px rgba(0, 0, 0, 0.15);\n",
              "      filter: drop-shadow(0px 1px 2px rgba(0, 0, 0, 0.3));\n",
              "      fill: #FFFFFF;\n",
              "    }\n",
              "  </style>\n",
              "\n",
              "      <script>\n",
              "        const buttonEl =\n",
              "          document.querySelector('#df-b588d91f-8b92-4c04-9d26-236a2d836cbe button.colab-df-convert');\n",
              "        buttonEl.style.display =\n",
              "          google.colab.kernel.accessAllowed ? 'block' : 'none';\n",
              "\n",
              "        async function convertToInteractive(key) {\n",
              "          const element = document.querySelector('#df-b588d91f-8b92-4c04-9d26-236a2d836cbe');\n",
              "          const dataTable =\n",
              "            await google.colab.kernel.invokeFunction('convertToInteractive',\n",
              "                                                     [key], {});\n",
              "          if (!dataTable) return;\n",
              "\n",
              "          const docLinkHtml = 'Like what you see? Visit the ' +\n",
              "            '<a target=\"_blank\" href=https://colab.research.google.com/notebooks/data_table.ipynb>data table notebook</a>'\n",
              "            + ' to learn more about interactive tables.';\n",
              "          element.innerHTML = '';\n",
              "          dataTable['output_type'] = 'display_data';\n",
              "          await google.colab.output.renderOutput(dataTable, element);\n",
              "          const docLink = document.createElement('div');\n",
              "          docLink.innerHTML = docLinkHtml;\n",
              "          element.appendChild(docLink);\n",
              "        }\n",
              "      </script>\n",
              "    </div>\n",
              "  </div>\n",
              "  "
            ]
          },
          "metadata": {},
          "execution_count": 85
        }
      ]
    },
    {
      "cell_type": "code",
      "source": [
        "#Ejercicio: analisis de un texto en español\n",
        "#Importar un libro\n"
      ],
      "metadata": {
        "id": "SN7aBxx5Mjn7"
      },
      "execution_count": null,
      "outputs": []
    },
    {
      "cell_type": "code",
      "source": [
        "filepath_ = 'cien.txt'\n",
        "text_ = open(filepath_, encoding='utf-8').read()\n",
        "document_ = nlp(text_)"
      ],
      "metadata": {
        "id": "e3TEO5rjMjzk"
      },
      "execution_count": 92,
      "outputs": []
    },
    {
      "cell_type": "code",
      "source": [
        "#Se crea una lista de adverbios\n",
        "adjs_ = []\n",
        "for token in document_:\n",
        "    if token.pos_ == 'ADJ':\n",
        "        adjs_.append(token.lemma_)\n"
      ],
      "metadata": {
        "id": "cxZb8UN2MkDM"
      },
      "execution_count": 93,
      "outputs": []
    },
    {
      "cell_type": "code",
      "source": [
        "adjs__tally = Counter(adjs_)\n",
        "adjs__tally\n",
        "adjs__tally.most_common()\n",
        "df_ad_ = pd.DataFrame(adjs__tally.most_common(), columns=['adj', 'count'])\n",
        "df_ad_[:100]"
      ],
      "metadata": {
        "colab": {
          "base_uri": "https://localhost:8080/",
          "height": 423
        },
        "id": "riI_ugGgN8vq",
        "outputId": "98a3715c-8819-402a-ac16-b00a56a45340"
      },
      "execution_count": 94,
      "outputs": [
        {
          "output_type": "execute_result",
          "data": {
            "text/plain": [
              "         adj  count\n",
              "0    primero    184\n",
              "1      único    140\n",
              "2     último    135\n",
              "3    segundo     95\n",
              "4      nuevo     75\n",
              "..       ...    ...\n",
              "95      raro     14\n",
              "96   marcado     14\n",
              "97  personal     14\n",
              "98  nocturno     14\n",
              "99    oscuro     13\n",
              "\n",
              "[100 rows x 2 columns]"
            ],
            "text/html": [
              "\n",
              "  <div id=\"df-bf99f7a9-e54a-4ed6-bb72-99fad32f351a\">\n",
              "    <div class=\"colab-df-container\">\n",
              "      <div>\n",
              "<style scoped>\n",
              "    .dataframe tbody tr th:only-of-type {\n",
              "        vertical-align: middle;\n",
              "    }\n",
              "\n",
              "    .dataframe tbody tr th {\n",
              "        vertical-align: top;\n",
              "    }\n",
              "\n",
              "    .dataframe thead th {\n",
              "        text-align: right;\n",
              "    }\n",
              "</style>\n",
              "<table border=\"1\" class=\"dataframe\">\n",
              "  <thead>\n",
              "    <tr style=\"text-align: right;\">\n",
              "      <th></th>\n",
              "      <th>adj</th>\n",
              "      <th>count</th>\n",
              "    </tr>\n",
              "  </thead>\n",
              "  <tbody>\n",
              "    <tr>\n",
              "      <th>0</th>\n",
              "      <td>primero</td>\n",
              "      <td>184</td>\n",
              "    </tr>\n",
              "    <tr>\n",
              "      <th>1</th>\n",
              "      <td>único</td>\n",
              "      <td>140</td>\n",
              "    </tr>\n",
              "    <tr>\n",
              "      <th>2</th>\n",
              "      <td>último</td>\n",
              "      <td>135</td>\n",
              "    </tr>\n",
              "    <tr>\n",
              "      <th>3</th>\n",
              "      <td>segundo</td>\n",
              "      <td>95</td>\n",
              "    </tr>\n",
              "    <tr>\n",
              "      <th>4</th>\n",
              "      <td>nuevo</td>\n",
              "      <td>75</td>\n",
              "    </tr>\n",
              "    <tr>\n",
              "      <th>...</th>\n",
              "      <td>...</td>\n",
              "      <td>...</td>\n",
              "    </tr>\n",
              "    <tr>\n",
              "      <th>95</th>\n",
              "      <td>raro</td>\n",
              "      <td>14</td>\n",
              "    </tr>\n",
              "    <tr>\n",
              "      <th>96</th>\n",
              "      <td>marcado</td>\n",
              "      <td>14</td>\n",
              "    </tr>\n",
              "    <tr>\n",
              "      <th>97</th>\n",
              "      <td>personal</td>\n",
              "      <td>14</td>\n",
              "    </tr>\n",
              "    <tr>\n",
              "      <th>98</th>\n",
              "      <td>nocturno</td>\n",
              "      <td>14</td>\n",
              "    </tr>\n",
              "    <tr>\n",
              "      <th>99</th>\n",
              "      <td>oscuro</td>\n",
              "      <td>13</td>\n",
              "    </tr>\n",
              "  </tbody>\n",
              "</table>\n",
              "<p>100 rows × 2 columns</p>\n",
              "</div>\n",
              "      <button class=\"colab-df-convert\" onclick=\"convertToInteractive('df-bf99f7a9-e54a-4ed6-bb72-99fad32f351a')\"\n",
              "              title=\"Convert this dataframe to an interactive table.\"\n",
              "              style=\"display:none;\">\n",
              "        \n",
              "  <svg xmlns=\"http://www.w3.org/2000/svg\" height=\"24px\"viewBox=\"0 0 24 24\"\n",
              "       width=\"24px\">\n",
              "    <path d=\"M0 0h24v24H0V0z\" fill=\"none\"/>\n",
              "    <path d=\"M18.56 5.44l.94 2.06.94-2.06 2.06-.94-2.06-.94-.94-2.06-.94 2.06-2.06.94zm-11 1L8.5 8.5l.94-2.06 2.06-.94-2.06-.94L8.5 2.5l-.94 2.06-2.06.94zm10 10l.94 2.06.94-2.06 2.06-.94-2.06-.94-.94-2.06-.94 2.06-2.06.94z\"/><path d=\"M17.41 7.96l-1.37-1.37c-.4-.4-.92-.59-1.43-.59-.52 0-1.04.2-1.43.59L10.3 9.45l-7.72 7.72c-.78.78-.78 2.05 0 2.83L4 21.41c.39.39.9.59 1.41.59.51 0 1.02-.2 1.41-.59l7.78-7.78 2.81-2.81c.8-.78.8-2.07 0-2.86zM5.41 20L4 18.59l7.72-7.72 1.47 1.35L5.41 20z\"/>\n",
              "  </svg>\n",
              "      </button>\n",
              "      \n",
              "  <style>\n",
              "    .colab-df-container {\n",
              "      display:flex;\n",
              "      flex-wrap:wrap;\n",
              "      gap: 12px;\n",
              "    }\n",
              "\n",
              "    .colab-df-convert {\n",
              "      background-color: #E8F0FE;\n",
              "      border: none;\n",
              "      border-radius: 50%;\n",
              "      cursor: pointer;\n",
              "      display: none;\n",
              "      fill: #1967D2;\n",
              "      height: 32px;\n",
              "      padding: 0 0 0 0;\n",
              "      width: 32px;\n",
              "    }\n",
              "\n",
              "    .colab-df-convert:hover {\n",
              "      background-color: #E2EBFA;\n",
              "      box-shadow: 0px 1px 2px rgba(60, 64, 67, 0.3), 0px 1px 3px 1px rgba(60, 64, 67, 0.15);\n",
              "      fill: #174EA6;\n",
              "    }\n",
              "\n",
              "    [theme=dark] .colab-df-convert {\n",
              "      background-color: #3B4455;\n",
              "      fill: #D2E3FC;\n",
              "    }\n",
              "\n",
              "    [theme=dark] .colab-df-convert:hover {\n",
              "      background-color: #434B5C;\n",
              "      box-shadow: 0px 1px 3px 1px rgba(0, 0, 0, 0.15);\n",
              "      filter: drop-shadow(0px 1px 2px rgba(0, 0, 0, 0.3));\n",
              "      fill: #FFFFFF;\n",
              "    }\n",
              "  </style>\n",
              "\n",
              "      <script>\n",
              "        const buttonEl =\n",
              "          document.querySelector('#df-bf99f7a9-e54a-4ed6-bb72-99fad32f351a button.colab-df-convert');\n",
              "        buttonEl.style.display =\n",
              "          google.colab.kernel.accessAllowed ? 'block' : 'none';\n",
              "\n",
              "        async function convertToInteractive(key) {\n",
              "          const element = document.querySelector('#df-bf99f7a9-e54a-4ed6-bb72-99fad32f351a');\n",
              "          const dataTable =\n",
              "            await google.colab.kernel.invokeFunction('convertToInteractive',\n",
              "                                                     [key], {});\n",
              "          if (!dataTable) return;\n",
              "\n",
              "          const docLinkHtml = 'Like what you see? Visit the ' +\n",
              "            '<a target=\"_blank\" href=https://colab.research.google.com/notebooks/data_table.ipynb>data table notebook</a>'\n",
              "            + ' to learn more about interactive tables.';\n",
              "          element.innerHTML = '';\n",
              "          dataTable['output_type'] = 'display_data';\n",
              "          await google.colab.output.renderOutput(dataTable, element);\n",
              "          const docLink = document.createElement('div');\n",
              "          docLink.innerHTML = docLinkHtml;\n",
              "          element.appendChild(docLink);\n",
              "        }\n",
              "      </script>\n",
              "    </div>\n",
              "  </div>\n",
              "  "
            ]
          },
          "metadata": {},
          "execution_count": 94
        }
      ]
    },
    {
      "cell_type": "code",
      "source": [
        "#Se crea una lista de sustantivos\n",
        "nouns_ = []\n",
        "for token in document_:\n",
        "    if token.pos_ == 'NOUN':\n",
        "        nouns_.append(token.lemma_)\n",
        "\n",
        "nouns__tally = Counter(nouns_)\n",
        "\n",
        "df_n = pd.DataFrame(nouns__tally.most_common(), columns=['noun', 'count'])\n",
        "df_n[:100]"
      ],
      "metadata": {
        "colab": {
          "base_uri": "https://localhost:8080/",
          "height": 423
        },
        "id": "UYLY4SxzNJzF",
        "outputId": "34afaec5-1b53-4df6-9b44-9f8e69026e3b"
      },
      "execution_count": 95,
      "outputs": [
        {
          "output_type": "execute_result",
          "data": {
            "text/plain": [
              "         noun  count\n",
              "0        casa    495\n",
              "1         año    385\n",
              "2      tiempo    323\n",
              "3     coronel    301\n",
              "4         vez    301\n",
              "..        ...    ...\n",
              "95       dedo     40\n",
              "96      brazo     40\n",
              "97     sangre     40\n",
              "98  costumbre     40\n",
              "99      calor     39\n",
              "\n",
              "[100 rows x 2 columns]"
            ],
            "text/html": [
              "\n",
              "  <div id=\"df-96667a77-0d44-4c00-98cc-90a1bad17375\">\n",
              "    <div class=\"colab-df-container\">\n",
              "      <div>\n",
              "<style scoped>\n",
              "    .dataframe tbody tr th:only-of-type {\n",
              "        vertical-align: middle;\n",
              "    }\n",
              "\n",
              "    .dataframe tbody tr th {\n",
              "        vertical-align: top;\n",
              "    }\n",
              "\n",
              "    .dataframe thead th {\n",
              "        text-align: right;\n",
              "    }\n",
              "</style>\n",
              "<table border=\"1\" class=\"dataframe\">\n",
              "  <thead>\n",
              "    <tr style=\"text-align: right;\">\n",
              "      <th></th>\n",
              "      <th>noun</th>\n",
              "      <th>count</th>\n",
              "    </tr>\n",
              "  </thead>\n",
              "  <tbody>\n",
              "    <tr>\n",
              "      <th>0</th>\n",
              "      <td>casa</td>\n",
              "      <td>495</td>\n",
              "    </tr>\n",
              "    <tr>\n",
              "      <th>1</th>\n",
              "      <td>año</td>\n",
              "      <td>385</td>\n",
              "    </tr>\n",
              "    <tr>\n",
              "      <th>2</th>\n",
              "      <td>tiempo</td>\n",
              "      <td>323</td>\n",
              "    </tr>\n",
              "    <tr>\n",
              "      <th>3</th>\n",
              "      <td>coronel</td>\n",
              "      <td>301</td>\n",
              "    </tr>\n",
              "    <tr>\n",
              "      <th>4</th>\n",
              "      <td>vez</td>\n",
              "      <td>301</td>\n",
              "    </tr>\n",
              "    <tr>\n",
              "      <th>...</th>\n",
              "      <td>...</td>\n",
              "      <td>...</td>\n",
              "    </tr>\n",
              "    <tr>\n",
              "      <th>95</th>\n",
              "      <td>dedo</td>\n",
              "      <td>40</td>\n",
              "    </tr>\n",
              "    <tr>\n",
              "      <th>96</th>\n",
              "      <td>brazo</td>\n",
              "      <td>40</td>\n",
              "    </tr>\n",
              "    <tr>\n",
              "      <th>97</th>\n",
              "      <td>sangre</td>\n",
              "      <td>40</td>\n",
              "    </tr>\n",
              "    <tr>\n",
              "      <th>98</th>\n",
              "      <td>costumbre</td>\n",
              "      <td>40</td>\n",
              "    </tr>\n",
              "    <tr>\n",
              "      <th>99</th>\n",
              "      <td>calor</td>\n",
              "      <td>39</td>\n",
              "    </tr>\n",
              "  </tbody>\n",
              "</table>\n",
              "<p>100 rows × 2 columns</p>\n",
              "</div>\n",
              "      <button class=\"colab-df-convert\" onclick=\"convertToInteractive('df-96667a77-0d44-4c00-98cc-90a1bad17375')\"\n",
              "              title=\"Convert this dataframe to an interactive table.\"\n",
              "              style=\"display:none;\">\n",
              "        \n",
              "  <svg xmlns=\"http://www.w3.org/2000/svg\" height=\"24px\"viewBox=\"0 0 24 24\"\n",
              "       width=\"24px\">\n",
              "    <path d=\"M0 0h24v24H0V0z\" fill=\"none\"/>\n",
              "    <path d=\"M18.56 5.44l.94 2.06.94-2.06 2.06-.94-2.06-.94-.94-2.06-.94 2.06-2.06.94zm-11 1L8.5 8.5l.94-2.06 2.06-.94-2.06-.94L8.5 2.5l-.94 2.06-2.06.94zm10 10l.94 2.06.94-2.06 2.06-.94-2.06-.94-.94-2.06-.94 2.06-2.06.94z\"/><path d=\"M17.41 7.96l-1.37-1.37c-.4-.4-.92-.59-1.43-.59-.52 0-1.04.2-1.43.59L10.3 9.45l-7.72 7.72c-.78.78-.78 2.05 0 2.83L4 21.41c.39.39.9.59 1.41.59.51 0 1.02-.2 1.41-.59l7.78-7.78 2.81-2.81c.8-.78.8-2.07 0-2.86zM5.41 20L4 18.59l7.72-7.72 1.47 1.35L5.41 20z\"/>\n",
              "  </svg>\n",
              "      </button>\n",
              "      \n",
              "  <style>\n",
              "    .colab-df-container {\n",
              "      display:flex;\n",
              "      flex-wrap:wrap;\n",
              "      gap: 12px;\n",
              "    }\n",
              "\n",
              "    .colab-df-convert {\n",
              "      background-color: #E8F0FE;\n",
              "      border: none;\n",
              "      border-radius: 50%;\n",
              "      cursor: pointer;\n",
              "      display: none;\n",
              "      fill: #1967D2;\n",
              "      height: 32px;\n",
              "      padding: 0 0 0 0;\n",
              "      width: 32px;\n",
              "    }\n",
              "\n",
              "    .colab-df-convert:hover {\n",
              "      background-color: #E2EBFA;\n",
              "      box-shadow: 0px 1px 2px rgba(60, 64, 67, 0.3), 0px 1px 3px 1px rgba(60, 64, 67, 0.15);\n",
              "      fill: #174EA6;\n",
              "    }\n",
              "\n",
              "    [theme=dark] .colab-df-convert {\n",
              "      background-color: #3B4455;\n",
              "      fill: #D2E3FC;\n",
              "    }\n",
              "\n",
              "    [theme=dark] .colab-df-convert:hover {\n",
              "      background-color: #434B5C;\n",
              "      box-shadow: 0px 1px 3px 1px rgba(0, 0, 0, 0.15);\n",
              "      filter: drop-shadow(0px 1px 2px rgba(0, 0, 0, 0.3));\n",
              "      fill: #FFFFFF;\n",
              "    }\n",
              "  </style>\n",
              "\n",
              "      <script>\n",
              "        const buttonEl =\n",
              "          document.querySelector('#df-96667a77-0d44-4c00-98cc-90a1bad17375 button.colab-df-convert');\n",
              "        buttonEl.style.display =\n",
              "          google.colab.kernel.accessAllowed ? 'block' : 'none';\n",
              "\n",
              "        async function convertToInteractive(key) {\n",
              "          const element = document.querySelector('#df-96667a77-0d44-4c00-98cc-90a1bad17375');\n",
              "          const dataTable =\n",
              "            await google.colab.kernel.invokeFunction('convertToInteractive',\n",
              "                                                     [key], {});\n",
              "          if (!dataTable) return;\n",
              "\n",
              "          const docLinkHtml = 'Like what you see? Visit the ' +\n",
              "            '<a target=\"_blank\" href=https://colab.research.google.com/notebooks/data_table.ipynb>data table notebook</a>'\n",
              "            + ' to learn more about interactive tables.';\n",
              "          element.innerHTML = '';\n",
              "          dataTable['output_type'] = 'display_data';\n",
              "          await google.colab.output.renderOutput(dataTable, element);\n",
              "          const docLink = document.createElement('div');\n",
              "          docLink.innerHTML = docLinkHtml;\n",
              "          element.appendChild(docLink);\n",
              "        }\n",
              "      </script>\n",
              "    </div>\n",
              "  </div>\n",
              "  "
            ]
          },
          "metadata": {},
          "execution_count": 95
        }
      ]
    },
    {
      "cell_type": "code",
      "source": [
        "#Se crea una lista con los verbos\n",
        "verbs_ = []\n",
        "for token in document_:\n",
        "    if token.pos_ == 'VERB':\n",
        "        verbs_.append(token.lemma_)\n",
        "\n",
        "verbs__tally = Counter(verbs_)\n",
        "\n",
        "df_v = pd.DataFrame(verbs__tally.most_common(), columns=['verb', 'count'])\n",
        "df_v[:100]"
      ],
      "metadata": {
        "colab": {
          "base_uri": "https://localhost:8080/",
          "height": 423
        },
        "id": "YSZdp8RMNJ9Q",
        "outputId": "d34108fb-3245-4497-a8e2-9cf04f499583"
      },
      "execution_count": 96,
      "outputs": [
        {
          "output_type": "execute_result",
          "data": {
            "text/plain": [
              "        verb  count\n",
              "0      tener    527\n",
              "1      hacer    519\n",
              "2        ver    329\n",
              "3        dar    279\n",
              "4     llevar    275\n",
              "..       ...    ...\n",
              "95  mantener     29\n",
              "96       ser     29\n",
              "97    llenar     29\n",
              "98     jugar     29\n",
              "99     casar     28\n",
              "\n",
              "[100 rows x 2 columns]"
            ],
            "text/html": [
              "\n",
              "  <div id=\"df-6ed1fbf6-0c05-4ced-b11a-7ca7d5ea103a\">\n",
              "    <div class=\"colab-df-container\">\n",
              "      <div>\n",
              "<style scoped>\n",
              "    .dataframe tbody tr th:only-of-type {\n",
              "        vertical-align: middle;\n",
              "    }\n",
              "\n",
              "    .dataframe tbody tr th {\n",
              "        vertical-align: top;\n",
              "    }\n",
              "\n",
              "    .dataframe thead th {\n",
              "        text-align: right;\n",
              "    }\n",
              "</style>\n",
              "<table border=\"1\" class=\"dataframe\">\n",
              "  <thead>\n",
              "    <tr style=\"text-align: right;\">\n",
              "      <th></th>\n",
              "      <th>verb</th>\n",
              "      <th>count</th>\n",
              "    </tr>\n",
              "  </thead>\n",
              "  <tbody>\n",
              "    <tr>\n",
              "      <th>0</th>\n",
              "      <td>tener</td>\n",
              "      <td>527</td>\n",
              "    </tr>\n",
              "    <tr>\n",
              "      <th>1</th>\n",
              "      <td>hacer</td>\n",
              "      <td>519</td>\n",
              "    </tr>\n",
              "    <tr>\n",
              "      <th>2</th>\n",
              "      <td>ver</td>\n",
              "      <td>329</td>\n",
              "    </tr>\n",
              "    <tr>\n",
              "      <th>3</th>\n",
              "      <td>dar</td>\n",
              "      <td>279</td>\n",
              "    </tr>\n",
              "    <tr>\n",
              "      <th>4</th>\n",
              "      <td>llevar</td>\n",
              "      <td>275</td>\n",
              "    </tr>\n",
              "    <tr>\n",
              "      <th>...</th>\n",
              "      <td>...</td>\n",
              "      <td>...</td>\n",
              "    </tr>\n",
              "    <tr>\n",
              "      <th>95</th>\n",
              "      <td>mantener</td>\n",
              "      <td>29</td>\n",
              "    </tr>\n",
              "    <tr>\n",
              "      <th>96</th>\n",
              "      <td>ser</td>\n",
              "      <td>29</td>\n",
              "    </tr>\n",
              "    <tr>\n",
              "      <th>97</th>\n",
              "      <td>llenar</td>\n",
              "      <td>29</td>\n",
              "    </tr>\n",
              "    <tr>\n",
              "      <th>98</th>\n",
              "      <td>jugar</td>\n",
              "      <td>29</td>\n",
              "    </tr>\n",
              "    <tr>\n",
              "      <th>99</th>\n",
              "      <td>casar</td>\n",
              "      <td>28</td>\n",
              "    </tr>\n",
              "  </tbody>\n",
              "</table>\n",
              "<p>100 rows × 2 columns</p>\n",
              "</div>\n",
              "      <button class=\"colab-df-convert\" onclick=\"convertToInteractive('df-6ed1fbf6-0c05-4ced-b11a-7ca7d5ea103a')\"\n",
              "              title=\"Convert this dataframe to an interactive table.\"\n",
              "              style=\"display:none;\">\n",
              "        \n",
              "  <svg xmlns=\"http://www.w3.org/2000/svg\" height=\"24px\"viewBox=\"0 0 24 24\"\n",
              "       width=\"24px\">\n",
              "    <path d=\"M0 0h24v24H0V0z\" fill=\"none\"/>\n",
              "    <path d=\"M18.56 5.44l.94 2.06.94-2.06 2.06-.94-2.06-.94-.94-2.06-.94 2.06-2.06.94zm-11 1L8.5 8.5l.94-2.06 2.06-.94-2.06-.94L8.5 2.5l-.94 2.06-2.06.94zm10 10l.94 2.06.94-2.06 2.06-.94-2.06-.94-.94-2.06-.94 2.06-2.06.94z\"/><path d=\"M17.41 7.96l-1.37-1.37c-.4-.4-.92-.59-1.43-.59-.52 0-1.04.2-1.43.59L10.3 9.45l-7.72 7.72c-.78.78-.78 2.05 0 2.83L4 21.41c.39.39.9.59 1.41.59.51 0 1.02-.2 1.41-.59l7.78-7.78 2.81-2.81c.8-.78.8-2.07 0-2.86zM5.41 20L4 18.59l7.72-7.72 1.47 1.35L5.41 20z\"/>\n",
              "  </svg>\n",
              "      </button>\n",
              "      \n",
              "  <style>\n",
              "    .colab-df-container {\n",
              "      display:flex;\n",
              "      flex-wrap:wrap;\n",
              "      gap: 12px;\n",
              "    }\n",
              "\n",
              "    .colab-df-convert {\n",
              "      background-color: #E8F0FE;\n",
              "      border: none;\n",
              "      border-radius: 50%;\n",
              "      cursor: pointer;\n",
              "      display: none;\n",
              "      fill: #1967D2;\n",
              "      height: 32px;\n",
              "      padding: 0 0 0 0;\n",
              "      width: 32px;\n",
              "    }\n",
              "\n",
              "    .colab-df-convert:hover {\n",
              "      background-color: #E2EBFA;\n",
              "      box-shadow: 0px 1px 2px rgba(60, 64, 67, 0.3), 0px 1px 3px 1px rgba(60, 64, 67, 0.15);\n",
              "      fill: #174EA6;\n",
              "    }\n",
              "\n",
              "    [theme=dark] .colab-df-convert {\n",
              "      background-color: #3B4455;\n",
              "      fill: #D2E3FC;\n",
              "    }\n",
              "\n",
              "    [theme=dark] .colab-df-convert:hover {\n",
              "      background-color: #434B5C;\n",
              "      box-shadow: 0px 1px 3px 1px rgba(0, 0, 0, 0.15);\n",
              "      filter: drop-shadow(0px 1px 2px rgba(0, 0, 0, 0.3));\n",
              "      fill: #FFFFFF;\n",
              "    }\n",
              "  </style>\n",
              "\n",
              "      <script>\n",
              "        const buttonEl =\n",
              "          document.querySelector('#df-6ed1fbf6-0c05-4ced-b11a-7ca7d5ea103a button.colab-df-convert');\n",
              "        buttonEl.style.display =\n",
              "          google.colab.kernel.accessAllowed ? 'block' : 'none';\n",
              "\n",
              "        async function convertToInteractive(key) {\n",
              "          const element = document.querySelector('#df-6ed1fbf6-0c05-4ced-b11a-7ca7d5ea103a');\n",
              "          const dataTable =\n",
              "            await google.colab.kernel.invokeFunction('convertToInteractive',\n",
              "                                                     [key], {});\n",
              "          if (!dataTable) return;\n",
              "\n",
              "          const docLinkHtml = 'Like what you see? Visit the ' +\n",
              "            '<a target=\"_blank\" href=https://colab.research.google.com/notebooks/data_table.ipynb>data table notebook</a>'\n",
              "            + ' to learn more about interactive tables.';\n",
              "          element.innerHTML = '';\n",
              "          dataTable['output_type'] = 'display_data';\n",
              "          await google.colab.output.renderOutput(dataTable, element);\n",
              "          const docLink = document.createElement('div');\n",
              "          docLink.innerHTML = docLinkHtml;\n",
              "          element.appendChild(docLink);\n",
              "        }\n",
              "      </script>\n",
              "    </div>\n",
              "  </div>\n",
              "  "
            ]
          },
          "metadata": {},
          "execution_count": 96
        }
      ]
    },
    {
      "cell_type": "code",
      "source": [],
      "metadata": {
        "id": "PLvpKIFHP11I"
      },
      "execution_count": null,
      "outputs": []
    },
    {
      "cell_type": "code",
      "source": [
        "import re\n",
        "from IPython.display import Markdown, display"
      ],
      "metadata": {
        "id": "tUsBmFeAaxje"
      },
      "execution_count": null,
      "outputs": []
    },
    {
      "cell_type": "code",
      "source": [
        "#Make a list of tokens and POS labels from document if the token is a word\n",
        "tokens_and_labels = [(token.text, token.pos_) for token in document if token.is_alpha]"
      ],
      "metadata": {
        "id": "hUnvOR-ecFPu"
      },
      "execution_count": null,
      "outputs": []
    },
    {
      "cell_type": "code",
      "source": [
        "#Make a function to get all two-word combinations\n",
        "def get_bigrams(word_list, number_consecutive_words=2):\n",
        "\n",
        "    ngrams = []\n",
        "    adj_length_of_word_list = len(word_list) - (number_consecutive_words - 1)\n",
        "\n",
        "    #Loop through numbers from 0 to the (slightly adjusted) length of your word list\n",
        "    for word_index in range(adj_length_of_word_list):\n",
        "\n",
        "        #Index the list at each number, grabbing the word at that number index as well as N number of words after it\n",
        "        ngram = word_list[word_index : word_index + number_consecutive_words]\n",
        "\n",
        "        #Append this word combo to the master list \"ngrams\"\n",
        "        ngrams.append(ngram)\n",
        "\n",
        "    return ngrams"
      ],
      "metadata": {
        "id": "FPExPhBFcJYU"
      },
      "execution_count": null,
      "outputs": []
    },
    {
      "cell_type": "code",
      "source": [
        "bigrams = get_bigrams(tokens_and_labels)"
      ],
      "metadata": {
        "id": "Mj6KMILicOM5"
      },
      "execution_count": null,
      "outputs": []
    },
    {
      "cell_type": "code",
      "source": [
        "bigrams[5:20]"
      ],
      "metadata": {
        "colab": {
          "base_uri": "https://localhost:8080/"
        },
        "id": "oP6-Ub4lcUNu",
        "outputId": "2e7fb1d8-6b4e-41d0-817e-a69fae9a98b0"
      },
      "execution_count": null,
      "outputs": [
        {
          "output_type": "execute_result",
          "data": {
            "text/plain": [
              "[[('en', 'ADP'), ('inglés', 'NOUN')],\n",
              " [('inglés', 'NOUN'), ('natural', 'ADJ')],\n",
              " [('natural', 'ADJ'), ('language', 'PROPN')],\n",
              " [('language', 'PROPN'), ('processing', 'PROPN')],\n",
              " [('processing', 'PROPN'), ('NLP', 'PROPN')],\n",
              " [('NLP', 'PROPN'), ('es', 'AUX')],\n",
              " [('es', 'AUX'), ('un', 'DET')],\n",
              " [('un', 'DET'), ('campo', 'NOUN')],\n",
              " [('campo', 'NOUN'), ('de', 'ADP')],\n",
              " [('de', 'ADP'), ('las', 'DET')],\n",
              " [('las', 'DET'), ('ciencias', 'NOUN')],\n",
              " [('ciencias', 'NOUN'), ('de', 'ADP')],\n",
              " [('de', 'ADP'), ('la', 'DET')],\n",
              " [('la', 'DET'), ('computación', 'NOUN')],\n",
              " [('computación', 'NOUN'), ('de', 'ADP')]]"
            ]
          },
          "metadata": {},
          "execution_count": 42
        }
      ]
    },
    {
      "cell_type": "code",
      "source": [
        "def get_neighbor_words(keyword, bigrams, pos_label = None):\n",
        "\n",
        "    neighbor_words = []\n",
        "    keyword = keyword.lower()\n",
        "\n",
        "    for bigram in bigrams:\n",
        "\n",
        "        #Extract just the lowercased words (not the labels) for each bigram\n",
        "        words = [word.lower() for word, label in bigram]\n",
        "\n",
        "        #Check to see if keyword is in the bigram\n",
        "        if keyword in words:\n",
        "\n",
        "            for word, label in bigram:\n",
        "\n",
        "                #Now focus on the neighbor word, not the keyword\n",
        "                if word.lower() != keyword:\n",
        "                    #If the neighbor word matches the right pos_label, append it to the master list\n",
        "                    if label == pos_label or pos_label == None:\n",
        "                        neighbor_words.append(word.lower())\n",
        "\n",
        "    return Counter(neighbor_words).most_common()"
      ],
      "metadata": {
        "id": "a3E-g4G0cbqH"
      },
      "execution_count": null,
      "outputs": []
    },
    {
      "cell_type": "code",
      "source": [
        "get_neighbor_words(\"lenguaje\", bigrams)"
      ],
      "metadata": {
        "colab": {
          "base_uri": "https://localhost:8080/"
        },
        "id": "-UkP-ZFwccpq",
        "outputId": "ba580ad8-22e4-4e8e-c3f3-a024cfbbaa15"
      },
      "execution_count": null,
      "outputs": [
        {
          "output_type": "execute_result",
          "data": {
            "text/plain": [
              "[('de', 3),\n",
              " ('del', 3),\n",
              " ('natural', 3),\n",
              " ('el', 2),\n",
              " ('abreviado', 1),\n",
              " ('humano', 1),\n",
              " ('se', 1)]"
            ]
          },
          "metadata": {},
          "execution_count": 45
        }
      ]
    }
  ]
}