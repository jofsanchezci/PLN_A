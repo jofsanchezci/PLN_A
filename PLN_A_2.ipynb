{
  "nbformat": 4,
  "nbformat_minor": 0,
  "metadata": {
    "colab": {
      "provenance": []
    },
    "kernelspec": {
      "name": "python3",
      "display_name": "Python 3"
    },
    "language_info": {
      "name": "python"
    }
  },
  "cells": [
    {
      "cell_type": "markdown",
      "source": [
        "**Sentiment Analysis using VADER**\n",
        "\n",
        "\n",
        "[Enlace](https://www.geeksforgeeks.org/python-sentiment-analysis-using-vader/)"
      ],
      "metadata": {
        "id": "rl1Yd7klIcFu"
      }
    },
    {
      "cell_type": "markdown",
      "source": [
        "El análisis de sentimiento es el proceso de determinar \"computacionalmente\" si un escrito es positivo, negativo o neutro. También se conoce como minería de opiniones, que permite deducir la opinión o actitud de un hablante.\n",
        "\n",
        "**Por qué el análisis de sentimientos?**\n",
        "\n",
        "\n",
        "\n",
        "\n",
        "*   Para los negocios: en el campo del marketing, las empresas lo utilizan para desarrollar sus estrategias, comprender los sentimientos de los clientes hacia los productos o la marca, cómo responde la gente a sus campañas o lanzamientos de productos y por qué los consumidores no compran algunos productos.\n",
        "*   Política: en el ámbito político, se utiliza para hacer un seguimiento de la opinión política, detectar la coherencia y la incoherencia entre las declaraciones y las acciones a nivel gubernamental. También puede utilizarse para predecir los resultados electorales.\n",
        "* Acciones públicas: el análisis del sentimiento también se utiliza para seguir y analizar fenómenos sociales, detectar situaciones potencialmente peligrosas y determinar el estado de ánimo general de la blogosfera.\n",
        "\n",
        "\n",
        "\n",
        "\n"
      ],
      "metadata": {
        "id": "kabGN-fGI0PE"
      }
    },
    {
      "cell_type": "code",
      "execution_count": 1,
      "metadata": {
        "colab": {
          "base_uri": "https://localhost:8080/"
        },
        "id": "5-Q71BSXIU2a",
        "outputId": "c51bdbfd-6928-4458-90a4-63ac9743c03e"
      },
      "outputs": [
        {
          "output_type": "stream",
          "name": "stdout",
          "text": [
            "Collecting vaderSentiment\n",
            "  Downloading vaderSentiment-3.3.2-py2.py3-none-any.whl (125 kB)\n",
            "\u001b[?25l     \u001b[90m━━━━━━━━━━━━━━━━━━━━━━━━━━━━━━━━━━━━━━━━\u001b[0m \u001b[32m0.0/126.0 kB\u001b[0m \u001b[31m?\u001b[0m eta \u001b[36m-:--:--\u001b[0m\r\u001b[2K     \u001b[90m━━━━━━━━━━━━━━━━━━━━━━━━━━━━━━━━━━━━━━━\u001b[0m \u001b[32m126.0/126.0 kB\u001b[0m \u001b[31m3.5 MB/s\u001b[0m eta \u001b[36m0:00:00\u001b[0m\n",
            "\u001b[?25hRequirement already satisfied: requests in /usr/local/lib/python3.10/dist-packages (from vaderSentiment) (2.27.1)\n",
            "Requirement already satisfied: urllib3<1.27,>=1.21.1 in /usr/local/lib/python3.10/dist-packages (from requests->vaderSentiment) (1.26.16)\n",
            "Requirement already satisfied: certifi>=2017.4.17 in /usr/local/lib/python3.10/dist-packages (from requests->vaderSentiment) (2023.5.7)\n",
            "Requirement already satisfied: charset-normalizer~=2.0.0 in /usr/local/lib/python3.10/dist-packages (from requests->vaderSentiment) (2.0.12)\n",
            "Requirement already satisfied: idna<4,>=2.5 in /usr/local/lib/python3.10/dist-packages (from requests->vaderSentiment) (3.4)\n",
            "Installing collected packages: vaderSentiment\n",
            "Successfully installed vaderSentiment-3.3.2\n"
          ]
        }
      ],
      "source": [
        "!pip install vaderSentiment"
      ]
    },
    {
      "cell_type": "markdown",
      "source": [
        "\n",
        "**Análisis de sentimientos VADER**\n",
        "\n",
        "VADER (*Valence Aware Dictionary and sEntiment Reasoner*) es una herramienta de análisis de sentimientos basada en léxicos y reglas que se adapta específicamente a los sentimientos expresados en las redes sociales.\n",
        "\n",
        "VADER utiliza una combinación de Un léxico de sentimientos es una lista de características léxicas (por ejemplo, palabras) que suelen etiquetarse según su orientación semántica como positivas o negativas. VADER no sólo nos informa de la puntuación de positividad y negatividad, sino también de lo positivo o negativo que es un sentimiento.\n",
        "\n"
      ],
      "metadata": {
        "id": "nMB-4IiNJsO4"
      }
    },
    {
      "cell_type": "code",
      "source": [
        "from vaderSentiment.vaderSentiment import SentimentIntensityAnalyzer\n",
        "\n",
        "\n",
        "def sentiment_scores(sentence):\n",
        "\n",
        "\t# Crea un objeto SentimentIntensityAnalyzer.\n",
        "\tsid_obj = SentimentIntensityAnalyzer()\n",
        "\n",
        "\t# método polarity_scores de SentimentIntensityAnalyzer\n",
        "\t# El objeto da un diccionario de sentimiento.\n",
        "\t# que contiene puntuaciones pos, neg, neu y compuestas.\n",
        "\tsentiment_dict = sid_obj.polarity_scores(sentence)\n",
        "\n",
        "\tprint(\"El diccionario general de sentimientos es : \", sentiment_dict)\n",
        "\tprint(\"sentencia fue calificada como: \", sentiment_dict['neg']*100, \"% Negativo\")\n",
        "\tprint(\"sentencia fue calificada como: \", sentiment_dict['neu']*100, \"% Neutral\")\n",
        "\tprint(\"sentencia fue calificada como: \", sentiment_dict['pos']*100, \"% Positivo\")\n",
        "\n",
        "\tprint(\"La oración es de forma\", end = \" \")\n",
        "\n",
        "\t# decidir el sentimiento como positivo, negativo y neutro\n",
        "\tif sentiment_dict['compound'] >= 0.05 :\n",
        "\t\tprint(\"Positivo\")\n",
        "\n",
        "\telif sentiment_dict['compound'] <= - 0.05 :\n",
        "\t\tprint(\"Negativo\")\n",
        "\n",
        "\telse :\n",
        "\t\tprint(\"Neutral\")\n"
      ],
      "metadata": {
        "id": "NSQpKEwcKNsT"
      },
      "execution_count": 5,
      "outputs": []
    },
    {
      "cell_type": "code",
      "source": [
        "def sentiment_scores_2(sentence):\n",
        "  sid_obj = SentimentIntensityAnalyzer()\n",
        "  sentiment_dict = sid_obj.polarity_scores(sentence)\n",
        "  #print(\"La oración es de forma\", end = \" \")\n",
        "  if sentiment_dict['compound'] >= 0.05 :\n",
        "    return \"Positivo\"\n",
        "  elif sentiment_dict['compound'] <= - 0.05 :\n",
        "    return \"Negativo\"\n",
        "  else :\n",
        "    return \"Neutral\"\n",
        "\n"
      ],
      "metadata": {
        "id": "WNJ_s_xw7k9o"
      },
      "execution_count": 95,
      "outputs": []
    },
    {
      "cell_type": "code",
      "source": [
        "#Esta función trae el compund de las oraciones\n",
        "def sentiment_scores_3(sentence):\n",
        "  sid_obj = SentimentIntensityAnalyzer()\n",
        "  sentiment_dict = sid_obj.polarity_scores(sentence)\n",
        "  return sentiment_dict['compound']\n"
      ],
      "metadata": {
        "id": "o3gCckuL8zA8"
      },
      "execution_count": 59,
      "outputs": []
    },
    {
      "cell_type": "code",
      "source": [
        "print(\"\\n1nd sentencia :\")\n",
        "sentence = \"Geeks For Geeks is the best portal for \\\n",
        "\t\t\t\tthe computer science engineering students.\"\n",
        "\n",
        "sentiment_scores_2(sentence)"
      ],
      "metadata": {
        "colab": {
          "base_uri": "https://localhost:8080/",
          "height": 71
        },
        "id": "MmSKcTe88KMs",
        "outputId": "8f350f1b-eb5a-491c-8888-ac268be54268"
      },
      "execution_count": 54,
      "outputs": [
        {
          "output_type": "stream",
          "name": "stdout",
          "text": [
            "\n",
            "1nd sentencia :\n"
          ]
        },
        {
          "output_type": "execute_result",
          "data": {
            "text/plain": [
              "'Positivo'"
            ],
            "application/vnd.google.colaboratory.intrinsic+json": {
              "type": "string"
            }
          },
          "metadata": {},
          "execution_count": 54
        }
      ]
    },
    {
      "cell_type": "code",
      "source": [
        "print(\"\\n1nd sentencia :\")\n",
        "sentence = \"Geeks For Geeks is the best portal for \\\n",
        "\t\t\t\tthe computer science engineering students.\"\n",
        "sentiment_scores_3(sentence)"
      ],
      "metadata": {
        "colab": {
          "base_uri": "https://localhost:8080/"
        },
        "id": "4-BQzcMJ87Xj",
        "outputId": "e34cfa09-eb47-4b27-dc6b-74dbe8d492bc"
      },
      "execution_count": 60,
      "outputs": [
        {
          "output_type": "stream",
          "name": "stdout",
          "text": [
            "\n",
            "1nd sentencia :\n"
          ]
        },
        {
          "output_type": "execute_result",
          "data": {
            "text/plain": [
              "0.5267"
            ]
          },
          "metadata": {},
          "execution_count": 60
        }
      ]
    },
    {
      "cell_type": "code",
      "source": [
        "print(\"\\n1nd sentencia :\")\n",
        "sentence = \"Geeks For Geeks is the best portal for \\\n",
        "\t\t\t\tthe computer science engineering students.\"\n",
        "\n",
        "#llamamos la función\n",
        "sentiment_scores(sentence)\n"
      ],
      "metadata": {
        "colab": {
          "base_uri": "https://localhost:8080/"
        },
        "id": "eI1DvwhCK9ih",
        "outputId": "5d8b52b7-aa37-4d7f-bb97-178b38815fff"
      },
      "execution_count": 55,
      "outputs": [
        {
          "output_type": "stream",
          "name": "stdout",
          "text": [
            "\n",
            "1nd sentencia :\n",
            "El diccionario general de sentimientos es :  {'neg': 0.165, 'neu': 0.588, 'pos': 0.247, 'compound': 0.5267}\n",
            "sentencia fue calificada como:  16.5 % Negativo\n",
            "sentencia fue calificada como:  58.8 % Neutral\n",
            "sentencia fue calificada como:  24.7 % Positivo\n",
            "La oración es de forma Positivo\n"
          ]
        }
      ]
    },
    {
      "cell_type": "code",
      "source": [
        "sentence = \"Geeks For Geeks is the best portal for \\\n",
        "\t\t\t\tthe computer science engineering students.\"\n",
        "sentiment_scores_2(sentence)\n"
      ],
      "metadata": {
        "colab": {
          "base_uri": "https://localhost:8080/",
          "height": 36
        },
        "id": "gLeB3K5tDjzk",
        "outputId": "fc74e047-b3aa-45dc-b988-2f83f2d521c7"
      },
      "execution_count": 96,
      "outputs": [
        {
          "output_type": "execute_result",
          "data": {
            "text/plain": [
              "'Positivo'"
            ],
            "application/vnd.google.colaboratory.intrinsic+json": {
              "type": "string"
            }
          },
          "metadata": {},
          "execution_count": 96
        }
      ]
    },
    {
      "cell_type": "code",
      "source": [
        "print(\"\\n2nd sentencia :\")\n",
        "sentence = \"study is going on as usual\"\n",
        "sentiment_scores(sentence)\n",
        "\n"
      ],
      "metadata": {
        "colab": {
          "base_uri": "https://localhost:8080/"
        },
        "id": "HwktOMnqzcwS",
        "outputId": "3ea55289-ab72-4ace-ca07-6e77cb6383fc"
      },
      "execution_count": 7,
      "outputs": [
        {
          "output_type": "stream",
          "name": "stdout",
          "text": [
            "\n",
            "2nd sentencia :\n",
            "El diccionario general de sentimientos es :  {'neg': 0.0, 'neu': 1.0, 'pos': 0.0, 'compound': 0.0}\n",
            "sentencia fue calificada como:  0.0 % Negativo\n",
            "sentencia fue calificada como:  100.0 % Neutral\n",
            "sentencia fue calificada como:  0.0 % Positivo\n",
            "La oración es de forma Neutral\n"
          ]
        }
      ]
    },
    {
      "cell_type": "code",
      "source": [
        "print(\"\\n3rd sentencia :\")\n",
        "sentence = \"I am very sad today.\"\n",
        "sentiment_scores(sentence)\n"
      ],
      "metadata": {
        "colab": {
          "base_uri": "https://localhost:8080/"
        },
        "id": "P0VjMFj7zeTf",
        "outputId": "c2180a1d-45d7-428b-fdf8-8d774609db8f"
      },
      "execution_count": 8,
      "outputs": [
        {
          "output_type": "stream",
          "name": "stdout",
          "text": [
            "\n",
            "3rd sentencia :\n",
            "El diccionario general de sentimientos es :  {'neg': 0.459, 'neu': 0.541, 'pos': 0.0, 'compound': -0.5256}\n",
            "sentencia fue calificada como:  45.9 % Negativo\n",
            "sentencia fue calificada como:  54.1 % Neutral\n",
            "sentencia fue calificada como:  0.0 % Positivo\n",
            "La oración es de forma Negativo\n"
          ]
        }
      ]
    },
    {
      "cell_type": "code",
      "source": [
        "#Usando en español\n",
        "print(\"\\n4rd sentencia :\")\n",
        "sentence='el estudio sigue como siempre'\n",
        "sentiment_scores(sentence)"
      ],
      "metadata": {
        "colab": {
          "base_uri": "https://localhost:8080/"
        },
        "id": "260OVejkzfev",
        "outputId": "3998c5fd-2907-487f-c228-3da9e557f0a2"
      },
      "execution_count": 9,
      "outputs": [
        {
          "output_type": "stream",
          "name": "stdout",
          "text": [
            "\n",
            "4rd sentencia :\n",
            "El diccionario general de sentimientos es :  {'neg': 0.0, 'neu': 1.0, 'pos': 0.0, 'compound': 0.0}\n",
            "sentencia fue calificada como:  0.0 % Negativo\n",
            "sentencia fue calificada como:  100.0 % Neutral\n",
            "sentencia fue calificada como:  0.0 % Positivo\n",
            "La oración es de forma Neutral\n"
          ]
        }
      ]
    },
    {
      "cell_type": "code",
      "source": [
        "print(\"\\n5rd sentencia :\")\n",
        "sentence = \"Hoy estoy muy triste.\"\n",
        "sentiment_scores(sentence)"
      ],
      "metadata": {
        "colab": {
          "base_uri": "https://localhost:8080/"
        },
        "id": "5WGn4Ycy1U6I",
        "outputId": "8ed3da01-5116-4710-ea6a-20c3da3fc111"
      },
      "execution_count": 10,
      "outputs": [
        {
          "output_type": "stream",
          "name": "stdout",
          "text": [
            "\n",
            "5rd sentencia :\n",
            "El diccionario general de sentimientos es :  {'neg': 0.0, 'neu': 1.0, 'pos': 0.0, 'compound': 0.0}\n",
            "sentencia fue calificada como:  0.0 % Negativo\n",
            "sentencia fue calificada como:  100.0 % Neutral\n",
            "sentencia fue calificada como:  0.0 % Positivo\n",
            "La oración es de forma Neutral\n"
          ]
        }
      ]
    },
    {
      "cell_type": "code",
      "source": [
        "print(\"\\n6rd sentencia :\")\n",
        "sentence = \"Geeks For Geeks es el mejor portal para \\\n",
        "\t\t\t\tlos estudiantes de ingeniería informática\"\n",
        "sentiment_scores(sentence)\n"
      ],
      "metadata": {
        "colab": {
          "base_uri": "https://localhost:8080/"
        },
        "id": "n-7D_vAQ1iZq",
        "outputId": "057b0fab-6486-4309-9a35-4805d6a52c23"
      },
      "execution_count": 11,
      "outputs": [
        {
          "output_type": "stream",
          "name": "stdout",
          "text": [
            "\n",
            "6rd sentencia :\n",
            "El diccionario general de sentimientos es :  {'neg': 0.203, 'neu': 0.797, 'pos': 0.0, 'compound': -0.2023}\n",
            "sentencia fue calificada como:  20.3 % Negativo\n",
            "sentencia fue calificada como:  79.7 % Neutral\n",
            "sentencia fue calificada como:  0.0 % Positivo\n",
            "La oración es de forma Negativo\n"
          ]
        }
      ]
    },
    {
      "cell_type": "code",
      "source": [
        "#Ejercicio\n",
        "#Hacer la comparación del funcionamineto de VADER usando Ingles vs Español"
      ],
      "metadata": {
        "id": "LuL6sSYc-8NK"
      },
      "execution_count": null,
      "outputs": []
    },
    {
      "cell_type": "code",
      "source": [
        "#Se va a realizar en análisis de los poemas en ingles y español\n",
        "#Leer los archivos\n",
        "archivo_en = open(\"Poema_en\",\"r\")\n",
        "texto_en=archivo_en.readlines()\n"
      ],
      "metadata": {
        "id": "xrjQhKf42Tiq"
      },
      "execution_count": 78,
      "outputs": []
    },
    {
      "cell_type": "code",
      "source": [
        "archivo_es = open(\"Poema_es\",\"r\")\n",
        "texto_es=archivo_es.readlines()\n",
        "archivo_es = open(\"Poema_es\",\"r\")"
      ],
      "metadata": {
        "id": "ixI1o3g4Be3y"
      },
      "execution_count": 80,
      "outputs": []
    },
    {
      "cell_type": "code",
      "source": [
        "print(len(texto_es))"
      ],
      "metadata": {
        "colab": {
          "base_uri": "https://localhost:8080/"
        },
        "id": "zPRrwrcoBhDo",
        "outputId": "52c7e40d-92bd-41fb-e921-1cecf744e417"
      },
      "execution_count": 81,
      "outputs": [
        {
          "output_type": "stream",
          "name": "stdout",
          "text": [
            "35\n"
          ]
        }
      ]
    },
    {
      "cell_type": "code",
      "source": [
        "#Se revisa la lista de las lineas del texto\n",
        "print(len(texto_en))\n",
        "print(len(texto_es))\n"
      ],
      "metadata": {
        "colab": {
          "base_uri": "https://localhost:8080/"
        },
        "id": "LzMIvTXR5siP",
        "outputId": "5818bf0e-39fa-4127-ac6d-6270224973bf"
      },
      "execution_count": 82,
      "outputs": [
        {
          "output_type": "stream",
          "name": "stdout",
          "text": [
            "35\n",
            "35\n"
          ]
        }
      ]
    },
    {
      "cell_type": "code",
      "source": [
        "texto_es[1]"
      ],
      "metadata": {
        "colab": {
          "base_uri": "https://localhost:8080/",
          "height": 36
        },
        "id": "qw-wq3koBYik",
        "outputId": "f8571f0b-da5a-4b5d-ea69-6a038ce896af"
      },
      "execution_count": 83,
      "outputs": [
        {
          "output_type": "execute_result",
          "data": {
            "text/plain": [
              "'    pierden la suya y te echan la culpa,   \\n'"
            ],
            "application/vnd.google.colaboratory.intrinsic+json": {
              "type": "string"
            }
          },
          "metadata": {},
          "execution_count": 83
        }
      ]
    },
    {
      "cell_type": "code",
      "source": [
        "#se utiliza la función para evaluar el score de sentimientos\n",
        "print(texto_en[1])\n",
        "print('El puntaje de la oración es: ',sentiment_scores_3(texto_en[1]))"
      ],
      "metadata": {
        "colab": {
          "base_uri": "https://localhost:8080/"
        },
        "id": "EWlLtXT161ix",
        "outputId": "33da490b-3328-48bb-e852-53d88331559b"
      },
      "execution_count": 63,
      "outputs": [
        {
          "output_type": "stream",
          "name": "stdout",
          "text": [
            "    Are losing theirs and blaming it on you,   \n",
            "\n",
            "El puntaje de la oración es:  -0.7003\n"
          ]
        }
      ]
    },
    {
      "cell_type": "code",
      "source": [
        "#Se aplica la función de forma iterativa y los resultados se guardan en una lista\n",
        "#Valores cuantitativos\n",
        "score_en=[]\n",
        "for i in range(len(texto_en)):\n",
        "  score_en.append(sentiment_scores_3(texto_en[i]))\n",
        "\n"
      ],
      "metadata": {
        "id": "AhqummDG7KQz"
      },
      "execution_count": 84,
      "outputs": []
    },
    {
      "cell_type": "code",
      "source": [
        "score_es=[]\n",
        "for i in range(len(texto_es)):\n",
        "  score_es.append(sentiment_scores_3(texto_es[i]))\n",
        "\n"
      ],
      "metadata": {
        "id": "7tu5XN7k_Muc"
      },
      "execution_count": 85,
      "outputs": []
    },
    {
      "cell_type": "code",
      "source": [
        "print(score_es)\n",
        "print(len(score_es))"
      ],
      "metadata": {
        "colab": {
          "base_uri": "https://localhost:8080/"
        },
        "id": "GRAH8pT5A5hv",
        "outputId": "69a805e3-ef62-4dcf-eda8-fa27b1f73fc5"
      },
      "execution_count": 86,
      "outputs": [
        {
          "output_type": "stream",
          "name": "stdout",
          "text": [
            "[0.0, 0.0, 0.0, 0.0, -0.296, -0.296, -0.296, -0.296, 0.0, -0.296, -0.296, 0.0, 0.0, 0.0, 0.0, 0.0, 0.0, 0.0, 0.0, 0.0, 0.0, 0.0, 0.0, 0.0, -0.296, 0.0, 0.0, 0.0, -0.5574, 0.0, 0.0, 0.0, 0.0, 0.0, 0.0]\n",
            "35\n"
          ]
        }
      ]
    },
    {
      "cell_type": "code",
      "source": [
        "import matplotlib.pylab as plt\n",
        "ora_=range(len(texto_en))\n",
        "plt.scatter(ora_,score_en, c='r',marker= '*', label='Ingles')\n",
        "plt.scatter(ora_,score_es, c='b',marker= 'X', label='Español')\n",
        "plt.xlabel('Oraciones')\n",
        "plt.ylabel('Puntajes')\n",
        "plt.title('Comparación de puntajes Ingles vs Español')\n",
        "plt.legend()\n",
        "plt.grid()\n",
        "plt.show()\n"
      ],
      "metadata": {
        "colab": {
          "base_uri": "https://localhost:8080/",
          "height": 472
        },
        "id": "VqeRvipX4LL5",
        "outputId": "56a0224f-7cee-4097-b1de-ac0c4b9f7556"
      },
      "execution_count": 93,
      "outputs": [
        {
          "output_type": "display_data",
          "data": {
            "text/plain": [
              "<Figure size 640x480 with 1 Axes>"
            ],
            "image/png": "[encoded data removed]"
          },
          "metadata": {}
        }
      ]
    },
    {
      "cell_type": "code",
      "source": [
        "#Se va crear una tabla para la comparación en Positivo, Negativo o Neutro\n",
        "#Se crean listas de String\n",
        "#Valores cualitativos\n",
        "score_en_l=[]\n",
        "for i in range(len(texto_en)):\n",
        "  score_en_l.append(sentiment_scores_2(texto_en[i]))\n",
        "print(score_en_l)"
      ],
      "metadata": {
        "colab": {
          "base_uri": "https://localhost:8080/"
        },
        "id": "0micq8GaD8pW",
        "outputId": "1a621b90-04c9-4484-e5ce-c0effbe7c674"
      },
      "execution_count": 97,
      "outputs": [
        {
          "output_type": "stream",
          "name": "stdout",
          "text": [
            "['Neutral', 'Negativo', 'Positivo', 'Negativo', 'Positivo', 'Negativo', 'Negativo', 'Positivo', 'Neutral', 'Negativo', 'Neutral', 'Negativo', 'Positivo', 'Positivo', 'Negativo', 'Negativo', 'Neutral', 'Neutral', 'Positivo', 'Negativo', 'Negativo', 'Negativo', 'Positivo', 'Neutral', 'Neutral', 'Neutral', 'Neutral', 'Positivo', 'Negativo', 'Negativo', 'Neutral', 'Neutral', 'Positivo', 'Neutral', 'Neutral']\n"
          ]
        }
      ]
    },
    {
      "cell_type": "code",
      "source": [
        "score_es_l=[]\n",
        "for i in range(len(texto_es)):\n",
        "  score_es_l.append(sentiment_scores_2(texto_es[i]))\n",
        "print(score_es_l)"
      ],
      "metadata": {
        "colab": {
          "base_uri": "https://localhost:8080/"
        },
        "id": "VwBHo3ELEGOy",
        "outputId": "519bfe13-1f33-4915-e0fc-f1ff731c568c"
      },
      "execution_count": 98,
      "outputs": [
        {
          "output_type": "stream",
          "name": "stdout",
          "text": [
            "['Neutral', 'Neutral', 'Neutral', 'Neutral', 'Negativo', 'Negativo', 'Negativo', 'Negativo', 'Neutral', 'Negativo', 'Negativo', 'Neutral', 'Neutral', 'Neutral', 'Neutral', 'Neutral', 'Neutral', 'Neutral', 'Neutral', 'Neutral', 'Neutral', 'Neutral', 'Neutral', 'Neutral', 'Negativo', 'Neutral', 'Neutral', 'Neutral', 'Negativo', 'Neutral', 'Neutral', 'Neutral', 'Neutral', 'Neutral', 'Neutral']\n"
          ]
        }
      ]
    },
    {
      "cell_type": "code",
      "source": [
        "import pandas as pd\n",
        "import numpy as np\n",
        "\n",
        "score_en_l_N=np.array(score_en_l)\n",
        "score_es_l_N=np.array(score_es_l)\n",
        "\n",
        "df=pd.DataFrame()\n",
        "df['Ingles']=score_en_l_N\n",
        "df['Español']=score_es_l_N\n",
        "df"
      ],
      "metadata": {
        "colab": {
          "base_uri": "https://localhost:8080/",
          "height": 1000
        },
        "id": "nI_65M_-Eemy",
        "outputId": "e88bdc70-0e0f-45e1-9517-5f33615e8993"
      },
      "execution_count": 100,
      "outputs": [
        {
          "output_type": "execute_result",
          "data": {
            "text/plain": [
              "      Ingles   Español\n",
              "0    Neutral   Neutral\n",
              "1   Negativo   Neutral\n",
              "2   Positivo   Neutral\n",
              "3   Negativo   Neutral\n",
              "4   Positivo  Negativo\n",
              "5   Negativo  Negativo\n",
              "6   Negativo  Negativo\n",
              "7   Positivo  Negativo\n",
              "8    Neutral   Neutral\n",
              "9   Negativo  Negativo\n",
              "10   Neutral  Negativo\n",
              "11  Negativo   Neutral\n",
              "12  Positivo   Neutral\n",
              "13  Positivo   Neutral\n",
              "14  Negativo   Neutral\n",
              "15  Negativo   Neutral\n",
              "16   Neutral   Neutral\n",
              "17   Neutral   Neutral\n",
              "18  Positivo   Neutral\n",
              "19  Negativo   Neutral\n",
              "20  Negativo   Neutral\n",
              "21  Negativo   Neutral\n",
              "22  Positivo   Neutral\n",
              "23   Neutral   Neutral\n",
              "24   Neutral  Negativo\n",
              "25   Neutral   Neutral\n",
              "26   Neutral   Neutral\n",
              "27  Positivo   Neutral\n",
              "28  Negativo  Negativo\n",
              "29  Negativo   Neutral\n",
              "30   Neutral   Neutral\n",
              "31   Neutral   Neutral\n",
              "32  Positivo   Neutral\n",
              "33   Neutral   Neutral\n",
              "34   Neutral   Neutral"
            ],
            "text/html": [
              "\n",
              "  <div id=\"df-bddf0fc8-f48f-41c7-a637-c9bab8d08e6f\">\n",
              "    <div class=\"colab-df-container\">\n",
              "      <div>\n",
              "<style scoped>\n",
              "    .dataframe tbody tr th:only-of-type {\n",
              "        vertical-align: middle;\n",
              "    }\n",
              "\n",
              "    .dataframe tbody tr th {\n",
              "        vertical-align: top;\n",
              "    }\n",
              "\n",
              "    .dataframe thead th {\n",
              "        text-align: right;\n",
              "    }\n",
              "</style>\n",
              "<table border=\"1\" class=\"dataframe\">\n",
              "  <thead>\n",
              "    <tr style=\"text-align: right;\">\n",
              "      <th></th>\n",
              "      <th>Ingles</th>\n",
              "      <th>Español</th>\n",
              "    </tr>\n",
              "  </thead>\n",
              "  <tbody>\n",
              "    <tr>\n",
              "      <th>0</th>\n",
              "      <td>Neutral</td>\n",
              "      <td>Neutral</td>\n",
              "    </tr>\n",
              "    <tr>\n",
              "      <th>1</th>\n",
              "      <td>Negativo</td>\n",
              "      <td>Neutral</td>\n",
              "    </tr>\n",
              "    <tr>\n",
              "      <th>2</th>\n",
              "      <td>Positivo</td>\n",
              "      <td>Neutral</td>\n",
              "    </tr>\n",
              "    <tr>\n",
              "      <th>3</th>\n",
              "      <td>Negativo</td>\n",
              "      <td>Neutral</td>\n",
              "    </tr>\n",
              "    <tr>\n",
              "      <th>4</th>\n",
              "      <td>Positivo</td>\n",
              "      <td>Negativo</td>\n",
              "    </tr>\n",
              "    <tr>\n",
              "      <th>5</th>\n",
              "      <td>Negativo</td>\n",
              "      <td>Negativo</td>\n",
              "    </tr>\n",
              "    <tr>\n",
              "      <th>6</th>\n",
              "      <td>Negativo</td>\n",
              "      <td>Negativo</td>\n",
              "    </tr>\n",
              "    <tr>\n",
              "      <th>7</th>\n",
              "      <td>Positivo</td>\n",
              "      <td>Negativo</td>\n",
              "    </tr>\n",
              "    <tr>\n",
              "      <th>8</th>\n",
              "      <td>Neutral</td>\n",
              "      <td>Neutral</td>\n",
              "    </tr>\n",
              "    <tr>\n",
              "      <th>9</th>\n",
              "      <td>Negativo</td>\n",
              "      <td>Negativo</td>\n",
              "    </tr>\n",
              "    <tr>\n",
              "      <th>10</th>\n",
              "      <td>Neutral</td>\n",
              "      <td>Negativo</td>\n",
              "    </tr>\n",
              "    <tr>\n",
              "      <th>11</th>\n",
              "      <td>Negativo</td>\n",
              "      <td>Neutral</td>\n",
              "    </tr>\n",
              "    <tr>\n",
              "      <th>12</th>\n",
              "      <td>Positivo</td>\n",
              "      <td>Neutral</td>\n",
              "    </tr>\n",
              "    <tr>\n",
              "      <th>13</th>\n",
              "      <td>Positivo</td>\n",
              "      <td>Neutral</td>\n",
              "    </tr>\n",
              "    <tr>\n",
              "      <th>14</th>\n",
              "      <td>Negativo</td>\n",
              "      <td>Neutral</td>\n",
              "    </tr>\n",
              "    <tr>\n",
              "      <th>15</th>\n",
              "      <td>Negativo</td>\n",
              "      <td>Neutral</td>\n",
              "    </tr>\n",
              "    <tr>\n",
              "      <th>16</th>\n",
              "      <td>Neutral</td>\n",
              "      <td>Neutral</td>\n",
              "    </tr>\n",
              "    <tr>\n",
              "      <th>17</th>\n",
              "      <td>Neutral</td>\n",
              "      <td>Neutral</td>\n",
              "    </tr>\n",
              "    <tr>\n",
              "      <th>18</th>\n",
              "      <td>Positivo</td>\n",
              "      <td>Neutral</td>\n",
              "    </tr>\n",
              "    <tr>\n",
              "      <th>19</th>\n",
              "      <td>Negativo</td>\n",
              "      <td>Neutral</td>\n",
              "    </tr>\n",
              "    <tr>\n",
              "      <th>20</th>\n",
              "      <td>Negativo</td>\n",
              "      <td>Neutral</td>\n",
              "    </tr>\n",
              "    <tr>\n",
              "      <th>21</th>\n",
              "      <td>Negativo</td>\n",
              "      <td>Neutral</td>\n",
              "    </tr>\n",
              "    <tr>\n",
              "      <th>22</th>\n",
              "      <td>Positivo</td>\n",
              "      <td>Neutral</td>\n",
              "    </tr>\n",
              "    <tr>\n",
              "      <th>23</th>\n",
              "      <td>Neutral</td>\n",
              "      <td>Neutral</td>\n",
              "    </tr>\n",
              "    <tr>\n",
              "      <th>24</th>\n",
              "      <td>Neutral</td>\n",
              "      <td>Negativo</td>\n",
              "    </tr>\n",
              "    <tr>\n",
              "      <th>25</th>\n",
              "      <td>Neutral</td>\n",
              "      <td>Neutral</td>\n",
              "    </tr>\n",
              "    <tr>\n",
              "      <th>26</th>\n",
              "      <td>Neutral</td>\n",
              "      <td>Neutral</td>\n",
              "    </tr>\n",
              "    <tr>\n",
              "      <th>27</th>\n",
              "      <td>Positivo</td>\n",
              "      <td>Neutral</td>\n",
              "    </tr>\n",
              "    <tr>\n",
              "      <th>28</th>\n",
              "      <td>Negativo</td>\n",
              "      <td>Negativo</td>\n",
              "    </tr>\n",
              "    <tr>\n",
              "      <th>29</th>\n",
              "      <td>Negativo</td>\n",
              "      <td>Neutral</td>\n",
              "    </tr>\n",
              "    <tr>\n",
              "      <th>30</th>\n",
              "      <td>Neutral</td>\n",
              "      <td>Neutral</td>\n",
              "    </tr>\n",
              "    <tr>\n",
              "      <th>31</th>\n",
              "      <td>Neutral</td>\n",
              "      <td>Neutral</td>\n",
              "    </tr>\n",
              "    <tr>\n",
              "      <th>32</th>\n",
              "      <td>Positivo</td>\n",
              "      <td>Neutral</td>\n",
              "    </tr>\n",
              "    <tr>\n",
              "      <th>33</th>\n",
              "      <td>Neutral</td>\n",
              "      <td>Neutral</td>\n",
              "    </tr>\n",
              "    <tr>\n",
              "      <th>34</th>\n",
              "      <td>Neutral</td>\n",
              "      <td>Neutral</td>\n",
              "    </tr>\n",
              "  </tbody>\n",
              "</table>\n",
              "</div>\n",
              "      <button class=\"colab-df-convert\" onclick=\"convertToInteractive('df-bddf0fc8-f48f-41c7-a637-c9bab8d08e6f')\"\n",
              "              title=\"Convert this dataframe to an interactive table.\"\n",
              "              style=\"display:none;\">\n",
              "        \n",
              "  <svg xmlns=\"http://www.w3.org/2000/svg\" height=\"24px\"viewBox=\"0 0 24 24\"\n",
              "       width=\"24px\">\n",
              "    <path d=\"M0 0h24v24H0V0z\" fill=\"none\"/>\n",
              "    <path d=\"M18.56 5.44l.94 2.06.94-2.06 2.06-.94-2.06-.94-.94-2.06-.94 2.06-2.06.94zm-11 1L8.5 8.5l.94-2.06 2.06-.94-2.06-.94L8.5 2.5l-.94 2.06-2.06.94zm10 10l.94 2.06.94-2.06 2.06-.94-2.06-.94-.94-2.06-.94 2.06-2.06.94z\"/><path d=\"M17.41 7.96l-1.37-1.37c-.4-.4-.92-.59-1.43-.59-.52 0-1.04.2-1.43.59L10.3 9.45l-7.72 7.72c-.78.78-.78 2.05 0 2.83L4 21.41c.39.39.9.59 1.41.59.51 0 1.02-.2 1.41-.59l7.78-7.78 2.81-2.81c.8-.78.8-2.07 0-2.86zM5.41 20L4 18.59l7.72-7.72 1.47 1.35L5.41 20z\"/>\n",
              "  </svg>\n",
              "      </button>\n",
              "      \n",
              "  <style>\n",
              "    .colab-df-container {\n",
              "      display:flex;\n",
              "      flex-wrap:wrap;\n",
              "      gap: 12px;\n",
              "    }\n",
              "\n",
              "    .colab-df-convert {\n",
              "      background-color: #E8F0FE;\n",
              "      border: none;\n",
              "      border-radius: 50%;\n",
              "      cursor: pointer;\n",
              "      display: none;\n",
              "      fill: #1967D2;\n",
              "      height: 32px;\n",
              "      padding: 0 0 0 0;\n",
              "      width: 32px;\n",
              "    }\n",
              "\n",
              "    .colab-df-convert:hover {\n",
              "      background-color: #E2EBFA;\n",
              "      box-shadow: 0px 1px 2px rgba(60, 64, 67, 0.3), 0px 1px 3px 1px rgba(60, 64, 67, 0.15);\n",
              "      fill: #174EA6;\n",
              "    }\n",
              "\n",
              "    [theme=dark] .colab-df-convert {\n",
              "      background-color: #3B4455;\n",
              "      fill: #D2E3FC;\n",
              "    }\n",
              "\n",
              "    [theme=dark] .colab-df-convert:hover {\n",
              "      background-color: #434B5C;\n",
              "      box-shadow: 0px 1px 3px 1px rgba(0, 0, 0, 0.15);\n",
              "      filter: drop-shadow(0px 1px 2px rgba(0, 0, 0, 0.3));\n",
              "      fill: #FFFFFF;\n",
              "    }\n",
              "  </style>\n",
              "\n",
              "      <script>\n",
              "        const buttonEl =\n",
              "          document.querySelector('#df-bddf0fc8-f48f-41c7-a637-c9bab8d08e6f button.colab-df-convert');\n",
              "        buttonEl.style.display =\n",
              "          google.colab.kernel.accessAllowed ? 'block' : 'none';\n",
              "\n",
              "        async function convertToInteractive(key) {\n",
              "          const element = document.querySelector('#df-bddf0fc8-f48f-41c7-a637-c9bab8d08e6f');\n",
              "          const dataTable =\n",
              "            await google.colab.kernel.invokeFunction('convertToInteractive',\n",
              "                                                     [key], {});\n",
              "          if (!dataTable) return;\n",
              "\n",
              "          const docLinkHtml = 'Like what you see? Visit the ' +\n",
              "            '<a target=\"_blank\" href=https://colab.research.google.com/notebooks/data_table.ipynb>data table notebook</a>'\n",
              "            + ' to learn more about interactive tables.';\n",
              "          element.innerHTML = '';\n",
              "          dataTable['output_type'] = 'display_data';\n",
              "          await google.colab.output.renderOutput(dataTable, element);\n",
              "          const docLink = document.createElement('div');\n",
              "          docLink.innerHTML = docLinkHtml;\n",
              "          element.appendChild(docLink);\n",
              "        }\n",
              "      </script>\n",
              "    </div>\n",
              "  </div>\n",
              "  "
            ]
          },
          "metadata": {},
          "execution_count": 100
        }
      ]
    },
    {
      "cell_type": "markdown",
      "source": [
        "**Ejemplo Usando TextBlob**\n"
      ],
      "metadata": {
        "id": "O_MVzl0aPt3k"
      }
    },
    {
      "cell_type": "code",
      "source": [
        "!pip install textblob"
      ],
      "metadata": {
        "colab": {
          "base_uri": "https://localhost:8080/"
        },
        "id": "_pRQ_kwHPtrF",
        "outputId": "36213905-fea2-401a-d810-d6bb56ee6210"
      },
      "execution_count": null,
      "outputs": [
        {
          "output_type": "stream",
          "name": "stdout",
          "text": [
            "Requirement already satisfied: textblob in /usr/local/lib/python3.10/dist-packages (0.17.1)\n",
            "Requirement already satisfied: nltk>=3.1 in /usr/local/lib/python3.10/dist-packages (from textblob) (3.8.1)\n",
            "Requirement already satisfied: click in /usr/local/lib/python3.10/dist-packages (from nltk>=3.1->textblob) (8.1.3)\n",
            "Requirement already satisfied: joblib in /usr/local/lib/python3.10/dist-packages (from nltk>=3.1->textblob) (1.2.0)\n",
            "Requirement already satisfied: regex>=2021.8.3 in /usr/local/lib/python3.10/dist-packages (from nltk>=3.1->textblob) (2022.10.31)\n",
            "Requirement already satisfied: tqdm in /usr/local/lib/python3.10/dist-packages (from nltk>=3.1->textblob) (4.65.0)\n"
          ]
        }
      ]
    },
    {
      "cell_type": "code",
      "source": [
        "from textblob import TextBlob\n",
        "texto = \"Me siento muy feliz hoy, es un día maravilloso.\"\n",
        "blob = TextBlob(texto)\n",
        "\n",
        "sentimiento = blob.sentiment\n",
        "polaridad = sentimiento.polarity  # Valor entre -1 y 1 que indica la polaridad del sentimiento\n",
        "subjetividad = sentimiento.subjectivity  # Valor entre 0 y 1 que indica la subjetividad del sentimiento\n",
        "\n",
        "if polaridad > 0:\n",
        "    print(\"El texto tiene un sentimiento positivo.\")\n",
        "elif polaridad < 0:\n",
        "    print(\"El texto tiene un sentimiento negativo.\")\n",
        "else:\n",
        "    print(\"El texto es neutral.\")\n",
        "\n",
        "print(\"Polaridad:\", polaridad)\n",
        "print(\"Subjetividad:\", subjetividad)\n"
      ],
      "metadata": {
        "colab": {
          "base_uri": "https://localhost:8080/"
        },
        "id": "LNEux6P4P6aw",
        "outputId": "0927fa62-66f8-4d97-d53b-9295fc58f729"
      },
      "execution_count": null,
      "outputs": [
        {
          "output_type": "stream",
          "name": "stdout",
          "text": [
            "El texto es neutral.\n",
            "Polaridad: 0.0\n",
            "Subjetividad: 0.0\n"
          ]
        }
      ]
    },
    {
      "cell_type": "code",
      "source": [
        "texto_en='I hate animals.'\n",
        "blob_en = TextBlob(texto_en)\n",
        "sentimiento_en = blob.sentiment\n",
        "polaridad_en = sentimiento.polarity\n",
        "subjetividad_en = sentimiento.subjectivity\n",
        "\n",
        "if polaridad_en > 0:\n",
        "    print(\"El texto tiene un sentimiento positivo.\")\n",
        "elif polaridad_en < 0:\n",
        "    print(\"El texto tiene un sentimiento negativo.\")\n",
        "else:\n",
        "    print(\"El texto es neutral.\")\n",
        "\n",
        "print(\"Polaridad:\", polaridad_en)\n",
        "print(\"Subjetividad:\", subjetividad_en)\n"
      ],
      "metadata": {
        "colab": {
          "base_uri": "https://localhost:8080/"
        },
        "id": "yhGvlqWmQNy2",
        "outputId": "ec45155b-51e3-49e2-85f5-5f59a2948f45"
      },
      "execution_count": null,
      "outputs": [
        {
          "output_type": "stream",
          "name": "stdout",
          "text": [
            "El texto es neutral.\n",
            "Polaridad: 0.0\n",
            "Subjetividad: 0.0\n"
          ]
        }
      ]
    },
    {
      "cell_type": "code",
      "source": [
        "import nltk\n",
        "nltk.download('vader_lexicon')\n"
      ],
      "metadata": {
        "colab": {
          "base_uri": "https://localhost:8080/"
        },
        "id": "z-PDtu5SQ9WX",
        "outputId": "a58604ef-ec85-47d7-80be-5b34620f2b94"
      },
      "execution_count": null,
      "outputs": [
        {
          "output_type": "stream",
          "name": "stderr",
          "text": [
            "[nltk_data] Downloading package vader_lexicon to /root/nltk_data...\n"
          ]
        },
        {
          "output_type": "execute_result",
          "data": {
            "text/plain": [
              "True"
            ]
          },
          "metadata": {},
          "execution_count": 13
        }
      ]
    },
    {
      "cell_type": "code",
      "source": [
        "from nltk.sentiment import SentimentIntensityAnalyzer\n",
        "\n",
        "texto = \"I hate animals.\"\n",
        "sia = SentimentIntensityAnalyzer()\n",
        "\n",
        "sentimientos = sia.polarity_scores(texto)\n",
        "polaridad = sentimientos['compound']\n",
        "\n",
        "if polaridad > 0:\n",
        "    print(\"El texto tiene un sentimiento positivo.\")\n",
        "elif polaridad < 0:\n",
        "    print(\"El texto tiene un sentimiento negativo.\")\n",
        "else:\n",
        "    print(\"El texto es neutral.\")\n",
        "\n",
        "print(\"Polaridad:\", polaridad)\n"
      ],
      "metadata": {
        "colab": {
          "base_uri": "https://localhost:8080/"
        },
        "id": "GKC0SG4aQ5v8",
        "outputId": "de0c576a-b29d-4d0e-bd5e-a03ce4661b24"
      },
      "execution_count": null,
      "outputs": [
        {
          "output_type": "stream",
          "name": "stdout",
          "text": [
            "El texto tiene un sentimiento negativo.\n",
            "Polaridad: -0.5719\n"
          ]
        }
      ]
    },
    {
      "cell_type": "markdown",
      "source": [
        "**Expresiones regulares**\n",
        "\n",
        "Las expresiones regulares son una poderosa herramienta para el procesamiento de lenguaje natural en Python. Permiten buscar y manipular patrones de texto de manera eficiente"
      ],
      "metadata": {
        "id": "p4J3DblcV7vg"
      }
    },
    {
      "cell_type": "markdown",
      "source": [
        "**Coincidencia de patrones:**   \n",
        "\n",
        "Utilizar expresiones regulares para buscar y coincidir patrones específicos en un texto. Por ejemplo, para encontrar todas las direcciones de correo electrónico en un texto:"
      ],
      "metadata": {
        "id": "NKxcUejPWJ3Y"
      }
    },
    {
      "cell_type": "code",
      "source": [
        "import re\n",
        "\n",
        "texto = \"Mi correo electrónico es ejemplo@example.com y puedes contactarme en ese correo.\"\n",
        "matches = re.findall(r'\\b[A-Za-z0-9._%+-]+@[A-Za-z0-9.-]+\\.[A-Za-z]{2,}\\b', texto)\n",
        "print(matches)\n"
      ],
      "metadata": {
        "colab": {
          "base_uri": "https://localhost:8080/"
        },
        "id": "hD_nmzEsWFdp",
        "outputId": "d81b1950-1a83-4838-a02b-15f105191574"
      },
      "execution_count": null,
      "outputs": [
        {
          "output_type": "stream",
          "name": "stdout",
          "text": [
            "['ejemplo@example.com']\n"
          ]
        }
      ]
    },
    {
      "cell_type": "code",
      "source": [
        "import re\n",
        "\n",
        "texto = \"El gato se subió al tejado.\"\n",
        "texto_modificado = re.sub(r'gato', 'perro', texto)\n",
        "print(texto_modificado)\n"
      ],
      "metadata": {
        "colab": {
          "base_uri": "https://localhost:8080/"
        },
        "id": "FSHvvjd-X-7E",
        "outputId": "a850f83a-bdc5-4fa2-9058-382ccadb33a2"
      },
      "execution_count": null,
      "outputs": [
        {
          "output_type": "stream",
          "name": "stdout",
          "text": [
            "El perro se subió al tejado.\n"
          ]
        }
      ]
    },
    {
      "cell_type": "markdown",
      "source": [
        "**Sustitución de patrones**\n",
        "\n",
        "Utilizar expresiones regulares para reemplazar patrones específicos en un texto. Por ejemplo, para ocultar todos los números de teléfono en un texto con la palabra \"TELÉFONO\""
      ],
      "metadata": {
        "id": "klRXO6rwWcIG"
      }
    },
    {
      "cell_type": "code",
      "source": [
        "import re\n",
        "\n",
        "texto = \"Mi número de teléfono es 123-456-7890. Llámame en ese teléfono.\"\n",
        "texto_oculto = re.sub(r'\\d{3}-\\d{3}-\\d{4}', 'TELÉFONO', texto)\n",
        "print(texto_oculto)\n"
      ],
      "metadata": {
        "colab": {
          "base_uri": "https://localhost:8080/"
        },
        "id": "-ouZgj3jWXQ8",
        "outputId": "e366d525-7956-4ae7-a6ab-90ee157e7f35"
      },
      "execution_count": null,
      "outputs": [
        {
          "output_type": "stream",
          "name": "stdout",
          "text": [
            "Mi número de teléfono es TELÉFONO. Llámame en ese teléfono.\n"
          ]
        }
      ]
    },
    {
      "cell_type": "code",
      "source": [
        "import re\n",
        "\n",
        "texto = \"Mis números de teléfono son: 123-456-7890 y 987-654-3210.\"\n",
        "numeros_telefono = re.findall(r'\\d{3}-\\d{3}-\\d{4}', texto)\n",
        "print(numeros_telefono)\n"
      ],
      "metadata": {
        "colab": {
          "base_uri": "https://localhost:8080/"
        },
        "id": "yFlbZWDlYJrm",
        "outputId": "fddec4b0-55bf-4a6e-d095-9cc348e58b74"
      },
      "execution_count": null,
      "outputs": [
        {
          "output_type": "stream",
          "name": "stdout",
          "text": [
            "['123-456-7890', '987-654-3210']\n"
          ]
        }
      ]
    },
    {
      "cell_type": "markdown",
      "source": [
        "**División de texto:**\n",
        "\n",
        "Utilizar expresiones regulares para dividir un texto en función de un patrón específico. Por ejemplo, para dividir un texto en oraciones:"
      ],
      "metadata": {
        "id": "qp4prYrHWuuN"
      }
    },
    {
      "cell_type": "code",
      "source": [
        "import re\n",
        "\n",
        "texto = \"Hola. ¿Cómo estás? Espero que bien.\"\n",
        "oraciones = re.split(r'[.?!]', texto)\n",
        "print(oraciones)\n"
      ],
      "metadata": {
        "colab": {
          "base_uri": "https://localhost:8080/"
        },
        "id": "lbFAdiHfWt-p",
        "outputId": "f31d5de4-cf6b-40ca-8dd2-e6f6ef8eed04"
      },
      "execution_count": null,
      "outputs": [
        {
          "output_type": "stream",
          "name": "stdout",
          "text": [
            "['Hola', ' ¿Cómo estás', ' Espero que bien', '']\n"
          ]
        }
      ]
    },
    {
      "cell_type": "markdown",
      "source": [
        "**Validación de formatos:**\n",
        "\n",
        "Utilizar expresiones regulares para validar si una cadena de texto cumple con un formato específico. Por ejemplo, para verificar si una cadena es un código postal válido en Estados Unidos:"
      ],
      "metadata": {
        "id": "-FDRe83-YSpS"
      }
    },
    {
      "cell_type": "code",
      "source": [
        "import re\n",
        "\n",
        "codigo_postal = \"90210\"\n",
        "es_valido = re.match(r'^\\d{5}$', codigo_postal)\n",
        "if es_valido:\n",
        "    print(\"El código postal es válido.\")\n",
        "else:\n",
        "    print(\"El código postal no es válido.\")\n",
        "\n"
      ],
      "metadata": {
        "colab": {
          "base_uri": "https://localhost:8080/"
        },
        "id": "LkEPxM9SYcYt",
        "outputId": "0c5e3aad-4b84-4e9c-a067-056088d3112f"
      },
      "execution_count": null,
      "outputs": [
        {
          "output_type": "stream",
          "name": "stdout",
          "text": [
            "El código postal es válido.\n"
          ]
        }
      ]
    },
    {
      "cell_type": "code",
      "source": [
        "!pip install spacy"
      ],
      "metadata": {
        "colab": {
          "base_uri": "https://localhost:8080/"
        },
        "id": "swVGWoA-WvTv",
        "outputId": "96c34594-9f8e-436c-af82-ff78f4df4b31"
      },
      "execution_count": null,
      "outputs": [
        {
          "output_type": "stream",
          "name": "stdout",
          "text": [
            "Requirement already satisfied: spacy in /usr/local/lib/python3.10/dist-packages (3.5.3)\n",
            "Requirement already satisfied: spacy-legacy<3.1.0,>=3.0.11 in /usr/local/lib/python3.10/dist-packages (from spacy) (3.0.12)\n",
            "Requirement already satisfied: spacy-loggers<2.0.0,>=1.0.0 in /usr/local/lib/python3.10/dist-packages (from spacy) (1.0.4)\n",
            "Requirement already satisfied: murmurhash<1.1.0,>=0.28.0 in /usr/local/lib/python3.10/dist-packages (from spacy) (1.0.9)\n",
            "Requirement already satisfied: cymem<2.1.0,>=2.0.2 in /usr/local/lib/python3.10/dist-packages (from spacy) (2.0.7)\n",
            "Requirement already satisfied: preshed<3.1.0,>=3.0.2 in /usr/local/lib/python3.10/dist-packages (from spacy) (3.0.8)\n",
            "Requirement already satisfied: thinc<8.2.0,>=8.1.8 in /usr/local/lib/python3.10/dist-packages (from spacy) (8.1.10)\n",
            "Requirement already satisfied: wasabi<1.2.0,>=0.9.1 in /usr/local/lib/python3.10/dist-packages (from spacy) (1.1.2)\n",
            "Requirement already satisfied: srsly<3.0.0,>=2.4.3 in /usr/local/lib/python3.10/dist-packages (from spacy) (2.4.6)\n",
            "Requirement already satisfied: catalogue<2.1.0,>=2.0.6 in /usr/local/lib/python3.10/dist-packages (from spacy) (2.0.8)\n",
            "Requirement already satisfied: typer<0.8.0,>=0.3.0 in /usr/local/lib/python3.10/dist-packages (from spacy) (0.7.0)\n",
            "Requirement already satisfied: pathy>=0.10.0 in /usr/local/lib/python3.10/dist-packages (from spacy) (0.10.2)\n",
            "Requirement already satisfied: smart-open<7.0.0,>=5.2.1 in /usr/local/lib/python3.10/dist-packages (from spacy) (6.3.0)\n",
            "Requirement already satisfied: tqdm<5.0.0,>=4.38.0 in /usr/local/lib/python3.10/dist-packages (from spacy) (4.65.0)\n",
            "Requirement already satisfied: numpy>=1.15.0 in /usr/local/lib/python3.10/dist-packages (from spacy) (1.22.4)\n",
            "Requirement already satisfied: requests<3.0.0,>=2.13.0 in /usr/local/lib/python3.10/dist-packages (from spacy) (2.27.1)\n",
            "Requirement already satisfied: pydantic!=1.8,!=1.8.1,<1.11.0,>=1.7.4 in /usr/local/lib/python3.10/dist-packages (from spacy) (1.10.9)\n",
            "Requirement already satisfied: jinja2 in /usr/local/lib/python3.10/dist-packages (from spacy) (3.1.2)\n",
            "Requirement already satisfied: setuptools in /usr/local/lib/python3.10/dist-packages (from spacy) (67.7.2)\n",
            "Requirement already satisfied: packaging>=20.0 in /usr/local/lib/python3.10/dist-packages (from spacy) (23.1)\n",
            "Requirement already satisfied: langcodes<4.0.0,>=3.2.0 in /usr/local/lib/python3.10/dist-packages (from spacy) (3.3.0)\n",
            "Requirement already satisfied: typing-extensions>=4.2.0 in /usr/local/lib/python3.10/dist-packages (from pydantic!=1.8,!=1.8.1,<1.11.0,>=1.7.4->spacy) (4.6.3)\n",
            "Requirement already satisfied: urllib3<1.27,>=1.21.1 in /usr/local/lib/python3.10/dist-packages (from requests<3.0.0,>=2.13.0->spacy) (1.26.16)\n",
            "Requirement already satisfied: certifi>=2017.4.17 in /usr/local/lib/python3.10/dist-packages (from requests<3.0.0,>=2.13.0->spacy) (2023.5.7)\n",
            "Requirement already satisfied: charset-normalizer~=2.0.0 in /usr/local/lib/python3.10/dist-packages (from requests<3.0.0,>=2.13.0->spacy) (2.0.12)\n",
            "Requirement already satisfied: idna<4,>=2.5 in /usr/local/lib/python3.10/dist-packages (from requests<3.0.0,>=2.13.0->spacy) (3.4)\n",
            "Requirement already satisfied: blis<0.8.0,>=0.7.8 in /usr/local/lib/python3.10/dist-packages (from thinc<8.2.0,>=8.1.8->spacy) (0.7.9)\n",
            "Requirement already satisfied: confection<1.0.0,>=0.0.1 in /usr/local/lib/python3.10/dist-packages (from thinc<8.2.0,>=8.1.8->spacy) (0.0.4)\n",
            "Requirement already satisfied: click<9.0.0,>=7.1.1 in /usr/local/lib/python3.10/dist-packages (from typer<0.8.0,>=0.3.0->spacy) (8.1.3)\n",
            "Requirement already satisfied: MarkupSafe>=2.0 in /usr/local/lib/python3.10/dist-packages (from jinja2->spacy) (2.1.3)\n"
          ]
        }
      ]
    },
    {
      "cell_type": "code",
      "source": [
        "import spacy\n",
        "from spacy import displacy\n",
        "from collections import Counter\n",
        "import pandas as pd\n"
      ],
      "metadata": {
        "id": "mOI7lFCvW1Wc"
      },
      "execution_count": null,
      "outputs": []
    },
    {
      "cell_type": "code",
      "source": [
        "!python -m spacy download es_core_news_md"
      ],
      "metadata": {
        "colab": {
          "base_uri": "https://localhost:8080/"
        },
        "id": "6Z2ORTdDXD4H",
        "outputId": "698ffcf0-2695-4a5b-a014-02e36987488a"
      },
      "execution_count": null,
      "outputs": [
        {
          "output_type": "stream",
          "name": "stdout",
          "text": [
            "2023-07-04 14:44:17.845603: W tensorflow/compiler/tf2tensorrt/utils/py_utils.cc:38] TF-TRT Warning: Could not find TensorRT\n",
            "Collecting es-core-news-md==3.5.0\n",
            "  Downloading https://github.com/explosion/spacy-models/releases/download/es_core_news_md-3.5.0/es_core_news_md-3.5.0-py3-none-any.whl (42.3 MB)\n",
            "\u001b[2K     \u001b[90m━━━━━━━━━━━━━━━━━━━━━━━━━━━━━━━━━━━━━━━━\u001b[0m \u001b[32m42.3/42.3 MB\u001b[0m \u001b[31m22.4 MB/s\u001b[0m eta \u001b[36m0:00:00\u001b[0m\n",
            "\u001b[?25hRequirement already satisfied: spacy<3.6.0,>=3.5.0 in /usr/local/lib/python3.10/dist-packages (from es-core-news-md==3.5.0) (3.5.3)\n",
            "Requirement already satisfied: spacy-legacy<3.1.0,>=3.0.11 in /usr/local/lib/python3.10/dist-packages (from spacy<3.6.0,>=3.5.0->es-core-news-md==3.5.0) (3.0.12)\n",
            "Requirement already satisfied: spacy-loggers<2.0.0,>=1.0.0 in /usr/local/lib/python3.10/dist-packages (from spacy<3.6.0,>=3.5.0->es-core-news-md==3.5.0) (1.0.4)\n",
            "Requirement already satisfied: murmurhash<1.1.0,>=0.28.0 in /usr/local/lib/python3.10/dist-packages (from spacy<3.6.0,>=3.5.0->es-core-news-md==3.5.0) (1.0.9)\n",
            "Requirement already satisfied: cymem<2.1.0,>=2.0.2 in /usr/local/lib/python3.10/dist-packages (from spacy<3.6.0,>=3.5.0->es-core-news-md==3.5.0) (2.0.7)\n",
            "Requirement already satisfied: preshed<3.1.0,>=3.0.2 in /usr/local/lib/python3.10/dist-packages (from spacy<3.6.0,>=3.5.0->es-core-news-md==3.5.0) (3.0.8)\n",
            "Requirement already satisfied: thinc<8.2.0,>=8.1.8 in /usr/local/lib/python3.10/dist-packages (from spacy<3.6.0,>=3.5.0->es-core-news-md==3.5.0) (8.1.10)\n",
            "Requirement already satisfied: wasabi<1.2.0,>=0.9.1 in /usr/local/lib/python3.10/dist-packages (from spacy<3.6.0,>=3.5.0->es-core-news-md==3.5.0) (1.1.2)\n",
            "Requirement already satisfied: srsly<3.0.0,>=2.4.3 in /usr/local/lib/python3.10/dist-packages (from spacy<3.6.0,>=3.5.0->es-core-news-md==3.5.0) (2.4.6)\n",
            "Requirement already satisfied: catalogue<2.1.0,>=2.0.6 in /usr/local/lib/python3.10/dist-packages (from spacy<3.6.0,>=3.5.0->es-core-news-md==3.5.0) (2.0.8)\n",
            "Requirement already satisfied: typer<0.8.0,>=0.3.0 in /usr/local/lib/python3.10/dist-packages (from spacy<3.6.0,>=3.5.0->es-core-news-md==3.5.0) (0.7.0)\n",
            "Requirement already satisfied: pathy>=0.10.0 in /usr/local/lib/python3.10/dist-packages (from spacy<3.6.0,>=3.5.0->es-core-news-md==3.5.0) (0.10.2)\n",
            "Requirement already satisfied: smart-open<7.0.0,>=5.2.1 in /usr/local/lib/python3.10/dist-packages (from spacy<3.6.0,>=3.5.0->es-core-news-md==3.5.0) (6.3.0)\n",
            "Requirement already satisfied: tqdm<5.0.0,>=4.38.0 in /usr/local/lib/python3.10/dist-packages (from spacy<3.6.0,>=3.5.0->es-core-news-md==3.5.0) (4.65.0)\n",
            "Requirement already satisfied: numpy>=1.15.0 in /usr/local/lib/python3.10/dist-packages (from spacy<3.6.0,>=3.5.0->es-core-news-md==3.5.0) (1.22.4)\n",
            "Requirement already satisfied: requests<3.0.0,>=2.13.0 in /usr/local/lib/python3.10/dist-packages (from spacy<3.6.0,>=3.5.0->es-core-news-md==3.5.0) (2.27.1)\n",
            "Requirement already satisfied: pydantic!=1.8,!=1.8.1,<1.11.0,>=1.7.4 in /usr/local/lib/python3.10/dist-packages (from spacy<3.6.0,>=3.5.0->es-core-news-md==3.5.0) (1.10.9)\n",
            "Requirement already satisfied: jinja2 in /usr/local/lib/python3.10/dist-packages (from spacy<3.6.0,>=3.5.0->es-core-news-md==3.5.0) (3.1.2)\n",
            "Requirement already satisfied: setuptools in /usr/local/lib/python3.10/dist-packages (from spacy<3.6.0,>=3.5.0->es-core-news-md==3.5.0) (67.7.2)\n",
            "Requirement already satisfied: packaging>=20.0 in /usr/local/lib/python3.10/dist-packages (from spacy<3.6.0,>=3.5.0->es-core-news-md==3.5.0) (23.1)\n",
            "Requirement already satisfied: langcodes<4.0.0,>=3.2.0 in /usr/local/lib/python3.10/dist-packages (from spacy<3.6.0,>=3.5.0->es-core-news-md==3.5.0) (3.3.0)\n",
            "Requirement already satisfied: typing-extensions>=4.2.0 in /usr/local/lib/python3.10/dist-packages (from pydantic!=1.8,!=1.8.1,<1.11.0,>=1.7.4->spacy<3.6.0,>=3.5.0->es-core-news-md==3.5.0) (4.6.3)\n",
            "Requirement already satisfied: urllib3<1.27,>=1.21.1 in /usr/local/lib/python3.10/dist-packages (from requests<3.0.0,>=2.13.0->spacy<3.6.0,>=3.5.0->es-core-news-md==3.5.0) (1.26.16)\n",
            "Requirement already satisfied: certifi>=2017.4.17 in /usr/local/lib/python3.10/dist-packages (from requests<3.0.0,>=2.13.0->spacy<3.6.0,>=3.5.0->es-core-news-md==3.5.0) (2023.5.7)\n",
            "Requirement already satisfied: charset-normalizer~=2.0.0 in /usr/local/lib/python3.10/dist-packages (from requests<3.0.0,>=2.13.0->spacy<3.6.0,>=3.5.0->es-core-news-md==3.5.0) (2.0.12)\n",
            "Requirement already satisfied: idna<4,>=2.5 in /usr/local/lib/python3.10/dist-packages (from requests<3.0.0,>=2.13.0->spacy<3.6.0,>=3.5.0->es-core-news-md==3.5.0) (3.4)\n",
            "Requirement already satisfied: blis<0.8.0,>=0.7.8 in /usr/local/lib/python3.10/dist-packages (from thinc<8.2.0,>=8.1.8->spacy<3.6.0,>=3.5.0->es-core-news-md==3.5.0) (0.7.9)\n",
            "Requirement already satisfied: confection<1.0.0,>=0.0.1 in /usr/local/lib/python3.10/dist-packages (from thinc<8.2.0,>=8.1.8->spacy<3.6.0,>=3.5.0->es-core-news-md==3.5.0) (0.0.4)\n",
            "Requirement already satisfied: click<9.0.0,>=7.1.1 in /usr/local/lib/python3.10/dist-packages (from typer<0.8.0,>=0.3.0->spacy<3.6.0,>=3.5.0->es-core-news-md==3.5.0) (8.1.3)\n",
            "Requirement already satisfied: MarkupSafe>=2.0 in /usr/local/lib/python3.10/dist-packages (from jinja2->spacy<3.6.0,>=3.5.0->es-core-news-md==3.5.0) (2.1.3)\n",
            "Installing collected packages: es-core-news-md\n",
            "Successfully installed es-core-news-md-3.5.0\n",
            "\u001b[38;5;2m✔ Download and installation successful\u001b[0m\n",
            "You can now load the package via spacy.load('es_core_news_md')\n"
          ]
        }
      ]
    },
    {
      "cell_type": "code",
      "source": [
        "nlp = spacy.load('es_core_news_md')"
      ],
      "metadata": {
        "id": "SBfXw39UXLI-"
      },
      "execution_count": null,
      "outputs": []
    },
    {
      "cell_type": "code",
      "source": [
        "#archivo = open(\"el_quijote.txt\")\n",
        "#texto=archivo.read()"
      ],
      "metadata": {
        "id": "qVpIXBr4YsrQ"
      },
      "execution_count": null,
      "outputs": []
    },
    {
      "cell_type": "code",
      "source": [
        "filepath = 'texto_PLN.txt'\n",
        "text = open(filepath, encoding='utf-8').read()\n",
        "document = nlp(text)"
      ],
      "metadata": {
        "id": "wc5pf8TIXSb6"
      },
      "execution_count": null,
      "outputs": []
    },
    {
      "cell_type": "code",
      "source": [
        "for token in document:\n",
        "    print(token.lemma_, token.pos_, token.dep_)"
      ],
      "metadata": {
        "colab": {
          "base_uri": "https://localhost:8080/"
        },
        "id": "BKhcSSWvZPVm",
        "outputId": "daa12681-cc6d-4c69-9f4e-818b5cc48619"
      },
      "execution_count": null,
      "outputs": [
        {
          "output_type": "stream",
          "name": "stdout",
          "text": [
            "el DET det\n",
            "procesamiento NOUN nsubj\n",
            "de ADP case\n",
            "lenguaje NOUN nmod\n",
            "natural,1​2​ PROPN appos\n",
            "abreviado ADJ amod\n",
            "pln3​4​ VERB ROOT\n",
            "— PUNCT punct\n",
            "en ADP case\n",
            "inglés NOUN obl\n",
            ", PUNCT punct\n",
            "natural ADJ amod\n",
            "language PROPN appos\n",
            "processing PROPN flat\n",
            ", PUNCT punct\n",
            "NLP PROPN flat\n",
            "— NUM punct\n",
            "ser AUX cop\n",
            "uno DET det\n",
            "campo NOUN advcl\n",
            "de ADP case\n",
            "el DET det\n",
            "ciencia NOUN nmod\n",
            "de ADP case\n",
            "el DET det\n",
            "computación NOUN nmod\n",
            ", PUNCT punct\n",
            "de ADP case\n",
            "el DET det\n",
            "inteligencia NOUN conj\n",
            "artificial ADJ amod\n",
            "y CCONJ cc\n",
            "de ADP case\n",
            "el DET det\n",
            "lingüística NOUN conj\n",
            "que PRON nsubj\n",
            "estudiar VERB acl\n",
            "el DET det\n",
            "interacción NOUN obj\n",
            "entre ADP case\n",
            "el DET det\n",
            "computadora NOUN nmod\n",
            "y CCONJ cc\n",
            "el DET det\n",
            "lenguaje NOUN conj\n",
            "humano ADJ amod\n",
            ". PUNCT punct\n",
            "él PRON expl:pv\n",
            "ocupar VERB ROOT\n",
            "de ADP case\n",
            "el DET det\n",
            "formulación NOUN obj\n",
            "e CCONJ cc\n",
            "investigación NOUN conj\n",
            "de ADP case\n",
            "mecanismo NOUN nmod\n",
            "eficaz ADJ amod\n",
            "computacionalmente ADV amod\n",
            "para ADP case\n",
            "el DET det\n",
            "comunicación NOUN nmod\n",
            "entre ADP case\n",
            "persona NOUN nmod\n",
            "y CCONJ cc\n",
            "máquina NOUN conj\n",
            "por ADP case\n",
            "medio NOUN fixed\n",
            "del DET det\n",
            "lenguaje NOUN nmod\n",
            "natural ADJ amod\n",
            ", PUNCT punct\n",
            "es NOUN cc\n",
            "decir NOUN fixed\n",
            ", PUNCT punct\n",
            "de ADP case\n",
            "el DET det\n",
            "lengua NOUN conj\n",
            "del ADP case\n",
            "mundo NOUN nmod\n",
            ". PUNCT punct\n",
            "no ADV advmod\n",
            "tratar VERB ROOT\n",
            "de ADP case\n",
            "el DET det\n",
            "comunicación NOUN obj\n",
            "por ADP case\n",
            "medio NOUN fixed\n",
            "de ADP fixed\n",
            "lengua NOUN obl\n",
            "natural ADJ amod\n",
            "de ADP case\n",
            "uno DET det\n",
            "forma NOUN nmod\n",
            "abstracto ADJ amod\n",
            ", PUNCT punct\n",
            "sino CCONJ cc\n",
            "de ADP mark\n",
            "diseñar VERB conj\n",
            "mecanismo NOUN obj\n",
            "para ADP mark\n",
            "comunicar él VERB advcl\n",
            "que PRON nsubj\n",
            "ser AUX cop\n",
            "eficaz ADJ ccomp\n",
            "computacionalmente ADV advmod\n",
            "— PUNCT punct\n",
            "que SCONJ mark\n",
            "él PRON expl:pass\n",
            "poder AUX aux\n",
            "realizar VERB advcl\n",
            "por ADP case\n",
            "medio NOUN fixed\n",
            "de ADP fixed\n",
            "programa NOUN obl\n",
            "que PRON nsubj\n",
            "ejecutir VERB acl\n",
            "o CCONJ cc\n",
            "simulen VERB conj\n",
            "el DET det\n",
            "comunicación NOUN obj\n",
            "— PUNCT punct\n",
            ". PUNCT punct\n",
            "el DET det\n",
            "modelo NOUN nsubj\n",
            "aplicado ADJ amod\n",
            "él PRON expl:pv\n",
            "enfocar VERB ROOT\n",
            "no PART cc\n",
            "solo NOUN fixed\n",
            "a ADP case\n",
            "el DET det\n",
            "comprensión NOUN obl\n",
            "del ADP case\n",
            "lenguaje NOUN nmod\n",
            "de ADP case\n",
            "por ADP case\n",
            "él PRON nmod\n",
            ", PUNCT punct\n",
            "sino CCONJ cc\n",
            "a ADP case\n",
            "aspecto NOUN conj\n",
            "general ADJ amod\n",
            "cognitivo ADJ amod\n",
            "humano ADJ amod\n",
            "y CCONJ cc\n",
            "a ADP case\n",
            "el DET det\n",
            "organización NOUN conj\n",
            "de ADP case\n",
            "el DET det\n",
            "memoria NOUN nmod\n",
            ". PUNCT punct\n",
            "el DET det\n",
            "lenguaje NOUN nsubj\n",
            "natural ADJ amod\n",
            "servir VERB ROOT\n",
            "solo ADV obj\n",
            "de ADP case\n",
            "medio NOUN obj\n",
            "para ADP mark\n",
            "estudiar VERB xcomp\n",
            "este DET det\n",
            "fenómeno NOUN obj\n",
            ". PUNCT punct\n",
            "hasta ADP case\n",
            "el DET det\n",
            "década NOUN obl\n",
            "de ADP case\n",
            "1980 NOUN nmod\n",
            ", PUNCT punct\n",
            "el DET det\n",
            "mayoría NOUN nmod\n",
            "de ADP case\n",
            "el DET det\n",
            "sistema NOUN nsubj\n",
            "de ADP case\n",
            "PLN PROPN nmod\n",
            "él PRON expl:pv\n",
            "basar VERB ROOT\n",
            "en ADP case\n",
            "uno DET det\n",
            "complejo NOUN obl\n",
            "conjunto ADJ amod\n",
            "de ADP case\n",
            "regla NOUN nmod\n",
            "diseñado ADJ amod\n",
            "a ADP case\n",
            "mano NOUN obl\n",
            ". PUNCT punct\n",
            "a ADP case\n",
            "partir NOUN fixed\n",
            "de ADP fixed\n",
            "final NOUN obl\n",
            "de ADP case\n",
            "1980 NOUN nmod\n",
            ", PUNCT punct\n",
            "sin ADP advmod\n",
            "embargo NOUN fixed\n",
            ", PUNCT punct\n",
            "haber AUX ROOT\n",
            "uno DET det\n",
            "revolución NOUN obj\n",
            "en ADP case\n",
            "PLN PROPN nmod\n",
            "con ADP case\n",
            "el DET det\n",
            "introducción NOUN obl\n",
            "de ADP case\n",
            "algoritmo NOUN nmod\n",
            "de ADP case\n",
            "aprendizaje NOUN nmod\n",
            "automático ADJ amod\n",
            "para ADP case\n",
            "el DET det\n",
            "procesamiento NOUN nmod\n",
            "del ADP case\n",
            "lenguaje.5​6​ PROPN nmod\n",
            "\n",
            "\n",
            " SPACE dep\n",
            "Historia PROPN flat\n",
            "\n",
            " SPACE dep\n",
            "el DET det\n",
            "historia NOUN nsubj\n",
            "del ADP case\n",
            "PLN PROPN nmod\n",
            "empezar VERB acl\n",
            "desde ADP case\n",
            "1950 NOUN obl\n",
            ", PUNCT punct\n",
            "aunque SCONJ mark\n",
            "él PRON expl:pass\n",
            "haber AUX aux\n",
            "encontrar VERB advcl\n",
            "trabajo NOUN nsubj\n",
            "anterior ADJ amod\n",
            ". PUNCT punct\n",
            "en ADP case\n",
            "1950 NOUN obl\n",
            ", PUNCT punct\n",
            "Alan PROPN nsubj\n",
            "Turing PROPN flat\n",
            "publicar VERB ROOT\n",
            "Computing PROPN obj\n",
            "machinery PROPN flat\n",
            "and PROPN flat\n",
            "intelligence PROPN flat\n",
            ", PUNCT punct\n",
            "donde PRON obl\n",
            "proponer VERB acl\n",
            "él PRON det\n",
            "que PRON nsubj\n",
            "hoy ADV advmod\n",
            "él PRON expl:pv\n",
            "llamar VERB ccomp\n",
            "el DET det\n",
            "test NOUN obj\n",
            "de ADP case\n",
            "turing NOUN nmod\n",
            "como SCONJ mark\n",
            "criterio NOUN nmod\n",
            "de ADP case\n",
            "inteligencia NOUN nmod\n",
            ". PUNCT punct\n",
            "en ADP case\n",
            "1954 NOUN obl\n",
            ", PUNCT punct\n",
            "el DET det\n",
            "experimento NOUN nsubj\n",
            "de ADP case\n",
            "Georgetown PROPN nmod\n",
            "involucró VERB ROOT\n",
            "traducción NOUN obj\n",
            "automático ADJ amod\n",
            "de ADP case\n",
            "más ADV advmod\n",
            "de ADP case\n",
            "sesenta NUM nummod\n",
            "oración NOUN nmod\n",
            "del ADP case\n",
            "ruso NOUN nmod\n",
            "al ADP case\n",
            "inglés NOUN nmod\n",
            ". PUNCT punct\n",
            "el DET det\n",
            "autor NOUN nsubj\n",
            "sostener VERB ROOT\n",
            "que SCONJ mark\n",
            "en ADP case\n",
            "tres NUM nummod\n",
            "o CCONJ cc\n",
            "cinco NUM conj\n",
            "año NOUN obl\n",
            "el DET det\n",
            "traducción NOUN nsubj\n",
            "automático ADJ amod\n",
            "ser AUX cop\n",
            "uno DET det\n",
            "problema NOUN ccomp\n",
            "resuelto ADJ amod\n",
            ". PUNCT punct\n",
            "el DET det\n",
            "avance NOUN nsubj\n",
            "real ADJ amod\n",
            "en ADP case\n",
            "traducción NOUN nmod\n",
            "automático ADJ amod\n",
            "ser AUX cop\n",
            "más ADV advmod\n",
            "lento ADJ ROOT\n",
            ", PUNCT punct\n",
            "y CCONJ cc\n",
            "en ADP case\n",
            "1966 NOUN obl\n",
            "el DET det\n",
            "reporte NOUN nsubj\n",
            "ALPAC PROPN flat\n",
            "demostrar VERB conj\n",
            "que SCONJ mark\n",
            "el DET det\n",
            "investigación NOUN nsubj\n",
            "haber AUX aux\n",
            "tener VERB ccomp\n",
            "uno DET det\n",
            "bajo ADJ amod\n",
            "desempeño NOUN obj\n",
            ". PUNCT punct\n",
            "más ADV advmod\n",
            "tarde ADV advmod\n",
            ", PUNCT punct\n",
            "hasta ADP case\n",
            "final NOUN obl\n",
            "de ADP case\n",
            "1980 NOUN nmod\n",
            ", PUNCT punct\n",
            "él PRON expl:pv\n",
            "llevar VERB ROOT\n",
            "a ADP case\n",
            "cabo NOUN compound\n",
            "investigación NOUN obj\n",
            "a ADP case\n",
            "menor ADJ amod\n",
            "escala NOUN nmod\n",
            "en ADP case\n",
            "traducción NOUN nmod\n",
            "automático ADJ amod\n",
            ", PUNCT punct\n",
            "y CCONJ cc\n",
            "él PRON expl:pv\n",
            "desarrollar VERB conj\n",
            "el DET det\n",
            "primero ADJ amod\n",
            "sistema NOUN nsubj\n",
            "de ADP case\n",
            "traducción NOUN nmod\n",
            "automático ADJ amod\n",
            "estadístico ADJ amod\n",
            ". PUNCT punct\n",
            "este PRON nsubj\n",
            "él PRON expl:pv\n",
            "deber VERB ROOT\n",
            "tanto ADV advmod\n",
            "al ADP case\n",
            "aumento NOUN obj\n",
            "constante ADJ amod\n",
            "del ADP case\n",
            "poder NOUN nmod\n",
            "de ADP case\n",
            "cómputo NOUN nmod\n",
            "resultante ADJ amod\n",
            "de ADP case\n",
            "el DET det\n",
            "ley NOUN nmod\n",
            "de ADP case\n",
            "Moore PROPN nmod\n",
            "como SCONJ mark\n",
            "a ADP case\n",
            "el DET det\n",
            "disminución NOUN conj\n",
            "gradual ADJ amod\n",
            "del ADP case\n",
            "predominio NOUN nmod\n",
            "de ADP case\n",
            "el DET det\n",
            "teoría NOUN nmod\n",
            "lingüístico ADJ amod\n",
            "de ADP case\n",
            "Noam PROPN nmod\n",
            "Chomsky PROPN flat\n",
            "( PUNCT punct\n",
            "por ADP advmod\n",
            "ejemplo NOUN fixed\n",
            ", PUNCT punct\n",
            "el DET det\n",
            "gramática NOUN conj\n",
            "transformacional PROPN appos\n",
            ") PUNCT punct\n",
            ", PUNCT punct\n",
            "cuyo PRON nmod\n",
            "fundamento NOUN nsubj\n",
            "teórico ADJ amod\n",
            "desalentar VERB acl\n",
            "el DET det\n",
            "tipo NOUN obj\n",
            "de ADP case\n",
            "lingüística NOUN nmod\n",
            "de ADP case\n",
            "corpus NOUN nmod\n",
            ", PUNCT punct\n",
            "que PRON nsubj\n",
            "él PRON expl:pass\n",
            "basar VERB acl\n",
            "en ADP case\n",
            "el DET det\n",
            "enfoque NOUN obj\n",
            "de ADP case\n",
            "aprendizaje NOUN nmod\n",
            "de ADP case\n",
            "máquina NOUN nmod\n",
            "para ADP case\n",
            "el DET det\n",
            "procesamiento NOUN nmod\n",
            "del ADP case\n",
            "lenguaje NOUN nmod\n",
            ". PUNCT punct\n",
            "él PRON expl:pass\n",
            "usar VERB ROOT\n",
            "entonces ADV advmod\n",
            "el DET det\n",
            "primero ADJ amod\n",
            "algoritmo NOUN nsubj\n",
            "de ADP case\n",
            "aprendizaje NOUN nmod\n",
            "automático ADJ amod\n",
            ", PUNCT punct\n",
            "como SCONJ mark\n",
            "el DET det\n",
            "árbol NOUN nmod\n",
            "de ADP case\n",
            "decisión NOUN nmod\n",
            ", PUNCT punct\n",
            "sistema NOUN conj\n",
            "producido ADJ amod\n",
            "de ADP case\n",
            "sentencia NOUN obl\n",
            "si-entonz ADJ amod\n",
            "similar ADJ amod\n",
            "a ADP case\n",
            "el DET det\n",
            "regla NOUN nmod\n",
            "escrito ADJ amod\n",
            "a ADP case\n",
            "mano NOUN obl\n",
            ". PUNCT punct\n",
            "él PRON expl:pass\n",
            "poder AUX aux\n",
            "consultar VERB ROOT\n",
            "uno DET det\n",
            "resumen NOUN nsubj\n",
            "de ADP case\n",
            "el DET det\n",
            "historia NOUN nmod\n",
            "de ADP case\n",
            "50 NUM nummod\n",
            "año NOUN nmod\n",
            "de ADP case\n",
            "publicación NOUN nmod\n",
            "acerca ADV case\n",
            "del DET det\n",
            "procesamiento NOUN nmod\n",
            "automático ADJ amod\n",
            "después ADV advmod\n",
            "del ADP case\n",
            "proyecto NOUN obl\n",
            "nlp4nlp ADJ amod\n",
            "en ADP case\n",
            "uno DET det\n",
            "publicación NOUN obl\n",
            "doble ADJ amod\n",
            "en ADP case\n",
            "Frontiers PROPN nmod\n",
            "in ADP case\n",
            "Research PROPN nmod\n",
            "Metrics PROPN flat\n",
            "and PROPN flat\n",
            "analytics.7​8​ NUM appos\n",
            "\n",
            "\n",
            " SPACE dep\n",
            "dificultad NOUN nmod\n",
            "en ADP case\n",
            "el DET det\n",
            "procesamiento NOUN nmod\n",
            "de ADP case\n",
            "lenguaje NOUN nmod\n",
            "natural ADJ amod\n",
            "\n",
            " SPACE dep\n",
            "Ambigüedad PROPN appos\n",
            "\n",
            " SPACE dep\n",
            "el DET det\n",
            "lengua NOUN nsubj\n",
            "natural ADJ amod\n",
            "ser AUX cop\n",
            "inherentemente ADV conj\n",
            "ambiguo ADJ obj\n",
            "en ADP case\n",
            "diferente DET det\n",
            "nivel NOUN obl\n",
            ": PUNCT punct\n",
            "\n",
            "\n",
            " SPACE dep\n",
            "En ADP case\n",
            "el DET det\n",
            "nivel NOUN obl\n",
            "léxico ADJ amod\n",
            ", PUNCT punct\n",
            "uno DET det\n",
            "mismo DET det\n",
            "palabra NOUN nsubj\n",
            "poder AUX aux\n",
            "tener VERB xcomp\n",
            "varios DET det\n",
            "significado NOUN obj\n",
            ", PUNCT punct\n",
            "y CCONJ cc\n",
            "el DET det\n",
            "selección NOUN nsubj\n",
            "del ADP case\n",
            "apropiado ADJ amod\n",
            "él PRON expl:pass\n",
            "deber AUX aux\n",
            "deducir VERB conj\n",
            "a ADP case\n",
            "partir NOUN fixed\n",
            "del DET det\n",
            "contexto NOUN obl\n",
            "oracional ADJ amod\n",
            "o CCONJ cc\n",
            "conocimiento NOUN conj\n",
            "básico ADJ amod\n",
            ". PUNCT punct\n",
            "mucho DET det\n",
            "investigación NOUN nsubj\n",
            "en ADP case\n",
            "el DET det\n",
            "campo NOUN nmod\n",
            "del ADP case\n",
            "procesamiento NOUN nmod\n",
            "de ADP case\n",
            "lenguaje NOUN nmod\n",
            "natural ADJ amod\n",
            "haber AUX aux\n",
            "estudiar VERB ROOT\n",
            "método NOUN obj\n",
            "de ADP mark\n",
            "resolver VERB acl\n",
            "el DET det\n",
            "ambigüedad NOUN obj\n",
            "léxica ADJ amod\n",
            "mediante ADP case\n",
            "diccionario NOUN nmod\n",
            ", PUNCT punct\n",
            "gramática NOUN conj\n",
            ", PUNCT punct\n",
            "base NOUN conj\n",
            "de ADP case\n",
            "conocimiento NOUN nmod\n",
            "y CCONJ cc\n",
            "correlación NOUN conj\n",
            "estadístico ADJ amod\n",
            ". PUNCT punct\n",
            "\n",
            " SPACE dep\n",
            "A ADP case\n",
            "nivel NOUN obl\n",
            "referencial ADJ amod\n",
            ", PUNCT punct\n",
            "el DET det\n",
            "resolución NOUN nsubj\n",
            "de ADP case\n",
            "anáfora NOUN nmod\n",
            "y CCONJ cc\n",
            "catáfora ADJ conj\n",
            "implicar VERB conj\n",
            "determinar VERB xcomp\n",
            "el DET det\n",
            "entidad NOUN obj\n",
            "lingüístico ADJ amod\n",
            "previo ADJ amod\n",
            "o CCONJ cc\n",
            "posterior ADJ conj\n",
            "a ADP mark\n",
            "que SCONJ mark\n",
            "hacer VERB acl\n",
            "referencia NOUN obj\n",
            ". PUNCT punct\n",
            "\n",
            " SPACE dep\n",
            "en ADP case\n",
            "el DET det\n",
            "nivel NOUN obl\n",
            "estructural ADJ amod\n",
            ", PUNCT punct\n",
            "él PRON expl:pass\n",
            "requerir VERB ROOT\n",
            "de ADP case\n",
            "el DET det\n",
            "semántico ADJ obj\n",
            "para ADP mark\n",
            "desambiguar VERB acl\n",
            "el DET det\n",
            "dependencia NOUN obj\n",
            "de ADP case\n",
            "el DET det\n",
            "sintagma NOUN nmod\n",
            "preposicional ADJ amod\n",
            "que PRON nsubj\n",
            "conducir VERB acl\n",
            "a ADP case\n",
            "el DET det\n",
            "construcción NOUN obj\n",
            "de ADP case\n",
            "distinto DET det\n",
            "árbol NOUN nmod\n",
            "sintáctico ADJ amod\n",
            ". PUNCT punct\n",
            "por ADP advmod\n",
            "ejemplo NOUN fixed\n",
            ", PUNCT punct\n",
            "en ADP case\n",
            "el DET det\n",
            "frase NOUN obl\n",
            "romper VERB ROOT\n",
            "el DET det\n",
            "dibujo NOUN obj\n",
            "de ADP case\n",
            "uno DET det\n",
            "ataque NOUN nmod\n",
            "de ADP case\n",
            "nervio NOUN nmod\n",
            ". PUNCT punct\n",
            "\n",
            " SPACE dep\n",
            "en ADP case\n",
            "el DET det\n",
            "nivel NOUN obl\n",
            "pragmático ADJ amod\n",
            ", PUNCT punct\n",
            "uno DET det\n",
            "oración NOUN nsubj\n",
            ", PUNCT punct\n",
            "a ADP advmod\n",
            "menudo NOUN fixed\n",
            ", PUNCT punct\n",
            "no ADV advmod\n",
            "significar VERB ROOT\n",
            "él PRON det\n",
            "que PRON nsubj\n",
            "realmente ADV advmod\n",
            "él PRON expl:pass\n",
            "estar AUX aux\n",
            "decir VERB ccomp\n",
            ". PUNCT punct\n",
            "elemento NOUN nsubj\n",
            "tal DET amod\n",
            "como SCONJ mark\n",
            "el DET det\n",
            "ironía NOUN nmod\n",
            "tener VERB csubj\n",
            "uno DET det\n",
            "papel NOUN obj\n",
            "importante ADJ amod\n",
            "en ADP case\n",
            "el DET det\n",
            "interpretación NOUN obl\n",
            "del ADP case\n",
            "mensaje NOUN nmod\n",
            ". PUNCT punct\n",
            "\n",
            " SPACE dep\n",
            "Para ADP mark\n",
            "resolver VERB advcl\n",
            "este DET det\n",
            "tipo NOUN obj\n",
            "de ADP case\n",
            "ambigüedad NOUN nmod\n",
            "y CCONJ cc\n",
            "otro PRON conj\n",
            ", PUNCT punct\n",
            "el DET det\n",
            "problema NOUN appos\n",
            "central ADJ amod\n",
            "en ADP case\n",
            "el DET det\n",
            "PLN PROPN nmod\n",
            "ser AUX cop\n",
            "el DET det\n",
            "traducción NOUN ROOT\n",
            "de ADP case\n",
            "entrada NOUN nmod\n",
            "en ADP case\n",
            "lengua NOUN nmod\n",
            "natural ADJ amod\n",
            "a ADP case\n",
            "uno DET det\n",
            "representación NOUN nmod\n",
            "interno ADJ amod\n",
            "sin ADP case\n",
            "ambigüedad NOUN nmod\n",
            ", PUNCT punct\n",
            "como SCONJ mark\n",
            "árbol NOUN nmod\n",
            "de ADP case\n",
            "análisis NOUN nmod\n",
            ". PUNCT punct\n",
            "\n",
            "\n",
            " SPACE dep\n",
            "detección NOUN nsubj\n",
            "de ADP case\n",
            "separación NOUN nmod\n",
            "entre ADP case\n",
            "el DET det\n",
            "palabra NOUN nmod\n",
            "\n",
            " SPACE dep\n",
            "En ADP case\n",
            "el DET det\n",
            "lengua NOUN obl\n",
            "hablado ADJ amod\n",
            "no ADV advmod\n",
            "él PRON dep\n",
            "soler VERB ROOT\n",
            "hacer VERB xcomp\n",
            "pausa NOUN obj\n",
            "entre ADP case\n",
            "palabra NOUN obl\n",
            "y CCONJ cc\n",
            "palabra NOUN conj\n",
            ". PUNCT punct\n",
            "el DET det\n",
            "lugar NOUN nsubj\n",
            "en ADP case\n",
            "el DET det\n",
            "que PRON obl\n",
            "él PRON expl:pass\n",
            "deber AUX aux\n",
            "separar VERB acl\n",
            "el DET det\n",
            "palabra NOUN nsubj\n",
            "a ADP advmod\n",
            "menudo NOUN fixed\n",
            "depender VERB ROOT\n",
            "de ADP mark\n",
            "cuál PRON nsubj\n",
            "ser AUX cop\n",
            "el DET det\n",
            "posibilidad NOUN ccomp\n",
            "de ADP mark\n",
            "que SCONJ mark\n",
            "mantener VERB acl\n",
            "uno DET det\n",
            "sentido NOUN obj\n",
            "lógico ADJ amod\n",
            "tanto ADV cc\n",
            "gramatical ADJ amod\n",
            "como SCONJ cc\n",
            "contextual ADJ conj\n",
            ". PUNCT punct\n",
            "en ADP case\n",
            "el DET det\n",
            "lengua NOUN obl\n",
            "escrito ADJ amod\n",
            ", PUNCT punct\n",
            "lengua NOUN appos\n",
            "como SCONJ mark\n",
            "el DET det\n",
            "chino NOUN nmod\n",
            "mandarín ADJ amod\n",
            "tampoco ADV advmod\n",
            "tener VERB ROOT\n",
            "separación NOUN obj\n",
            "entre ADP case\n",
            "el DET det\n",
            "palabra NOUN nmod\n",
            ". PUNCT punct\n",
            "\n",
            "\n",
            " SPACE dep\n",
            "recepción NOUN ROOT\n",
            "imperfecto ADJ amod\n",
            "de ADP case\n",
            "dato NOUN nmod\n",
            "\n",
            " SPACE dep\n",
            "acento NOUN appos\n",
            "extranjero ADJ amod\n",
            ", PUNCT punct\n",
            "regionalismo NOUN conj\n",
            "o CCONJ cc\n",
            "dificultad NOUN conj\n",
            "en ADP case\n",
            "el DET det\n",
            "producción NOUN nmod\n",
            "del ADP case\n",
            "habla NOUN nmod\n",
            ", PUNCT punct\n",
            "error NOUN appos\n",
            "de ADP case\n",
            "mecanografiado ADJ nmod\n",
            "o CCONJ cc\n",
            "expresión NOUN conj\n",
            "no ADV advmod\n",
            "gramatical ADJ amod\n",
            ", PUNCT punct\n",
            "error NOUN conj\n",
            "en ADP case\n",
            "el DET det\n",
            "lectura NOUN nmod\n",
            "de ADP case\n",
            "texto NOUN nmod\n",
            "mediante ADP case\n",
            "ocr NOUN nmod\n",
            "\n",
            "\n",
            " SPACE dep\n",
            "Componentes PROPN flat\n",
            "\n",
            " SPACE dep\n",
            "Análisis PROPN nmod\n",
            "morfológico ADJ amod\n",
            ". PUNCT punct\n",
            "el DET det\n",
            "análisis NOUN ROOT\n",
            "de ADP case\n",
            "el DET det\n",
            "palabra NOUN nmod\n",
            "para ADP mark\n",
            "extraer VERB acl\n",
            "raíz NOUN obj\n",
            ", PUNCT punct\n",
            "rasgo NOUN conj\n",
            "flexivo ADJ amod\n",
            ", PUNCT punct\n",
            "unidad NOUN obj\n",
            "léxica ADJ amod\n",
            "compuesto ADJ amod\n",
            "y CCONJ cc\n",
            "otro DET det\n",
            "fenómeno NOUN conj\n",
            ". PUNCT punct\n",
            "\n",
            " SPACE dep\n",
            "análisis NOUN appos\n",
            "sintáctico ADJ flat\n",
            ". PUNCT punct\n",
            "el DET det\n",
            "análisis NOUN ROOT\n",
            "de ADP case\n",
            "el DET det\n",
            "estructura NOUN nmod\n",
            "sintáctico ADJ amod\n",
            "de ADP case\n",
            "el DET det\n",
            "frase NOUN nmod\n",
            "mediante ADP case\n",
            "uno DET det\n",
            "gramática NOUN nmod\n",
            "de ADP case\n",
            "el DET det\n",
            "lengua NOUN nmod\n",
            "en ADP case\n",
            "cuestión NOUN nmod\n",
            ". PUNCT punct\n",
            "\n",
            " SPACE dep\n",
            "análisis NOUN ROOT\n",
            "semántico ADJ amod\n",
            ". PUNCT punct\n",
            "el DET det\n",
            "extracción NOUN ROOT\n",
            "del ADP case\n",
            "significado NOUN nmod\n",
            "de ADP case\n",
            "el DET det\n",
            "frase NOUN nmod\n",
            ", PUNCT punct\n",
            "y CCONJ cc\n",
            "el DET det\n",
            "resolución NOUN conj\n",
            "de ADP case\n",
            "ambigüedad NOUN nmod\n",
            "léxica ADJ amod\n",
            "y CCONJ cc\n",
            "estructural ADJ conj\n",
            ". PUNCT punct\n",
            "\n",
            " SPACE dep\n",
            "análisis NOUN appos\n",
            "pragmático ADJ flat\n",
            ". PUNCT punct\n",
            "el DET det\n",
            "análisis NOUN ROOT\n",
            "del ADP case\n",
            "texto NOUN nmod\n",
            "más ADV advmod\n",
            "allá ADV advmod\n",
            "de ADP case\n",
            "el DET det\n",
            "límite NOUN obl\n",
            "de ADP case\n",
            "el DET det\n",
            "frase NOUN nmod\n",
            ", PUNCT punct\n",
            "por ADP advmod\n",
            "ejemplo NOUN fixed\n",
            ", PUNCT punct\n",
            "para ADP mark\n",
            "determinar VERB acl\n",
            "el DET det\n",
            "antecedente NOUN obj\n",
            "referencial ADJ amod\n",
            "de ADP case\n",
            "el DET det\n",
            "pronombr NOUN nmod\n",
            ". PUNCT punct\n",
            "\n",
            " SPACE dep\n",
            "Planificación PROPN appos\n",
            "de ADP case\n",
            "el DET det\n",
            "frase NOUN nmod\n",
            ". PUNCT punct\n",
            "estructurar VERB ROOT\n",
            "cada DET det\n",
            "frase NOUN obj\n",
            "del ADP case\n",
            "texto NOUN nmod\n",
            "con ADP mark\n",
            "el DET fixed\n",
            "fin NOUN fixed\n",
            "de ADP fixed\n",
            "expresar VERB advcl\n",
            "el DET det\n",
            "significado NOUN obj\n",
            "adecuado ADJ amod\n",
            ". PUNCT punct\n",
            "\n",
            " SPACE dep\n",
            "Generación PROPN ROOT\n",
            "de ADP case\n",
            "el DET det\n",
            "frase NOUN flat\n",
            ". PUNCT punct\n",
            "el DET det\n",
            "generación NOUN ROOT\n",
            "de ADP case\n",
            "el DET det\n",
            "cadena NOUN nmod\n",
            "lineal ADJ amod\n",
            "de ADP case\n",
            "palabra NOUN nmod\n",
            "a ADP case\n",
            "partir NOUN fixed\n",
            "de ADP fixed\n",
            "el DET det\n",
            "estructura NOUN nmod\n",
            "general ADJ amod\n",
            "de ADP case\n",
            "el DET det\n",
            "frase NOUN nmod\n",
            ", PUNCT punct\n",
            "con ADP case\n",
            "su DET det\n",
            "correspondiente ADJ amod\n",
            "flexión NOUN nmod\n",
            ", PUNCT punct\n",
            "concordancia NOUN conj\n",
            "y CCONJ cc\n",
            "restante ADJ amod\n",
            "fenómeno NOUN conj\n",
            "sintáctico ADJ amod\n",
            "y CCONJ cc\n",
            "morfológico ADJ conj\n",
            ". PUNCT punct\n"
          ]
        }
      ]
    },
    {
      "cell_type": "code",
      "source": [
        "adjs = []\n",
        "for token in document:\n",
        "    if token.pos_ == 'ADJ':\n",
        "        adjs.append(token.lemma_)\n"
      ],
      "metadata": {
        "id": "18g8iRsgZo4-"
      },
      "execution_count": null,
      "outputs": []
    },
    {
      "cell_type": "code",
      "source": [
        "print(adjs)"
      ],
      "metadata": {
        "colab": {
          "base_uri": "https://localhost:8080/"
        },
        "id": "d8YEjr1-ZrIb",
        "outputId": "beef683c-9598-4566-e3c5-d8693ccd98e2"
      },
      "execution_count": null,
      "outputs": [
        {
          "output_type": "stream",
          "name": "stdout",
          "text": [
            "['abreviado', 'natural', 'artificial', 'humano', 'eficaz', 'natural', 'natural', 'abstracto', 'eficaz', 'aplicado', 'general', 'cognitivo', 'humano', 'natural', 'conjunto', 'diseñado', 'automático', 'anterior', 'automático', 'automático', 'resuelto', 'real', 'automático', 'lento', 'bajo', 'menor', 'automático', 'primero', 'automático', 'estadístico', 'constante', 'resultante', 'gradual', 'lingüístico', 'teórico', 'primero', 'automático', 'producido', 'si-entonz', 'similar', 'escrito', 'automático', 'nlp4nlp', 'doble', 'natural', 'natural', 'ambiguo', 'léxico', 'apropiado', 'oracional', 'básico', 'natural', 'léxica', 'estadístico', 'referencial', 'catáfora', 'lingüístico', 'previo', 'posterior', 'estructural', 'semántico', 'preposicional', 'sintáctico', 'pragmático', 'importante', 'central', 'natural', 'interno', 'hablado', 'lógico', 'gramatical', 'contextual', 'escrito', 'mandarín', 'imperfecto', 'extranjero', 'mecanografiado', 'gramatical', 'morfológico', 'flexivo', 'léxica', 'compuesto', 'sintáctico', 'sintáctico', 'semántico', 'léxica', 'estructural', 'pragmático', 'referencial', 'adecuado', 'lineal', 'general', 'correspondiente', 'restante', 'sintáctico', 'morfológico']\n"
          ]
        }
      ]
    },
    {
      "cell_type": "code",
      "source": [
        "adjs_tally = Counter(adjs)\n",
        "adjs_tally"
      ],
      "metadata": {
        "colab": {
          "base_uri": "https://localhost:8080/"
        },
        "id": "r7ArPIvPaXSe",
        "outputId": "cf5903d5-ad1a-4e9a-8346-f40511b16d2f"
      },
      "execution_count": null,
      "outputs": [
        {
          "output_type": "execute_result",
          "data": {
            "text/plain": [
              "Counter({'abreviado': 1,\n",
              "         'natural': 8,\n",
              "         'artificial': 1,\n",
              "         'humano': 2,\n",
              "         'eficaz': 2,\n",
              "         'abstracto': 1,\n",
              "         'aplicado': 1,\n",
              "         'general': 2,\n",
              "         'cognitivo': 1,\n",
              "         'conjunto': 1,\n",
              "         'diseñado': 1,\n",
              "         'automático': 8,\n",
              "         'anterior': 1,\n",
              "         'resuelto': 1,\n",
              "         'real': 1,\n",
              "         'lento': 1,\n",
              "         'bajo': 1,\n",
              "         'menor': 1,\n",
              "         'primero': 2,\n",
              "         'estadístico': 2,\n",
              "         'constante': 1,\n",
              "         'resultante': 1,\n",
              "         'gradual': 1,\n",
              "         'lingüístico': 2,\n",
              "         'teórico': 1,\n",
              "         'producido': 1,\n",
              "         'si-entonz': 1,\n",
              "         'similar': 1,\n",
              "         'escrito': 2,\n",
              "         'nlp4nlp': 1,\n",
              "         'doble': 1,\n",
              "         'ambiguo': 1,\n",
              "         'léxico': 1,\n",
              "         'apropiado': 1,\n",
              "         'oracional': 1,\n",
              "         'básico': 1,\n",
              "         'léxica': 3,\n",
              "         'referencial': 2,\n",
              "         'catáfora': 1,\n",
              "         'previo': 1,\n",
              "         'posterior': 1,\n",
              "         'estructural': 2,\n",
              "         'semántico': 2,\n",
              "         'preposicional': 1,\n",
              "         'sintáctico': 4,\n",
              "         'pragmático': 2,\n",
              "         'importante': 1,\n",
              "         'central': 1,\n",
              "         'interno': 1,\n",
              "         'hablado': 1,\n",
              "         'lógico': 1,\n",
              "         'gramatical': 2,\n",
              "         'contextual': 1,\n",
              "         'mandarín': 1,\n",
              "         'imperfecto': 1,\n",
              "         'extranjero': 1,\n",
              "         'mecanografiado': 1,\n",
              "         'morfológico': 2,\n",
              "         'flexivo': 1,\n",
              "         'compuesto': 1,\n",
              "         'adecuado': 1,\n",
              "         'lineal': 1,\n",
              "         'correspondiente': 1,\n",
              "         'restante': 1})"
            ]
          },
          "metadata": {},
          "execution_count": 24
        }
      ]
    },
    {
      "cell_type": "code",
      "source": [
        "adjs_tally.most_common()\n"
      ],
      "metadata": {
        "colab": {
          "base_uri": "https://localhost:8080/"
        },
        "id": "cTsaTDCYac7c",
        "outputId": "2fb8479c-364b-4011-e889-db7c4f598378"
      },
      "execution_count": null,
      "outputs": [
        {
          "output_type": "execute_result",
          "data": {
            "text/plain": [
              "[('natural', 8),\n",
              " ('automático', 8),\n",
              " ('sintáctico', 4),\n",
              " ('léxica', 3),\n",
              " ('humano', 2),\n",
              " ('eficaz', 2),\n",
              " ('general', 2),\n",
              " ('primero', 2),\n",
              " ('estadístico', 2),\n",
              " ('lingüístico', 2),\n",
              " ('escrito', 2),\n",
              " ('referencial', 2),\n",
              " ('estructural', 2),\n",
              " ('semántico', 2),\n",
              " ('pragmático', 2),\n",
              " ('gramatical', 2),\n",
              " ('morfológico', 2),\n",
              " ('abreviado', 1),\n",
              " ('artificial', 1),\n",
              " ('abstracto', 1),\n",
              " ('aplicado', 1),\n",
              " ('cognitivo', 1),\n",
              " ('conjunto', 1),\n",
              " ('diseñado', 1),\n",
              " ('anterior', 1),\n",
              " ('resuelto', 1),\n",
              " ('real', 1),\n",
              " ('lento', 1),\n",
              " ('bajo', 1),\n",
              " ('menor', 1),\n",
              " ('constante', 1),\n",
              " ('resultante', 1),\n",
              " ('gradual', 1),\n",
              " ('teórico', 1),\n",
              " ('producido', 1),\n",
              " ('si-entonz', 1),\n",
              " ('similar', 1),\n",
              " ('nlp4nlp', 1),\n",
              " ('doble', 1),\n",
              " ('ambiguo', 1),\n",
              " ('léxico', 1),\n",
              " ('apropiado', 1),\n",
              " ('oracional', 1),\n",
              " ('básico', 1),\n",
              " ('catáfora', 1),\n",
              " ('previo', 1),\n",
              " ('posterior', 1),\n",
              " ('preposicional', 1),\n",
              " ('importante', 1),\n",
              " ('central', 1),\n",
              " ('interno', 1),\n",
              " ('hablado', 1),\n",
              " ('lógico', 1),\n",
              " ('contextual', 1),\n",
              " ('mandarín', 1),\n",
              " ('imperfecto', 1),\n",
              " ('extranjero', 1),\n",
              " ('mecanografiado', 1),\n",
              " ('flexivo', 1),\n",
              " ('compuesto', 1),\n",
              " ('adecuado', 1),\n",
              " ('lineal', 1),\n",
              " ('correspondiente', 1),\n",
              " ('restante', 1)]"
            ]
          },
          "metadata": {},
          "execution_count": 25
        }
      ]
    },
    {
      "cell_type": "code",
      "source": [
        "df = pd.DataFrame(adjs_tally.most_common(), columns=['adj', 'count'])\n",
        "df[:100]"
      ],
      "metadata": {
        "colab": {
          "base_uri": "https://localhost:8080/",
          "height": 423
        },
        "id": "kzDyPewmaiL3",
        "outputId": "1fdaa654-28d2-465e-d06a-c56f412e4cad"
      },
      "execution_count": null,
      "outputs": [
        {
          "output_type": "execute_result",
          "data": {
            "text/plain": [
              "                adj  count\n",
              "0           natural      8\n",
              "1        automático      8\n",
              "2        sintáctico      4\n",
              "3            léxica      3\n",
              "4            humano      2\n",
              "..              ...    ...\n",
              "59        compuesto      1\n",
              "60         adecuado      1\n",
              "61           lineal      1\n",
              "62  correspondiente      1\n",
              "63         restante      1\n",
              "\n",
              "[64 rows x 2 columns]"
            ],
            "text/html": [
              "\n",
              "  <div id=\"df-e50b90be-5717-4e8e-8849-ab935afc9c71\">\n",
              "    <div class=\"colab-df-container\">\n",
              "      <div>\n",
              "<style scoped>\n",
              "    .dataframe tbody tr th:only-of-type {\n",
              "        vertical-align: middle;\n",
              "    }\n",
              "\n",
              "    .dataframe tbody tr th {\n",
              "        vertical-align: top;\n",
              "    }\n",
              "\n",
              "    .dataframe thead th {\n",
              "        text-align: right;\n",
              "    }\n",
              "</style>\n",
              "<table border=\"1\" class=\"dataframe\">\n",
              "  <thead>\n",
              "    <tr style=\"text-align: right;\">\n",
              "      <th></th>\n",
              "      <th>adj</th>\n",
              "      <th>count</th>\n",
              "    </tr>\n",
              "  </thead>\n",
              "  <tbody>\n",
              "    <tr>\n",
              "      <th>0</th>\n",
              "      <td>natural</td>\n",
              "      <td>8</td>\n",
              "    </tr>\n",
              "    <tr>\n",
              "      <th>1</th>\n",
              "      <td>automático</td>\n",
              "      <td>8</td>\n",
              "    </tr>\n",
              "    <tr>\n",
              "      <th>2</th>\n",
              "      <td>sintáctico</td>\n",
              "      <td>4</td>\n",
              "    </tr>\n",
              "    <tr>\n",
              "      <th>3</th>\n",
              "      <td>léxica</td>\n",
              "      <td>3</td>\n",
              "    </tr>\n",
              "    <tr>\n",
              "      <th>4</th>\n",
              "      <td>humano</td>\n",
              "      <td>2</td>\n",
              "    </tr>\n",
              "    <tr>\n",
              "      <th>...</th>\n",
              "      <td>...</td>\n",
              "      <td>...</td>\n",
              "    </tr>\n",
              "    <tr>\n",
              "      <th>59</th>\n",
              "      <td>compuesto</td>\n",
              "      <td>1</td>\n",
              "    </tr>\n",
              "    <tr>\n",
              "      <th>60</th>\n",
              "      <td>adecuado</td>\n",
              "      <td>1</td>\n",
              "    </tr>\n",
              "    <tr>\n",
              "      <th>61</th>\n",
              "      <td>lineal</td>\n",
              "      <td>1</td>\n",
              "    </tr>\n",
              "    <tr>\n",
              "      <th>62</th>\n",
              "      <td>correspondiente</td>\n",
              "      <td>1</td>\n",
              "    </tr>\n",
              "    <tr>\n",
              "      <th>63</th>\n",
              "      <td>restante</td>\n",
              "      <td>1</td>\n",
              "    </tr>\n",
              "  </tbody>\n",
              "</table>\n",
              "<p>64 rows × 2 columns</p>\n",
              "</div>\n",
              "      <button class=\"colab-df-convert\" onclick=\"convertToInteractive('df-e50b90be-5717-4e8e-8849-ab935afc9c71')\"\n",
              "              title=\"Convert this dataframe to an interactive table.\"\n",
              "              style=\"display:none;\">\n",
              "        \n",
              "  <svg xmlns=\"http://www.w3.org/2000/svg\" height=\"24px\"viewBox=\"0 0 24 24\"\n",
              "       width=\"24px\">\n",
              "    <path d=\"M0 0h24v24H0V0z\" fill=\"none\"/>\n",
              "    <path d=\"M18.56 5.44l.94 2.06.94-2.06 2.06-.94-2.06-.94-.94-2.06-.94 2.06-2.06.94zm-11 1L8.5 8.5l.94-2.06 2.06-.94-2.06-.94L8.5 2.5l-.94 2.06-2.06.94zm10 10l.94 2.06.94-2.06 2.06-.94-2.06-.94-.94-2.06-.94 2.06-2.06.94z\"/><path d=\"M17.41 7.96l-1.37-1.37c-.4-.4-.92-.59-1.43-.59-.52 0-1.04.2-1.43.59L10.3 9.45l-7.72 7.72c-.78.78-.78 2.05 0 2.83L4 21.41c.39.39.9.59 1.41.59.51 0 1.02-.2 1.41-.59l7.78-7.78 2.81-2.81c.8-.78.8-2.07 0-2.86zM5.41 20L4 18.59l7.72-7.72 1.47 1.35L5.41 20z\"/>\n",
              "  </svg>\n",
              "      </button>\n",
              "      \n",
              "  <style>\n",
              "    .colab-df-container {\n",
              "      display:flex;\n",
              "      flex-wrap:wrap;\n",
              "      gap: 12px;\n",
              "    }\n",
              "\n",
              "    .colab-df-convert {\n",
              "      background-color: #E8F0FE;\n",
              "      border: none;\n",
              "      border-radius: 50%;\n",
              "      cursor: pointer;\n",
              "      display: none;\n",
              "      fill: #1967D2;\n",
              "      height: 32px;\n",
              "      padding: 0 0 0 0;\n",
              "      width: 32px;\n",
              "    }\n",
              "\n",
              "    .colab-df-convert:hover {\n",
              "      background-color: #E2EBFA;\n",
              "      box-shadow: 0px 1px 2px rgba(60, 64, 67, 0.3), 0px 1px 3px 1px rgba(60, 64, 67, 0.15);\n",
              "      fill: #174EA6;\n",
              "    }\n",
              "\n",
              "    [theme=dark] .colab-df-convert {\n",
              "      background-color: #3B4455;\n",
              "      fill: #D2E3FC;\n",
              "    }\n",
              "\n",
              "    [theme=dark] .colab-df-convert:hover {\n",
              "      background-color: #434B5C;\n",
              "      box-shadow: 0px 1px 3px 1px rgba(0, 0, 0, 0.15);\n",
              "      filter: drop-shadow(0px 1px 2px rgba(0, 0, 0, 0.3));\n",
              "      fill: #FFFFFF;\n",
              "    }\n",
              "  </style>\n",
              "\n",
              "      <script>\n",
              "        const buttonEl =\n",
              "          document.querySelector('#df-e50b90be-5717-4e8e-8849-ab935afc9c71 button.colab-df-convert');\n",
              "        buttonEl.style.display =\n",
              "          google.colab.kernel.accessAllowed ? 'block' : 'none';\n",
              "\n",
              "        async function convertToInteractive(key) {\n",
              "          const element = document.querySelector('#df-e50b90be-5717-4e8e-8849-ab935afc9c71');\n",
              "          const dataTable =\n",
              "            await google.colab.kernel.invokeFunction('convertToInteractive',\n",
              "                                                     [key], {});\n",
              "          if (!dataTable) return;\n",
              "\n",
              "          const docLinkHtml = 'Like what you see? Visit the ' +\n",
              "            '<a target=\"_blank\" href=https://colab.research.google.com/notebooks/data_table.ipynb>data table notebook</a>'\n",
              "            + ' to learn more about interactive tables.';\n",
              "          element.innerHTML = '';\n",
              "          dataTable['output_type'] = 'display_data';\n",
              "          await google.colab.output.renderOutput(dataTable, element);\n",
              "          const docLink = document.createElement('div');\n",
              "          docLink.innerHTML = docLinkHtml;\n",
              "          element.appendChild(docLink);\n",
              "        }\n",
              "      </script>\n",
              "    </div>\n",
              "  </div>\n",
              "  "
            ]
          },
          "metadata": {},
          "execution_count": 26
        }
      ]
    },
    {
      "cell_type": "code",
      "source": [
        "nouns = []\n",
        "for token in document:\n",
        "    if token.pos_ == 'NOUN':\n",
        "        nouns.append(token.lemma_)\n",
        "\n",
        "nouns_tally = Counter(nouns)\n",
        "\n",
        "df = pd.DataFrame(nouns_tally.most_common(), columns=['noun', 'count'])\n",
        "df[:100]"
      ],
      "metadata": {
        "colab": {
          "base_uri": "https://localhost:8080/",
          "height": 423
        },
        "id": "MlleTXvSamlJ",
        "outputId": "72228f20-19c1-49c7-8dd6-3c7a892663b7"
      },
      "execution_count": null,
      "outputs": [
        {
          "output_type": "execute_result",
          "data": {
            "text/plain": [
              "         noun  count\n",
              "0    lenguaje      8\n",
              "1      lengua      8\n",
              "2     palabra      8\n",
              "3       frase      8\n",
              "4    análisis      7\n",
              "..        ...    ...\n",
              "95    resumen      1\n",
              "96   proyecto      1\n",
              "97  selección      1\n",
              "98   contexto      1\n",
              "99     método      1\n",
              "\n",
              "[100 rows x 2 columns]"
            ],
            "text/html": [
              "\n",
              "  <div id=\"df-371cc091-b331-4ed9-98fd-375ceadcb1d5\">\n",
              "    <div class=\"colab-df-container\">\n",
              "      <div>\n",
              "<style scoped>\n",
              "    .dataframe tbody tr th:only-of-type {\n",
              "        vertical-align: middle;\n",
              "    }\n",
              "\n",
              "    .dataframe tbody tr th {\n",
              "        vertical-align: top;\n",
              "    }\n",
              "\n",
              "    .dataframe thead th {\n",
              "        text-align: right;\n",
              "    }\n",
              "</style>\n",
              "<table border=\"1\" class=\"dataframe\">\n",
              "  <thead>\n",
              "    <tr style=\"text-align: right;\">\n",
              "      <th></th>\n",
              "      <th>noun</th>\n",
              "      <th>count</th>\n",
              "    </tr>\n",
              "  </thead>\n",
              "  <tbody>\n",
              "    <tr>\n",
              "      <th>0</th>\n",
              "      <td>lenguaje</td>\n",
              "      <td>8</td>\n",
              "    </tr>\n",
              "    <tr>\n",
              "      <th>1</th>\n",
              "      <td>lengua</td>\n",
              "      <td>8</td>\n",
              "    </tr>\n",
              "    <tr>\n",
              "      <th>2</th>\n",
              "      <td>palabra</td>\n",
              "      <td>8</td>\n",
              "    </tr>\n",
              "    <tr>\n",
              "      <th>3</th>\n",
              "      <td>frase</td>\n",
              "      <td>8</td>\n",
              "    </tr>\n",
              "    <tr>\n",
              "      <th>4</th>\n",
              "      <td>análisis</td>\n",
              "      <td>7</td>\n",
              "    </tr>\n",
              "    <tr>\n",
              "      <th>...</th>\n",
              "      <td>...</td>\n",
              "      <td>...</td>\n",
              "    </tr>\n",
              "    <tr>\n",
              "      <th>95</th>\n",
              "      <td>resumen</td>\n",
              "      <td>1</td>\n",
              "    </tr>\n",
              "    <tr>\n",
              "      <th>96</th>\n",
              "      <td>proyecto</td>\n",
              "      <td>1</td>\n",
              "    </tr>\n",
              "    <tr>\n",
              "      <th>97</th>\n",
              "      <td>selección</td>\n",
              "      <td>1</td>\n",
              "    </tr>\n",
              "    <tr>\n",
              "      <th>98</th>\n",
              "      <td>contexto</td>\n",
              "      <td>1</td>\n",
              "    </tr>\n",
              "    <tr>\n",
              "      <th>99</th>\n",
              "      <td>método</td>\n",
              "      <td>1</td>\n",
              "    </tr>\n",
              "  </tbody>\n",
              "</table>\n",
              "<p>100 rows × 2 columns</p>\n",
              "</div>\n",
              "      <button class=\"colab-df-convert\" onclick=\"convertToInteractive('df-371cc091-b331-4ed9-98fd-375ceadcb1d5')\"\n",
              "              title=\"Convert this dataframe to an interactive table.\"\n",
              "              style=\"display:none;\">\n",
              "        \n",
              "  <svg xmlns=\"http://www.w3.org/2000/svg\" height=\"24px\"viewBox=\"0 0 24 24\"\n",
              "       width=\"24px\">\n",
              "    <path d=\"M0 0h24v24H0V0z\" fill=\"none\"/>\n",
              "    <path d=\"M18.56 5.44l.94 2.06.94-2.06 2.06-.94-2.06-.94-.94-2.06-.94 2.06-2.06.94zm-11 1L8.5 8.5l.94-2.06 2.06-.94-2.06-.94L8.5 2.5l-.94 2.06-2.06.94zm10 10l.94 2.06.94-2.06 2.06-.94-2.06-.94-.94-2.06-.94 2.06-2.06.94z\"/><path d=\"M17.41 7.96l-1.37-1.37c-.4-.4-.92-.59-1.43-.59-.52 0-1.04.2-1.43.59L10.3 9.45l-7.72 7.72c-.78.78-.78 2.05 0 2.83L4 21.41c.39.39.9.59 1.41.59.51 0 1.02-.2 1.41-.59l7.78-7.78 2.81-2.81c.8-.78.8-2.07 0-2.86zM5.41 20L4 18.59l7.72-7.72 1.47 1.35L5.41 20z\"/>\n",
              "  </svg>\n",
              "      </button>\n",
              "      \n",
              "  <style>\n",
              "    .colab-df-container {\n",
              "      display:flex;\n",
              "      flex-wrap:wrap;\n",
              "      gap: 12px;\n",
              "    }\n",
              "\n",
              "    .colab-df-convert {\n",
              "      background-color: #E8F0FE;\n",
              "      border: none;\n",
              "      border-radius: 50%;\n",
              "      cursor: pointer;\n",
              "      display: none;\n",
              "      fill: #1967D2;\n",
              "      height: 32px;\n",
              "      padding: 0 0 0 0;\n",
              "      width: 32px;\n",
              "    }\n",
              "\n",
              "    .colab-df-convert:hover {\n",
              "      background-color: #E2EBFA;\n",
              "      box-shadow: 0px 1px 2px rgba(60, 64, 67, 0.3), 0px 1px 3px 1px rgba(60, 64, 67, 0.15);\n",
              "      fill: #174EA6;\n",
              "    }\n",
              "\n",
              "    [theme=dark] .colab-df-convert {\n",
              "      background-color: #3B4455;\n",
              "      fill: #D2E3FC;\n",
              "    }\n",
              "\n",
              "    [theme=dark] .colab-df-convert:hover {\n",
              "      background-color: #434B5C;\n",
              "      box-shadow: 0px 1px 3px 1px rgba(0, 0, 0, 0.15);\n",
              "      filter: drop-shadow(0px 1px 2px rgba(0, 0, 0, 0.3));\n",
              "      fill: #FFFFFF;\n",
              "    }\n",
              "  </style>\n",
              "\n",
              "      <script>\n",
              "        const buttonEl =\n",
              "          document.querySelector('#df-371cc091-b331-4ed9-98fd-375ceadcb1d5 button.colab-df-convert');\n",
              "        buttonEl.style.display =\n",
              "          google.colab.kernel.accessAllowed ? 'block' : 'none';\n",
              "\n",
              "        async function convertToInteractive(key) {\n",
              "          const element = document.querySelector('#df-371cc091-b331-4ed9-98fd-375ceadcb1d5');\n",
              "          const dataTable =\n",
              "            await google.colab.kernel.invokeFunction('convertToInteractive',\n",
              "                                                     [key], {});\n",
              "          if (!dataTable) return;\n",
              "\n",
              "          const docLinkHtml = 'Like what you see? Visit the ' +\n",
              "            '<a target=\"_blank\" href=https://colab.research.google.com/notebooks/data_table.ipynb>data table notebook</a>'\n",
              "            + ' to learn more about interactive tables.';\n",
              "          element.innerHTML = '';\n",
              "          dataTable['output_type'] = 'display_data';\n",
              "          await google.colab.output.renderOutput(dataTable, element);\n",
              "          const docLink = document.createElement('div');\n",
              "          docLink.innerHTML = docLinkHtml;\n",
              "          element.appendChild(docLink);\n",
              "        }\n",
              "      </script>\n",
              "    </div>\n",
              "  </div>\n",
              "  "
            ]
          },
          "metadata": {},
          "execution_count": 27
        }
      ]
    },
    {
      "cell_type": "code",
      "source": [
        "verbs = [token.lemma_ for token in document if token.pos_ == 'VERB']\n",
        "\n",
        "verbs_tally = Counter(verbs)\n",
        "\n",
        "df = pd.DataFrame(verbs_tally.most_common(), columns=['verb', 'count'])\n",
        "df[:100]"
      ],
      "metadata": {
        "colab": {
          "base_uri": "https://localhost:8080/",
          "height": 1000
        },
        "id": "hZzD1G_8avCj",
        "outputId": "7384464c-b221-4ee0-9540-8b7ff12bc7a8"
      },
      "execution_count": null,
      "outputs": [
        {
          "output_type": "execute_result",
          "data": {
            "text/plain": [
              "            verb  count\n",
              "0          tener      4\n",
              "1       estudiar      3\n",
              "2          basar      2\n",
              "3       resolver      2\n",
              "4     determinar      2\n",
              "5          hacer      2\n",
              "6        pln3​4​      1\n",
              "7         ocupar      1\n",
              "8         tratar      1\n",
              "9        diseñar      1\n",
              "10  comunicar él      1\n",
              "11      realizar      1\n",
              "12      ejecutir      1\n",
              "13       simulen      1\n",
              "14       enfocar      1\n",
              "15        servir      1\n",
              "16       empezar      1\n",
              "17     encontrar      1\n",
              "18      publicar      1\n",
              "19      proponer      1\n",
              "20        llamar      1\n",
              "21     involucró      1\n",
              "22      sostener      1\n",
              "23     demostrar      1\n",
              "24        llevar      1\n",
              "25   desarrollar      1\n",
              "26         deber      1\n",
              "27    desalentar      1\n",
              "28          usar      1\n",
              "29     consultar      1\n",
              "30       deducir      1\n",
              "31      implicar      1\n",
              "32      requerir      1\n",
              "33   desambiguar      1\n",
              "34      conducir      1\n",
              "35        romper      1\n",
              "36    significar      1\n",
              "37         decir      1\n",
              "38         soler      1\n",
              "39       separar      1\n",
              "40      depender      1\n",
              "41      mantener      1\n",
              "42       extraer      1\n",
              "43   estructurar      1\n",
              "44      expresar      1"
            ],
            "text/html": [
              "\n",
              "  <div id=\"df-101faec7-af4b-4c5b-8beb-390832171058\">\n",
              "    <div class=\"colab-df-container\">\n",
              "      <div>\n",
              "<style scoped>\n",
              "    .dataframe tbody tr th:only-of-type {\n",
              "        vertical-align: middle;\n",
              "    }\n",
              "\n",
              "    .dataframe tbody tr th {\n",
              "        vertical-align: top;\n",
              "    }\n",
              "\n",
              "    .dataframe thead th {\n",
              "        text-align: right;\n",
              "    }\n",
              "</style>\n",
              "<table border=\"1\" class=\"dataframe\">\n",
              "  <thead>\n",
              "    <tr style=\"text-align: right;\">\n",
              "      <th></th>\n",
              "      <th>verb</th>\n",
              "      <th>count</th>\n",
              "    </tr>\n",
              "  </thead>\n",
              "  <tbody>\n",
              "    <tr>\n",
              "      <th>0</th>\n",
              "      <td>tener</td>\n",
              "      <td>4</td>\n",
              "    </tr>\n",
              "    <tr>\n",
              "      <th>1</th>\n",
              "      <td>estudiar</td>\n",
              "      <td>3</td>\n",
              "    </tr>\n",
              "    <tr>\n",
              "      <th>2</th>\n",
              "      <td>basar</td>\n",
              "      <td>2</td>\n",
              "    </tr>\n",
              "    <tr>\n",
              "      <th>3</th>\n",
              "      <td>resolver</td>\n",
              "      <td>2</td>\n",
              "    </tr>\n",
              "    <tr>\n",
              "      <th>4</th>\n",
              "      <td>determinar</td>\n",
              "      <td>2</td>\n",
              "    </tr>\n",
              "    <tr>\n",
              "      <th>5</th>\n",
              "      <td>hacer</td>\n",
              "      <td>2</td>\n",
              "    </tr>\n",
              "    <tr>\n",
              "      <th>6</th>\n",
              "      <td>pln3​4​</td>\n",
              "      <td>1</td>\n",
              "    </tr>\n",
              "    <tr>\n",
              "      <th>7</th>\n",
              "      <td>ocupar</td>\n",
              "      <td>1</td>\n",
              "    </tr>\n",
              "    <tr>\n",
              "      <th>8</th>\n",
              "      <td>tratar</td>\n",
              "      <td>1</td>\n",
              "    </tr>\n",
              "    <tr>\n",
              "      <th>9</th>\n",
              "      <td>diseñar</td>\n",
              "      <td>1</td>\n",
              "    </tr>\n",
              "    <tr>\n",
              "      <th>10</th>\n",
              "      <td>comunicar él</td>\n",
              "      <td>1</td>\n",
              "    </tr>\n",
              "    <tr>\n",
              "      <th>11</th>\n",
              "      <td>realizar</td>\n",
              "      <td>1</td>\n",
              "    </tr>\n",
              "    <tr>\n",
              "      <th>12</th>\n",
              "      <td>ejecutir</td>\n",
              "      <td>1</td>\n",
              "    </tr>\n",
              "    <tr>\n",
              "      <th>13</th>\n",
              "      <td>simulen</td>\n",
              "      <td>1</td>\n",
              "    </tr>\n",
              "    <tr>\n",
              "      <th>14</th>\n",
              "      <td>enfocar</td>\n",
              "      <td>1</td>\n",
              "    </tr>\n",
              "    <tr>\n",
              "      <th>15</th>\n",
              "      <td>servir</td>\n",
              "      <td>1</td>\n",
              "    </tr>\n",
              "    <tr>\n",
              "      <th>16</th>\n",
              "      <td>empezar</td>\n",
              "      <td>1</td>\n",
              "    </tr>\n",
              "    <tr>\n",
              "      <th>17</th>\n",
              "      <td>encontrar</td>\n",
              "      <td>1</td>\n",
              "    </tr>\n",
              "    <tr>\n",
              "      <th>18</th>\n",
              "      <td>publicar</td>\n",
              "      <td>1</td>\n",
              "    </tr>\n",
              "    <tr>\n",
              "      <th>19</th>\n",
              "      <td>proponer</td>\n",
              "      <td>1</td>\n",
              "    </tr>\n",
              "    <tr>\n",
              "      <th>20</th>\n",
              "      <td>llamar</td>\n",
              "      <td>1</td>\n",
              "    </tr>\n",
              "    <tr>\n",
              "      <th>21</th>\n",
              "      <td>involucró</td>\n",
              "      <td>1</td>\n",
              "    </tr>\n",
              "    <tr>\n",
              "      <th>22</th>\n",
              "      <td>sostener</td>\n",
              "      <td>1</td>\n",
              "    </tr>\n",
              "    <tr>\n",
              "      <th>23</th>\n",
              "      <td>demostrar</td>\n",
              "      <td>1</td>\n",
              "    </tr>\n",
              "    <tr>\n",
              "      <th>24</th>\n",
              "      <td>llevar</td>\n",
              "      <td>1</td>\n",
              "    </tr>\n",
              "    <tr>\n",
              "      <th>25</th>\n",
              "      <td>desarrollar</td>\n",
              "      <td>1</td>\n",
              "    </tr>\n",
              "    <tr>\n",
              "      <th>26</th>\n",
              "      <td>deber</td>\n",
              "      <td>1</td>\n",
              "    </tr>\n",
              "    <tr>\n",
              "      <th>27</th>\n",
              "      <td>desalentar</td>\n",
              "      <td>1</td>\n",
              "    </tr>\n",
              "    <tr>\n",
              "      <th>28</th>\n",
              "      <td>usar</td>\n",
              "      <td>1</td>\n",
              "    </tr>\n",
              "    <tr>\n",
              "      <th>29</th>\n",
              "      <td>consultar</td>\n",
              "      <td>1</td>\n",
              "    </tr>\n",
              "    <tr>\n",
              "      <th>30</th>\n",
              "      <td>deducir</td>\n",
              "      <td>1</td>\n",
              "    </tr>\n",
              "    <tr>\n",
              "      <th>31</th>\n",
              "      <td>implicar</td>\n",
              "      <td>1</td>\n",
              "    </tr>\n",
              "    <tr>\n",
              "      <th>32</th>\n",
              "      <td>requerir</td>\n",
              "      <td>1</td>\n",
              "    </tr>\n",
              "    <tr>\n",
              "      <th>33</th>\n",
              "      <td>desambiguar</td>\n",
              "      <td>1</td>\n",
              "    </tr>\n",
              "    <tr>\n",
              "      <th>34</th>\n",
              "      <td>conducir</td>\n",
              "      <td>1</td>\n",
              "    </tr>\n",
              "    <tr>\n",
              "      <th>35</th>\n",
              "      <td>romper</td>\n",
              "      <td>1</td>\n",
              "    </tr>\n",
              "    <tr>\n",
              "      <th>36</th>\n",
              "      <td>significar</td>\n",
              "      <td>1</td>\n",
              "    </tr>\n",
              "    <tr>\n",
              "      <th>37</th>\n",
              "      <td>decir</td>\n",
              "      <td>1</td>\n",
              "    </tr>\n",
              "    <tr>\n",
              "      <th>38</th>\n",
              "      <td>soler</td>\n",
              "      <td>1</td>\n",
              "    </tr>\n",
              "    <tr>\n",
              "      <th>39</th>\n",
              "      <td>separar</td>\n",
              "      <td>1</td>\n",
              "    </tr>\n",
              "    <tr>\n",
              "      <th>40</th>\n",
              "      <td>depender</td>\n",
              "      <td>1</td>\n",
              "    </tr>\n",
              "    <tr>\n",
              "      <th>41</th>\n",
              "      <td>mantener</td>\n",
              "      <td>1</td>\n",
              "    </tr>\n",
              "    <tr>\n",
              "      <th>42</th>\n",
              "      <td>extraer</td>\n",
              "      <td>1</td>\n",
              "    </tr>\n",
              "    <tr>\n",
              "      <th>43</th>\n",
              "      <td>estructurar</td>\n",
              "      <td>1</td>\n",
              "    </tr>\n",
              "    <tr>\n",
              "      <th>44</th>\n",
              "      <td>expresar</td>\n",
              "      <td>1</td>\n",
              "    </tr>\n",
              "  </tbody>\n",
              "</table>\n",
              "</div>\n",
              "      <button class=\"colab-df-convert\" onclick=\"convertToInteractive('df-101faec7-af4b-4c5b-8beb-390832171058')\"\n",
              "              title=\"Convert this dataframe to an interactive table.\"\n",
              "              style=\"display:none;\">\n",
              "        \n",
              "  <svg xmlns=\"http://www.w3.org/2000/svg\" height=\"24px\"viewBox=\"0 0 24 24\"\n",
              "       width=\"24px\">\n",
              "    <path d=\"M0 0h24v24H0V0z\" fill=\"none\"/>\n",
              "    <path d=\"M18.56 5.44l.94 2.06.94-2.06 2.06-.94-2.06-.94-.94-2.06-.94 2.06-2.06.94zm-11 1L8.5 8.5l.94-2.06 2.06-.94-2.06-.94L8.5 2.5l-.94 2.06-2.06.94zm10 10l.94 2.06.94-2.06 2.06-.94-2.06-.94-.94-2.06-.94 2.06-2.06.94z\"/><path d=\"M17.41 7.96l-1.37-1.37c-.4-.4-.92-.59-1.43-.59-.52 0-1.04.2-1.43.59L10.3 9.45l-7.72 7.72c-.78.78-.78 2.05 0 2.83L4 21.41c.39.39.9.59 1.41.59.51 0 1.02-.2 1.41-.59l7.78-7.78 2.81-2.81c.8-.78.8-2.07 0-2.86zM5.41 20L4 18.59l7.72-7.72 1.47 1.35L5.41 20z\"/>\n",
              "  </svg>\n",
              "      </button>\n",
              "      \n",
              "  <style>\n",
              "    .colab-df-container {\n",
              "      display:flex;\n",
              "      flex-wrap:wrap;\n",
              "      gap: 12px;\n",
              "    }\n",
              "\n",
              "    .colab-df-convert {\n",
              "      background-color: #E8F0FE;\n",
              "      border: none;\n",
              "      border-radius: 50%;\n",
              "      cursor: pointer;\n",
              "      display: none;\n",
              "      fill: #1967D2;\n",
              "      height: 32px;\n",
              "      padding: 0 0 0 0;\n",
              "      width: 32px;\n",
              "    }\n",
              "\n",
              "    .colab-df-convert:hover {\n",
              "      background-color: #E2EBFA;\n",
              "      box-shadow: 0px 1px 2px rgba(60, 64, 67, 0.3), 0px 1px 3px 1px rgba(60, 64, 67, 0.15);\n",
              "      fill: #174EA6;\n",
              "    }\n",
              "\n",
              "    [theme=dark] .colab-df-convert {\n",
              "      background-color: #3B4455;\n",
              "      fill: #D2E3FC;\n",
              "    }\n",
              "\n",
              "    [theme=dark] .colab-df-convert:hover {\n",
              "      background-color: #434B5C;\n",
              "      box-shadow: 0px 1px 3px 1px rgba(0, 0, 0, 0.15);\n",
              "      filter: drop-shadow(0px 1px 2px rgba(0, 0, 0, 0.3));\n",
              "      fill: #FFFFFF;\n",
              "    }\n",
              "  </style>\n",
              "\n",
              "      <script>\n",
              "        const buttonEl =\n",
              "          document.querySelector('#df-101faec7-af4b-4c5b-8beb-390832171058 button.colab-df-convert');\n",
              "        buttonEl.style.display =\n",
              "          google.colab.kernel.accessAllowed ? 'block' : 'none';\n",
              "\n",
              "        async function convertToInteractive(key) {\n",
              "          const element = document.querySelector('#df-101faec7-af4b-4c5b-8beb-390832171058');\n",
              "          const dataTable =\n",
              "            await google.colab.kernel.invokeFunction('convertToInteractive',\n",
              "                                                     [key], {});\n",
              "          if (!dataTable) return;\n",
              "\n",
              "          const docLinkHtml = 'Like what you see? Visit the ' +\n",
              "            '<a target=\"_blank\" href=https://colab.research.google.com/notebooks/data_table.ipynb>data table notebook</a>'\n",
              "            + ' to learn more about interactive tables.';\n",
              "          element.innerHTML = '';\n",
              "          dataTable['output_type'] = 'display_data';\n",
              "          await google.colab.output.renderOutput(dataTable, element);\n",
              "          const docLink = document.createElement('div');\n",
              "          docLink.innerHTML = docLinkHtml;\n",
              "          element.appendChild(docLink);\n",
              "        }\n",
              "      </script>\n",
              "    </div>\n",
              "  </div>\n",
              "  "
            ]
          },
          "metadata": {},
          "execution_count": 28
        }
      ]
    },
    {
      "cell_type": "code",
      "source": [
        "import re\n",
        "from IPython.display import Markdown, display"
      ],
      "metadata": {
        "id": "tUsBmFeAaxje"
      },
      "execution_count": null,
      "outputs": []
    },
    {
      "cell_type": "code",
      "source": [
        "#Make a list of tokens and POS labels from document if the token is a word\n",
        "tokens_and_labels = [(token.text, token.pos_) for token in document if token.is_alpha]"
      ],
      "metadata": {
        "id": "hUnvOR-ecFPu"
      },
      "execution_count": null,
      "outputs": []
    },
    {
      "cell_type": "code",
      "source": [
        "#Make a function to get all two-word combinations\n",
        "def get_bigrams(word_list, number_consecutive_words=2):\n",
        "\n",
        "    ngrams = []\n",
        "    adj_length_of_word_list = len(word_list) - (number_consecutive_words - 1)\n",
        "\n",
        "    #Loop through numbers from 0 to the (slightly adjusted) length of your word list\n",
        "    for word_index in range(adj_length_of_word_list):\n",
        "\n",
        "        #Index the list at each number, grabbing the word at that number index as well as N number of words after it\n",
        "        ngram = word_list[word_index : word_index + number_consecutive_words]\n",
        "\n",
        "        #Append this word combo to the master list \"ngrams\"\n",
        "        ngrams.append(ngram)\n",
        "\n",
        "    return ngrams"
      ],
      "metadata": {
        "id": "FPExPhBFcJYU"
      },
      "execution_count": null,
      "outputs": []
    },
    {
      "cell_type": "code",
      "source": [
        "bigrams = get_bigrams(tokens_and_labels)"
      ],
      "metadata": {
        "id": "Mj6KMILicOM5"
      },
      "execution_count": null,
      "outputs": []
    },
    {
      "cell_type": "code",
      "source": [
        "bigrams[5:20]"
      ],
      "metadata": {
        "colab": {
          "base_uri": "https://localhost:8080/"
        },
        "id": "oP6-Ub4lcUNu",
        "outputId": "2e7fb1d8-6b4e-41d0-817e-a69fae9a98b0"
      },
      "execution_count": null,
      "outputs": [
        {
          "output_type": "execute_result",
          "data": {
            "text/plain": [
              "[[('en', 'ADP'), ('inglés', 'NOUN')],\n",
              " [('inglés', 'NOUN'), ('natural', 'ADJ')],\n",
              " [('natural', 'ADJ'), ('language', 'PROPN')],\n",
              " [('language', 'PROPN'), ('processing', 'PROPN')],\n",
              " [('processing', 'PROPN'), ('NLP', 'PROPN')],\n",
              " [('NLP', 'PROPN'), ('es', 'AUX')],\n",
              " [('es', 'AUX'), ('un', 'DET')],\n",
              " [('un', 'DET'), ('campo', 'NOUN')],\n",
              " [('campo', 'NOUN'), ('de', 'ADP')],\n",
              " [('de', 'ADP'), ('las', 'DET')],\n",
              " [('las', 'DET'), ('ciencias', 'NOUN')],\n",
              " [('ciencias', 'NOUN'), ('de', 'ADP')],\n",
              " [('de', 'ADP'), ('la', 'DET')],\n",
              " [('la', 'DET'), ('computación', 'NOUN')],\n",
              " [('computación', 'NOUN'), ('de', 'ADP')]]"
            ]
          },
          "metadata": {},
          "execution_count": 42
        }
      ]
    },
    {
      "cell_type": "code",
      "source": [
        "def get_neighbor_words(keyword, bigrams, pos_label = None):\n",
        "\n",
        "    neighbor_words = []\n",
        "    keyword = keyword.lower()\n",
        "\n",
        "    for bigram in bigrams:\n",
        "\n",
        "        #Extract just the lowercased words (not the labels) for each bigram\n",
        "        words = [word.lower() for word, label in bigram]\n",
        "\n",
        "        #Check to see if keyword is in the bigram\n",
        "        if keyword in words:\n",
        "\n",
        "            for word, label in bigram:\n",
        "\n",
        "                #Now focus on the neighbor word, not the keyword\n",
        "                if word.lower() != keyword:\n",
        "                    #If the neighbor word matches the right pos_label, append it to the master list\n",
        "                    if label == pos_label or pos_label == None:\n",
        "                        neighbor_words.append(word.lower())\n",
        "\n",
        "    return Counter(neighbor_words).most_common()"
      ],
      "metadata": {
        "id": "a3E-g4G0cbqH"
      },
      "execution_count": null,
      "outputs": []
    },
    {
      "cell_type": "code",
      "source": [
        "get_neighbor_words(\"lenguaje\", bigrams)"
      ],
      "metadata": {
        "colab": {
          "base_uri": "https://localhost:8080/"
        },
        "id": "-UkP-ZFwccpq",
        "outputId": "ba580ad8-22e4-4e8e-c3f3-a024cfbbaa15"
      },
      "execution_count": null,
      "outputs": [
        {
          "output_type": "execute_result",
          "data": {
            "text/plain": [
              "[('de', 3),\n",
              " ('del', 3),\n",
              " ('natural', 3),\n",
              " ('el', 2),\n",
              " ('abreviado', 1),\n",
              " ('humano', 1),\n",
              " ('se', 1)]"
            ]
          },
          "metadata": {},
          "execution_count": 45
        }
      ]
    }
  ]
}